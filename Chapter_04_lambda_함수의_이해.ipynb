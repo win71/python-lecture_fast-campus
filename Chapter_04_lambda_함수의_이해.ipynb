{
  "nbformat": 4,
  "nbformat_minor": 0,
  "metadata": {
    "kernelspec": {
      "display_name": "Python 3",
      "language": "python",
      "name": "python3"
    },
    "language_info": {
      "codemirror_mode": {
        "name": "ipython",
        "version": 3
      },
      "file_extension": ".py",
      "mimetype": "text/x-python",
      "name": "python",
      "nbconvert_exporter": "python",
      "pygments_lexer": "ipython3",
      "version": "3.6.5"
    },
    "colab": {
      "name": "Chapter 04 - lambda 함수의 이해.ipynb",
      "version": "0.3.2",
      "provenance": [],
      "include_colab_link": true
    }
  },
  "cells": [
    {
      "cell_type": "markdown",
      "metadata": {
        "id": "view-in-github",
        "colab_type": "text"
      },
      "source": [
        "<a href=\"https://colab.research.google.com/github/win71/python-lecture_fast-campus/blob/master/Chapter_04_lambda_%ED%95%A8%EC%88%98%EC%9D%98_%EC%9D%B4%ED%95%B4.ipynb\" target=\"_parent\"><img src=\"https://colab.research.google.com/assets/colab-badge.svg\" alt=\"Open In Colab\"/></a>"
      ]
    },
    {
      "cell_type": "markdown",
      "metadata": {
        "id": "TJ_ZGKEA1ZdY",
        "colab_type": "text"
      },
      "source": [
        "\n",
        "\n",
        "### 학습목표\n",
        " 2. Lambda 함수 이해 및 사용"
      ]
    },
    {
      "cell_type": "markdown",
      "metadata": {
        "id": "zpWgrYWI1Zda",
        "colab_type": "text"
      },
      "source": [
        "* **Lambda 함수**\n",
        " + 단일문으로 표현되는 익명함수\n",
        " + 익명함수란 이름이 없는 구현체만 존재하는 간단한 함수를 의미\n",
        " + 코드 상에서 한번만 사용되는 기능이 있을 때, 굳이 함수로 만들지 않고 1회성으로 만들어서 쓸 때 사용."
      ]
    },
    {
      "cell_type": "code",
      "metadata": {
        "id": "NcOo9Ok91Zdb",
        "colab_type": "code",
        "colab": {
          "base_uri": "https://localhost:8080/",
          "height": 35
        },
        "outputId": "ddd250a6-274a-42ad-f8d3-110f41a75e99"
      },
      "source": [
        "s=lambda x:x**2\n",
        "\n",
        "s(9)\n",
        "## 람다함수에는 return 사용하지 않는다. "
      ],
      "execution_count": 5,
      "outputs": [
        {
          "output_type": "execute_result",
          "data": {
            "text/plain": [
              "81"
            ]
          },
          "metadata": {
            "tags": []
          },
          "execution_count": 5
        }
      ]
    },
    {
      "cell_type": "code",
      "metadata": {
        "id": "pFF4uwLEaXAb",
        "colab_type": "code",
        "colab": {
          "base_uri": "https://localhost:8080/",
          "height": 35
        },
        "outputId": "a321d190-7c41-49f5-ccce-73e2a5819261"
      },
      "source": [
        "def s2(x):\n",
        "    return x**2\n",
        "\n",
        "s2(9)"
      ],
      "execution_count": 6,
      "outputs": [
        {
          "output_type": "execute_result",
          "data": {
            "text/plain": [
              "81"
            ]
          },
          "metadata": {
            "tags": []
          },
          "execution_count": 6
        }
      ]
    },
    {
      "cell_type": "code",
      "metadata": {
        "id": "MIwKSvETaWuV",
        "colab_type": "code",
        "colab": {
          "base_uri": "https://localhost:8080/",
          "height": 35
        },
        "outputId": "dcba286b-f418-4213-c6a2-1d125d7f24bb"
      },
      "source": [
        "def add(x,y):\n",
        "    return x+y\n",
        "add(3,4)"
      ],
      "execution_count": 7,
      "outputs": [
        {
          "output_type": "execute_result",
          "data": {
            "text/plain": [
              "7"
            ]
          },
          "metadata": {
            "tags": []
          },
          "execution_count": 7
        }
      ]
    },
    {
      "cell_type": "code",
      "metadata": {
        "id": "3H_t4pB1bn4z",
        "colab_type": "code",
        "colab": {
          "base_uri": "https://localhost:8080/",
          "height": 35
        },
        "outputId": "ccb0f2bf-c6b7-40b9-8228-9160c4f99d40"
      },
      "source": [
        "add2=lambda x,y:x+y\n",
        "add2(9,8)"
      ],
      "execution_count": 8,
      "outputs": [
        {
          "output_type": "execute_result",
          "data": {
            "text/plain": [
              "17"
            ]
          },
          "metadata": {
            "tags": []
          },
          "execution_count": 8
        }
      ]
    },
    {
      "cell_type": "markdown",
      "metadata": {
        "id": "e7wlUwBc1Zdf",
        "colab_type": "text"
      },
      "source": [
        "#### **filter, map, reduce**\n",
        " + lambda가 유용하게 사용되는 3가지 대표적 함수\n",
        " + 함수형 프로그래밍의 기본 요소이기도 함\n",
        " + filter : 특정 조건을 만족하는 요소만 남기고 필터링\n",
        " + map    : 각 원소를 주어진 수식에 따라 변형하여 새로운 리스트를 반환\n",
        " + reduce : 차례대로 앞 2개의 원소를 가지고 연산. 연산의 결과가 또 다음 연산의 입력으로 진행됨. 따라서 마지막까지 진행되면 최종 출력은 한개의 값만 남게 됨"
      ]
    },
    {
      "cell_type": "code",
      "metadata": {
        "id": "sXH8m6wS1Zdg",
        "colab_type": "code",
        "colab": {
          "base_uri": "https://localhost:8080/",
          "height": 35
        },
        "outputId": "6ae2d359-7735-439d-fa02-09b8bc61d4fe"
      },
      "source": [
        "strings=['bob','chares','alexander3','teddy']\n",
        "strings.sort()\n",
        "print(strings)"
      ],
      "execution_count": 11,
      "outputs": [
        {
          "output_type": "stream",
          "text": [
            "['alexander3', 'bob', 'chares', 'teddy']\n"
          ],
          "name": "stdout"
        }
      ]
    },
    {
      "cell_type": "code",
      "metadata": {
        "id": "BFxShlyGcebS",
        "colab_type": "code",
        "colab": {
          "base_uri": "https://localhost:8080/",
          "height": 35
        },
        "outputId": "00fa17e0-2138-40b3-a491-0efc544ed94c"
      },
      "source": [
        "## 위에 기본적인 sort함수는 기본적으로 알파벳순으로 호출\n",
        "## 그런데 문자의 길이로 호출하려면\n",
        "\n",
        "def str_len(s):\n",
        "    return len(s)\n",
        "\n",
        "str_len('이창문')\n",
        "\n",
        "strings.sort(key=str_len)\n",
        "print(strings)\n",
        "\n",
        "## 여기서 str_len 함수는 여기에서 한번 사용하고 말 함수. 좀 더 간단하게 표현할 필요있다. \n",
        "## 한줄로 심플하게 코딩을 하려면 람다함수를 사용하면 된다. "
      ],
      "execution_count": 15,
      "outputs": [
        {
          "output_type": "stream",
          "text": [
            "['bob', 'teddy', 'chares', 'alexander3']\n"
          ],
          "name": "stdout"
        }
      ]
    },
    {
      "cell_type": "code",
      "metadata": {
        "id": "oW7puKA7dDpr",
        "colab_type": "code",
        "colab": {
          "base_uri": "https://localhost:8080/",
          "height": 35
        },
        "outputId": "edfdf731-8fe4-45d7-b95b-37cea9920848"
      },
      "source": [
        "strings.sort(key=lambda x:len(x))\n",
        "print(strings)"
      ],
      "execution_count": 17,
      "outputs": [
        {
          "output_type": "stream",
          "text": [
            "['bob', 'teddy', 'chares', 'alexander3']\n"
          ],
          "name": "stdout"
        }
      ]
    },
    {
      "cell_type": "code",
      "metadata": {
        "id": "eDV35tcOdDhh",
        "colab_type": "code",
        "colab": {}
      },
      "source": [
        "## filter(함수,리스트)\n",
        "nums=[1,2,3,6,9,8,10,11,13]\n"
      ],
      "execution_count": 0,
      "outputs": []
    },
    {
      "cell_type": "code",
      "metadata": {
        "id": "JtKevVXVeNQ6",
        "colab_type": "code",
        "colab": {
          "base_uri": "https://localhost:8080/",
          "height": 35
        },
        "outputId": "8ad5eb97-4349-4940-b448-98f48370d257"
      },
      "source": [
        "## 일반적인 함수\n",
        "def even(x):\n",
        "   return x%2==0\n",
        "\n",
        "list(filter(even,nums))"
      ],
      "execution_count": 37,
      "outputs": [
        {
          "output_type": "execute_result",
          "data": {
            "text/plain": [
              "[2, 6, 8, 10]"
            ]
          },
          "metadata": {
            "tags": []
          },
          "execution_count": 37
        }
      ]
    },
    {
      "cell_type": "code",
      "metadata": {
        "id": "1Qvp569QdDWI",
        "colab_type": "code",
        "colab": {
          "base_uri": "https://localhost:8080/",
          "height": 35
        },
        "outputId": "bc41ef10-f976-4025-dba5-1795333144b6"
      },
      "source": [
        "## lambda 함수사용\n",
        "list(filter(lambda x:x%2==0,nums))"
      ],
      "execution_count": 29,
      "outputs": [
        {
          "output_type": "execute_result",
          "data": {
            "text/plain": [
              "[2, 6, 8, 10]"
            ]
          },
          "metadata": {
            "tags": []
          },
          "execution_count": 29
        }
      ]
    },
    {
      "cell_type": "code",
      "metadata": {
        "id": "5Yd56F6ueMg4",
        "colab_type": "code",
        "colab": {
          "base_uri": "https://localhost:8080/",
          "height": 35
        },
        "outputId": "b63e04ae-c16d-4884-815a-27caa20420fe"
      },
      "source": [
        "## map\n",
        "## 주어진 리스트, 리스트의 제곱을 한 숫자로 새로운 리스트 만들기\n",
        "nums=[1,2,3,6,9,8,10,11,13]\n",
        "a=map(lambda x:x**2,nums)\n",
        "print(list(a))"
      ],
      "execution_count": 35,
      "outputs": [
        {
          "output_type": "stream",
          "text": [
            "[1, 4, 9, 36, 81, 64, 100, 121, 169]\n"
          ],
          "name": "stdout"
        }
      ]
    },
    {
      "cell_type": "code",
      "metadata": {
        "id": "OnBF-ZzmeMO4",
        "colab_type": "code",
        "colab": {
          "base_uri": "https://localhost:8080/",
          "height": 35
        },
        "outputId": "6abdab65-6527-421a-fd25-88835eecbb13"
      },
      "source": [
        "list(map(even,nums))"
      ],
      "execution_count": 38,
      "outputs": [
        {
          "output_type": "execute_result",
          "data": {
            "text/plain": [
              "[False, True, False, True, False, True, True, False, False]"
            ]
          },
          "metadata": {
            "tags": []
          },
          "execution_count": 38
        }
      ]
    },
    {
      "cell_type": "code",
      "metadata": {
        "id": "6mdN14b-iUbc",
        "colab_type": "code",
        "colab": {
          "base_uri": "https://localhost:8080/",
          "height": 35
        },
        "outputId": "e9db5263-0f7d-417b-ffe4-d2813a5b9e5b"
      },
      "source": [
        "import functools\n",
        "\n",
        "b=list(range(1,11))\n",
        "\n",
        "a=[1,3,5,8]\n",
        "#리스트 합구하기\n",
        "functools.reduce(lambda x,y:x*y,a)"
      ],
      "execution_count": 41,
      "outputs": [
        {
          "output_type": "execute_result",
          "data": {
            "text/plain": [
              "120"
            ]
          },
          "metadata": {
            "tags": []
          },
          "execution_count": 41
        }
      ]
    },
    {
      "cell_type": "code",
      "metadata": {
        "id": "auK-UInwiUNU",
        "colab_type": "code",
        "colab": {}
      },
      "source": [
        ""
      ],
      "execution_count": 0,
      "outputs": []
    },
    {
      "cell_type": "markdown",
      "metadata": {
        "id": "_WcLwyfF1Zdj",
        "colab_type": "text"
      },
      "source": [
        "\n",
        "#### 함수 연습문제\n",
        " 1. 주어진 숫자 리스트의 평균을 구하는 함수를 출력하시오\n",
        " 1. 해당 숫자가 소수인지 아닌지 판별하시오.\n",
        " 2. 2부터 해당 숫자사이에 소수가 몇개인지 출력하는 함수를 구하시오 "
      ]
    },
    {
      "cell_type": "code",
      "metadata": {
        "id": "oWPuEdD4jbKk",
        "colab_type": "code",
        "colab": {
          "base_uri": "https://localhost:8080/",
          "height": 35
        },
        "outputId": "158e4abd-9784-4835-fc72-5e43b4dfa707"
      },
      "source": [
        "def ave(s):\n",
        "    _sum=0\n",
        "    for i in s:\n",
        "        _sum=_sum+i\n",
        "    return _sum/len(s)\n",
        "     \n",
        "\n",
        "k=[2,34,21,6,1,12,16,24,31,76]\n",
        "\n",
        "ave(k)"
      ],
      "execution_count": 123,
      "outputs": [
        {
          "output_type": "execute_result",
          "data": {
            "text/plain": [
              "22.3"
            ]
          },
          "metadata": {
            "tags": []
          },
          "execution_count": 123
        }
      ]
    },
    {
      "cell_type": "code",
      "metadata": {
        "id": "CUctPZgVwjVQ",
        "colab_type": "code",
        "colab": {
          "base_uri": "https://localhost:8080/",
          "height": 35
        },
        "outputId": "c5b19ae8-bf17-4f7f-df5e-5d645169df06"
      },
      "source": [
        "ave(k)"
      ],
      "execution_count": 108,
      "outputs": [
        {
          "output_type": "execute_result",
          "data": {
            "text/plain": [
              "9.0"
            ]
          },
          "metadata": {
            "tags": []
          },
          "execution_count": 108
        }
      ]
    },
    {
      "cell_type": "code",
      "metadata": {
        "id": "h6OZgIQHja98",
        "colab_type": "code",
        "colab": {
          "base_uri": "https://localhost:8080/",
          "height": 53
        },
        "outputId": "e48936aa-16aa-4966-c2db-4d03935e2520"
      },
      "source": [
        "a=[2,34,21,6,1,12,16,24,31,76]\n",
        "\n",
        "k=int(input(\"숫자를 입력하시오\"))\n",
        "\n",
        "n=0\n",
        "for i in range(1,k+1):\n",
        "    if k%i==0:\n",
        "        n=n+1\n",
        "if n==2:\n",
        "   print('소수')\n",
        "else:\n",
        "    print('소수아님')\n",
        "       "
      ],
      "execution_count": 109,
      "outputs": [
        {
          "output_type": "stream",
          "text": [
            "숫자를 입력하시오7\n",
            "소수\n"
          ],
          "name": "stdout"
        }
      ]
    },
    {
      "cell_type": "code",
      "metadata": {
        "id": "CspcEOOEjawL",
        "colab_type": "code",
        "colab": {
          "base_uri": "https://localhost:8080/",
          "height": 35
        },
        "outputId": "bc7aaa67-8edc-493a-c2b3-aee4e400b014"
      },
      "source": [
        "def prime(x):\n",
        "    n=0\n",
        "    for i in range(1,x+1):\n",
        "        if x%i==0:\n",
        "            n=n+1\n",
        "    if n==2:\n",
        "        return True\n",
        "    else:\n",
        "        return False\n",
        "        \n",
        "prime(4)"
      ],
      "execution_count": 126,
      "outputs": [
        {
          "output_type": "execute_result",
          "data": {
            "text/plain": [
              "False"
            ]
          },
          "metadata": {
            "tags": []
          },
          "execution_count": 126
        }
      ]
    },
    {
      "cell_type": "code",
      "metadata": {
        "id": "AHKXU8VqjajM",
        "colab_type": "code",
        "colab": {
          "base_uri": "https://localhost:8080/",
          "height": 71
        },
        "outputId": "12ba3b56-e57e-4ad6-902a-9c9813e7437d"
      },
      "source": [
        "##2부터 해당 숫자사이에 소수가 몇개인지 출력하는 함수를 구하시오\n",
        "\n",
        "x=int(input(\"숫자를 입력하시오\"))\n",
        "\n",
        "a=list(range(2,x+1))\n",
        "print(a)\n",
        "\n",
        "count=0\n",
        "for i in a:\n",
        "    n=0\n",
        "    for k in range(1,i+1):\n",
        "        if i%k==0:\n",
        "            n=n+1\n",
        "    if n==2:\n",
        "        count=count+1\n",
        "    else:\n",
        "        count=count\n",
        "        \n",
        "print(count)"
      ],
      "execution_count": 112,
      "outputs": [
        {
          "output_type": "stream",
          "text": [
            "숫자를 입력하시오15\n",
            "[2, 3, 4, 5, 6, 7, 8, 9, 10, 11, 12, 13, 14, 15]\n",
            "6\n"
          ],
          "name": "stdout"
        }
      ]
    },
    {
      "cell_type": "code",
      "metadata": {
        "id": "pLr9sbR5jaUV",
        "colab_type": "code",
        "colab": {}
      },
      "source": [
        "def count_prime(x):\n",
        "    \n",
        "    a=list(range(2,x+1))\n",
        "   \n",
        "    count=0\n",
        "    for i in a:\n",
        "        n=0\n",
        "        for k in range(1,i+1):\n",
        "            if i%k==0:\n",
        "                n=n+1\n",
        "        if n==2:\n",
        "            count=count+1\n",
        "             \n",
        "    print(count)"
      ],
      "execution_count": 0,
      "outputs": []
    },
    {
      "cell_type": "code",
      "metadata": {
        "id": "OUaZympzjaFO",
        "colab_type": "code",
        "colab": {
          "base_uri": "https://localhost:8080/",
          "height": 35
        },
        "outputId": "6bed2fc7-a72c-40af-e3ff-982a3c021520"
      },
      "source": [
        "count_prime(9)\n"
      ],
      "execution_count": 131,
      "outputs": [
        {
          "output_type": "stream",
          "text": [
            "4\n"
          ],
          "name": "stdout"
        }
      ]
    },
    {
      "cell_type": "code",
      "metadata": {
        "id": "9BpSWLzU0ekn",
        "colab_type": "code",
        "colab": {}
      },
      "source": [
        "def count_prime(x):\n",
        "    \n",
        "    a=list(range(2,x+1))\n",
        "   \n",
        "    count=0\n",
        "    for i in a:\n",
        "        if prime(i)==0:\n",
        "            count=count+1\n",
        "                    \n",
        "    return count"
      ],
      "execution_count": 0,
      "outputs": []
    },
    {
      "cell_type": "code",
      "metadata": {
        "id": "2eJMT1I41Zdk",
        "colab_type": "code",
        "colab": {
          "base_uri": "https://localhost:8080/",
          "height": 35
        },
        "outputId": "11924576-c003-476b-8757-2c2b4f571053"
      },
      "source": [
        "count_prime(9)"
      ],
      "execution_count": 128,
      "outputs": [
        {
          "output_type": "execute_result",
          "data": {
            "text/plain": [
              "4"
            ]
          },
          "metadata": {
            "tags": []
          },
          "execution_count": 128
        }
      ]
    }
  ]
}