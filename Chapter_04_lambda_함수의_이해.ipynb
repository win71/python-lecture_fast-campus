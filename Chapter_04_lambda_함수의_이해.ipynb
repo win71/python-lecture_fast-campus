{
  "nbformat": 4,
  "nbformat_minor": 0,
  "metadata": {
    "kernelspec": {
      "display_name": "Python 3",
      "language": "python",
      "name": "python3"
    },
    "language_info": {
      "codemirror_mode": {
        "name": "ipython",
        "version": 3
      },
      "file_extension": ".py",
      "mimetype": "text/x-python",
      "name": "python",
      "nbconvert_exporter": "python",
      "pygments_lexer": "ipython3",
      "version": "3.6.5"
    },
    "colab": {
      "name": "Chapter 04 - lambda 함수의 이해.ipynb",
      "version": "0.3.2",
      "provenance": [],
      "include_colab_link": true
    }
  },
  "cells": [
    {
      "cell_type": "markdown",
      "metadata": {
        "id": "view-in-github",
        "colab_type": "text"
      },
      "source": [
        "<a href=\"https://colab.research.google.com/github/win71/python-lecture_fast-campus/blob/master/Chapter_04_lambda_%ED%95%A8%EC%88%98%EC%9D%98_%EC%9D%B4%ED%95%B4.ipynb\" target=\"_parent\"><img src=\"https://colab.research.google.com/assets/colab-badge.svg\" alt=\"Open In Colab\"/></a>"
      ]
    },
    {
      "cell_type": "markdown",
      "metadata": {
        "id": "TJ_ZGKEA1ZdY",
        "colab_type": "text"
      },
      "source": [
        "\n",
        "\n",
        "### 학습목표\n",
        " 2. Lambda 함수 이해 및 사용"
      ]
    },
    {
      "cell_type": "markdown",
      "metadata": {
        "id": "zpWgrYWI1Zda",
        "colab_type": "text"
      },
      "source": [
        "* **Lambda 함수**\n",
        " + 단일문으로 표현되는 익명함수\n",
        " + 익명함수란 이름이 없는 구현체만 존재하는 간단한 함수를 의미\n",
        " + 코드 상에서 한번만 사용되는 기능이 있을 때, 굳이 함수로 만들지 않고 1회성으로 만들어서 쓸 때 사용."
      ]
    },
    {
      "cell_type": "code",
      "metadata": {
        "id": "NcOo9Ok91Zdb",
        "colab_type": "code",
        "colab": {}
      },
      "source": [
        ""
      ],
      "execution_count": 0,
      "outputs": []
    },
    {
      "cell_type": "markdown",
      "metadata": {
        "id": "e7wlUwBc1Zdf",
        "colab_type": "text"
      },
      "source": [
        "#### **filter, map, reduce**\n",
        " + lambda가 유용하게 사용되는 3가지 대표적 함수\n",
        " + 함수형 프로그래밍의 기본 요소이기도 함\n",
        " + filter : 특정 조건을 만족하는 요소만 남기고 필터링\n",
        " + map    : 각 원소를 주어진 수식에 따라 변형하여 새로운 리스트를 반환\n",
        " + reduce : 차례대로 앞 2개의 원소를 가지고 연산. 연산의 결과가 또 다음 연산의 입력으로 진행됨. 따라서 마지막까지 진행되면 최종 출력은 한개의 값만 남게 됨"
      ]
    },
    {
      "cell_type": "code",
      "metadata": {
        "id": "sXH8m6wS1Zdg",
        "colab_type": "code",
        "colab": {}
      },
      "source": [
        ""
      ],
      "execution_count": 0,
      "outputs": []
    },
    {
      "cell_type": "markdown",
      "metadata": {
        "id": "_WcLwyfF1Zdj",
        "colab_type": "text"
      },
      "source": [
        "\n",
        "#### 함수 연습문제\n",
        " 1. 주어진 숫자 리스트의 평균을 구하는 함수를 출력하시오\n",
        " 1. 해당 숫자가 소수인지 아닌지 판별하시오.\n",
        " 2. 2부터 해당 숫자사이에 소수가 몇개인지 출력하는 함수를 구하시오 "
      ]
    },
    {
      "cell_type": "code",
      "metadata": {
        "id": "2eJMT1I41Zdk",
        "colab_type": "code",
        "colab": {}
      },
      "source": [
        ""
      ],
      "execution_count": 0,
      "outputs": []
    }
  ]
}