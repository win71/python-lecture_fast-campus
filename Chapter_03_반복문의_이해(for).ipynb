{
  "nbformat": 4,
  "nbformat_minor": 0,
  "metadata": {
    "kernelspec": {
      "display_name": "Python 3",
      "language": "python",
      "name": "python3"
    },
    "language_info": {
      "codemirror_mode": {
        "name": "ipython",
        "version": 3
      },
      "file_extension": ".py",
      "mimetype": "text/x-python",
      "name": "python",
      "nbconvert_exporter": "python",
      "pygments_lexer": "ipython3",
      "version": "3.6.5"
    },
    "colab": {
      "name": "Chapter 03 - 반복문의 이해(for).ipynb",
      "version": "0.3.2",
      "provenance": [],
      "include_colab_link": true
    }
  },
  "cells": [
    {
      "cell_type": "markdown",
      "metadata": {
        "id": "view-in-github",
        "colab_type": "text"
      },
      "source": [
        "<a href=\"https://colab.research.google.com/github/win71/python-lecture_fast-campus/blob/master/Chapter_03_%EB%B0%98%EB%B3%B5%EB%AC%B8%EC%9D%98_%EC%9D%B4%ED%95%B4(for).ipynb\" target=\"_parent\"><img src=\"https://colab.research.google.com/assets/colab-badge.svg\" alt=\"Open In Colab\"/></a>"
      ]
    },
    {
      "cell_type": "markdown",
      "metadata": {
        "id": "ZPaX23JVUXCb",
        "colab_type": "text"
      },
      "source": [
        "## 학습목표\n",
        " * 반복문의 이해 및 활용 (for)\n",
        " * range 함수 이해"
      ]
    },
    {
      "cell_type": "markdown",
      "metadata": {
        "id": "OAsLtmm_UXCf",
        "colab_type": "text"
      },
      "source": [
        "### for 반복문 \n",
        " - 리스트, 문자열 등등 순회 가능한 객체를 순회하면서 값을 처리할 때 사용\n",
        " - 아래와 같은 문법으로 사용\n",
        " - 여기서 i는 매번 수행 될 때마다, a의 아이템으로 순차적으로 변경 됨\n",
        " - 모든 아이템이 순회되면 for 블록 종료\n",
        " \n",
        "```python\n",
        "a = [1, 2, 4, 3, 5]\n",
        "for i in a:\n",
        "    print (i, i * 2)\n",
        "```"
      ]
    },
    {
      "cell_type": "code",
      "metadata": {
        "id": "oqYLvVjdUXCh",
        "colab_type": "code",
        "colab": {}
      },
      "source": [
        ""
      ],
      "execution_count": 0,
      "outputs": []
    },
    {
      "cell_type": "markdown",
      "metadata": {
        "id": "X4ZvaSqAUXCm",
        "colab_type": "text"
      },
      "source": [
        "#### 문자열의 아이템 출력하기\n",
        " - 문자열의 경우 순회 가능, 리스트의 유사하게 순회 가능"
      ]
    },
    {
      "cell_type": "code",
      "metadata": {
        "id": "N-6niZxXUXCn",
        "colab_type": "code",
        "colab": {}
      },
      "source": [
        ""
      ],
      "execution_count": 0,
      "outputs": []
    },
    {
      "cell_type": "markdown",
      "metadata": {
        "id": "LMtXxwdzUXCr",
        "colab_type": "text"
      },
      "source": [
        "#### 리스트 아이템 출력하기"
      ]
    },
    {
      "cell_type": "code",
      "metadata": {
        "id": "bFze6J93UXCs",
        "colab_type": "code",
        "colab": {}
      },
      "source": [
        ""
      ],
      "execution_count": 0,
      "outputs": []
    },
    {
      "cell_type": "markdown",
      "metadata": {
        "id": "Ha9k5BBAUXCw",
        "colab_type": "text"
      },
      "source": [
        "#### dict의 아이템 출력하기\n",
        "  - dictionary의 경우 기본적으로 순회 하게 되면 key값을 참조\n",
        "  - keys()함수를 이용하여 key 값만 순회 가능\n",
        "  - values()함수를 이용하여 value 값만 순회 가능\n",
        "  - items()함수를 이용하여 tuple형태로 key, value 순회 가능"
      ]
    },
    {
      "cell_type": "code",
      "metadata": {
        "id": "HE2rDt9mUXCx",
        "colab_type": "code",
        "colab": {}
      },
      "source": [
        ""
      ],
      "execution_count": 0,
      "outputs": []
    },
    {
      "cell_type": "markdown",
      "metadata": {
        "id": "8FwxSpwzUXC1",
        "colab_type": "text"
      },
      "source": [
        "#### for에서 index 사용하기\n",
        "  - 기본적으로 for에 리스트를 순회하는 경우, 값만 추출 함\n",
        "  - 아래와 같은 코드로 인덱스와 값 모두 사용 가능(enumerate 함수 이용)\n",
        "\n",
        "```python\n",
        "a = [1, 2, 4, 3, 5]\n",
        "for i, val in enumerate(a):\n",
        "    print i, val\n",
        "```"
      ]
    },
    {
      "cell_type": "code",
      "metadata": {
        "id": "i6_To9HtUXC2",
        "colab_type": "code",
        "colab": {}
      },
      "source": [
        ""
      ],
      "execution_count": 0,
      "outputs": []
    },
    {
      "cell_type": "markdown",
      "metadata": {
        "id": "Y2p2bJaRUXC5",
        "colab_type": "text"
      },
      "source": [
        "####  break\n",
        "  - for의 경우에도 특정 조건일 때, loop 종료가 가능"
      ]
    },
    {
      "cell_type": "code",
      "metadata": {
        "id": "S7d837evUXC6",
        "colab_type": "code",
        "colab": {}
      },
      "source": [
        ""
      ],
      "execution_count": 0,
      "outputs": []
    },
    {
      "cell_type": "markdown",
      "metadata": {
        "id": "N7FELVbXUXC-",
        "colab_type": "text"
      },
      "source": [
        "#### continue\n",
        " - 해당 아이템을 건너 뛰고 싶을 때 사용"
      ]
    },
    {
      "cell_type": "code",
      "metadata": {
        "id": "_M1JvKCjUXC_",
        "colab_type": "code",
        "colab": {}
      },
      "source": [
        ""
      ],
      "execution_count": 0,
      "outputs": []
    },
    {
      "cell_type": "markdown",
      "metadata": {
        "id": "Wuq9aV0bUXDE",
        "colab_type": "text"
      },
      "source": [
        "#### loop 중첩\n",
        "  - 반복문의 경우에도 중첩하여 사용 가능\n",
        "  - 중첩이라는 것은 반복문 블록의 코드안에 또 반복문의 코드가 작성되는 것을 의미\n",
        "  - 이런 경우, 내부 루프는 외부 루프가 수행되는 만큼 반복 수행 됨\n",
        "  - 또한 중첩의 경우 무한히 가능\n",
        "\n",
        "```python\n",
        "a = [1, 2, 4]\n",
        "for i in a:\n",
        "    for j in a:\n",
        "        print i * j\n",
        "```"
      ]
    },
    {
      "cell_type": "markdown",
      "metadata": {
        "id": "kg8P1HAAUXDF",
        "colab_type": "text"
      },
      "source": [
        "#### 구구단 출력하기"
      ]
    },
    {
      "cell_type": "code",
      "metadata": {
        "id": "WT_sxA-pUXDI",
        "colab_type": "code",
        "colab": {}
      },
      "source": [
        ""
      ],
      "execution_count": 0,
      "outputs": []
    },
    {
      "cell_type": "markdown",
      "metadata": {
        "id": "qK2hbdMtUXDM",
        "colab_type": "text"
      },
      "source": [
        "#### collection의 길이\n",
        " - len() 내장함수로 계산 가능\n",
        " - 내장함수란 파이썬 내부에 구현되어 있어서, import하지 않고도 사용 가능한 함수를 의미\n",
        " - abs, len, type, range 등이 있음 (과정 진행하면서 필요할 때마다 다룰 예정)"
      ]
    },
    {
      "cell_type": "code",
      "metadata": {
        "id": "QV70YkDzUXDN",
        "colab_type": "code",
        "colab": {}
      },
      "source": [
        "print(a)\n",
        "print(len(a))"
      ],
      "execution_count": 0,
      "outputs": []
    },
    {
      "cell_type": "markdown",
      "metadata": {
        "id": "gGywefm7UXDW",
        "colab_type": "text"
      },
      "source": [
        "#### range 함수\n",
        "  - 리스트를 쉽게 만들 수 있는 내장함수\n",
        "  - 주어진 값에 따라 다양한 결과를 반환\n",
        " \n",
        "```python\n",
        "range(10)       -> [0, 1, 2, 3, 4, 5, 6, 7, 8, 9]\n",
        "range(2, 10)    -> [2, 3, 4, 5, 6, 7, 8, 9] \n",
        "range(2, 10, 3) -> [2, 5, 8] \n",
        "```"
      ]
    },
    {
      "cell_type": "markdown",
      "metadata": {
        "id": "tzSPitClUXDX",
        "colab_type": "text"
      },
      "source": [
        "* 1 - 100까지의 리스트 생성하기"
      ]
    },
    {
      "cell_type": "code",
      "metadata": {
        "id": "E2zf54fLUXDZ",
        "colab_type": "code",
        "colab": {}
      },
      "source": [
        ""
      ],
      "execution_count": 0,
      "outputs": []
    },
    {
      "cell_type": "markdown",
      "metadata": {
        "collapsed": true,
        "id": "MHp-EhFDUXDc",
        "colab_type": "text"
      },
      "source": [
        "* **연습문제** 1부터 100사이의 5의 배수만을 갖는 리스트를 생성하시오"
      ]
    },
    {
      "cell_type": "code",
      "metadata": {
        "id": "qv4YgKtQUXDd",
        "colab_type": "code",
        "colab": {}
      },
      "source": [
        ""
      ],
      "execution_count": 0,
      "outputs": []
    },
    {
      "cell_type": "markdown",
      "metadata": {
        "id": "qvGdhI_6UXDg",
        "colab_type": "text"
      },
      "source": [
        "### if & for 연습문제\n",
        "   \n",
        "  1. 구구단을 2 - 9단까지 출력하시오.\n",
        "  2. 1 - 100까지 정수 중 2의 배수 또는 11의 배수를 모두 출력하시오. \n",
        "  4. a = [22, 1, 3, 4, 7, 98, 21, 55, 87, 99, 19, 20, 45] 에서 최대값과 최소값을 찾으시오. (sorted, sort 사용 금지)\n",
        "  5. a = [22, 1, 3, 4, 7, 98, 21, 55, 87, 99, 19, 20, 45] 에서 평균을 구하세요.\n",
        "  "
      ]
    },
    {
      "cell_type": "code",
      "metadata": {
        "id": "FD5gjfLnUXDh",
        "colab_type": "code",
        "colab": {}
      },
      "source": [
        ""
      ],
      "execution_count": 0,
      "outputs": []
    }
  ]
}