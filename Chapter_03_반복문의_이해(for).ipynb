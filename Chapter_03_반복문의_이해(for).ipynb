{
  "nbformat": 4,
  "nbformat_minor": 0,
  "metadata": {
    "kernelspec": {
      "display_name": "Python 3",
      "language": "python",
      "name": "python3"
    },
    "language_info": {
      "codemirror_mode": {
        "name": "ipython",
        "version": 3
      },
      "file_extension": ".py",
      "mimetype": "text/x-python",
      "name": "python",
      "nbconvert_exporter": "python",
      "pygments_lexer": "ipython3",
      "version": "3.6.5"
    },
    "colab": {
      "name": "Chapter 03 - 반복문의 이해(for).ipynb",
      "version": "0.3.2",
      "provenance": [],
      "include_colab_link": true
    }
  },
  "cells": [
    {
      "cell_type": "markdown",
      "metadata": {
        "id": "view-in-github",
        "colab_type": "text"
      },
      "source": [
        "<a href=\"https://colab.research.google.com/github/win71/python-lecture_fast-campus/blob/master/Chapter_03_%EB%B0%98%EB%B3%B5%EB%AC%B8%EC%9D%98_%EC%9D%B4%ED%95%B4(for).ipynb\" target=\"_parent\"><img src=\"https://colab.research.google.com/assets/colab-badge.svg\" alt=\"Open In Colab\"/></a>"
      ]
    },
    {
      "cell_type": "markdown",
      "metadata": {
        "id": "ZPaX23JVUXCb",
        "colab_type": "text"
      },
      "source": [
        "## 학습목표\n",
        " * 반복문의 이해 및 활용 (for)\n",
        " * range 함수 이해"
      ]
    },
    {
      "cell_type": "markdown",
      "metadata": {
        "id": "OAsLtmm_UXCf",
        "colab_type": "text"
      },
      "source": [
        "### for 반복문 \n",
        " - 리스트, 문자열 등등 순회 가능한 객체를 순회하면서 값을 처리할 때 사용\n",
        " - 아래와 같은 문법으로 사용\n",
        " - 여기서 i는 매번 수행 될 때마다, a의 아이템으로 순차적으로 변경 됨\n",
        " - 모든 아이템이 순회되면 for 블록 종료\n",
        " \n",
        "```python\n",
        "a = [1, 2, 4, 3, 5]\n",
        "for i in a:\n",
        "    print (i, i * 2)\n",
        "```"
      ]
    },
    {
      "cell_type": "code",
      "metadata": {
        "id": "oqYLvVjdUXCh",
        "colab_type": "code",
        "colab": {
          "base_uri": "https://localhost:8080/",
          "height": 125
        },
        "outputId": "4926a1d4-0951-4a4b-be74-24e22138cc4f"
      },
      "source": [
        "a = [3, 5, 7, 4, 5]\n",
        "for i in a:\n",
        "    print (i, i * 2)\n",
        "print('hahaha')"
      ],
      "execution_count": 3,
      "outputs": [
        {
          "output_type": "stream",
          "text": [
            "3 6\n",
            "5 10\n",
            "7 14\n",
            "4 8\n",
            "5 10\n",
            "hahaha\n"
          ],
          "name": "stdout"
        }
      ]
    },
    {
      "cell_type": "code",
      "metadata": {
        "id": "jfiUDdk4f-hn",
        "colab_type": "code",
        "colab": {
          "base_uri": "https://localhost:8080/",
          "height": 125
        },
        "outputId": "ee6ea6a6-135f-4823-8039-91da360373d5"
      },
      "source": [
        "a = [3, 5, 7, 4, 5]\n",
        "for i in range(0,len(a)):\n",
        "    print (a[i], i)\n",
        "print('hahaha')"
      ],
      "execution_count": 9,
      "outputs": [
        {
          "output_type": "stream",
          "text": [
            "3 0\n",
            "5 1\n",
            "7 2\n",
            "4 3\n",
            "5 4\n",
            "hahaha\n"
          ],
          "name": "stdout"
        }
      ]
    },
    {
      "cell_type": "markdown",
      "metadata": {
        "id": "X4ZvaSqAUXCm",
        "colab_type": "text"
      },
      "source": [
        "#### 문자열의 아이템 출력하기\n",
        " - 문자열의 경우 순회 가능, 리스트의 유사하게 순회 가능"
      ]
    },
    {
      "cell_type": "code",
      "metadata": {
        "id": "N-6niZxXUXCn",
        "colab_type": "code",
        "colab": {
          "base_uri": "https://localhost:8080/",
          "height": 215
        },
        "outputId": "044305ce-417e-492d-812a-e89eb9008052"
      },
      "source": [
        "a='hello world'\n",
        "for x in a:\n",
        "    print(x)"
      ],
      "execution_count": 8,
      "outputs": [
        {
          "output_type": "stream",
          "text": [
            "h\n",
            "e\n",
            "l\n",
            "l\n",
            "o\n",
            " \n",
            "w\n",
            "o\n",
            "r\n",
            "l\n",
            "d\n"
          ],
          "name": "stdout"
        }
      ]
    },
    {
      "cell_type": "markdown",
      "metadata": {
        "id": "LMtXxwdzUXCr",
        "colab_type": "text"
      },
      "source": [
        "#### 리스트 아이템 출력하기"
      ]
    },
    {
      "cell_type": "code",
      "metadata": {
        "id": "bFze6J93UXCs",
        "colab_type": "code",
        "colab": {
          "base_uri": "https://localhost:8080/",
          "height": 107
        },
        "outputId": "b4f34966-1cae-458e-d505-6df984d2d9c7"
      },
      "source": [
        "a=[1,10,3,4,5]\n",
        "for x in a:\n",
        "    if x%2==1:\n",
        "        print(x)\n",
        "    else:\n",
        "        print(x/2)"
      ],
      "execution_count": 11,
      "outputs": [
        {
          "output_type": "stream",
          "text": [
            "1\n",
            "5.0\n",
            "3\n",
            "2.0\n",
            "5\n"
          ],
          "name": "stdout"
        }
      ]
    },
    {
      "cell_type": "markdown",
      "metadata": {
        "id": "Ha9k5BBAUXCw",
        "colab_type": "text"
      },
      "source": [
        "#### dict의 아이템 출력하기\n",
        "  - dictionary의 경우 기본적으로 순회 하게 되면 key값을 참조\n",
        "  - keys()함수를 이용하여 key 값만 순회 가능\n",
        "  - values()함수를 이용하여 value 값만 순회 가능\n",
        "  - items()함수를 이용하여 tuple형태로 key, value 순회 가능"
      ]
    },
    {
      "cell_type": "code",
      "metadata": {
        "id": "HE2rDt9mUXCx",
        "colab_type": "code",
        "colab": {
          "base_uri": "https://localhost:8080/",
          "height": 71
        },
        "outputId": "9bbe87a5-cf48-4c23-8995-be530581ee6b"
      },
      "source": [
        "a={'korea':'seoul','canada':'ottawa','japan':'tokyo'}\n",
        "for x in a:\n",
        "    print(x,a[x])"
      ],
      "execution_count": 14,
      "outputs": [
        {
          "output_type": "stream",
          "text": [
            "korea seoul\n",
            "canada ottawa\n",
            "japan tokyo\n"
          ],
          "name": "stdout"
        }
      ]
    },
    {
      "cell_type": "code",
      "metadata": {
        "id": "sR6S-WJSnxoD",
        "colab_type": "code",
        "colab": {
          "base_uri": "https://localhost:8080/",
          "height": 125
        },
        "outputId": "8fdf16de-0481-4376-c455-681ea205a116"
      },
      "source": [
        "for value in a.values():\n",
        "    print(value)\n",
        "    \n",
        "for key in a.keys():\n",
        "    print(key)\n",
        "    "
      ],
      "execution_count": 16,
      "outputs": [
        {
          "output_type": "stream",
          "text": [
            "seoul\n",
            "ottawa\n",
            "tokyo\n",
            "korea\n",
            "canada\n",
            "japan\n"
          ],
          "name": "stdout"
        }
      ]
    },
    {
      "cell_type": "code",
      "metadata": {
        "id": "M7TZ3U2OoMET",
        "colab_type": "code",
        "colab": {
          "base_uri": "https://localhost:8080/",
          "height": 71
        },
        "outputId": "be78f677-f21e-4233-e8ee-e4ef56b0368c"
      },
      "source": [
        "for key,value in a.items():\n",
        "    print(key,value)"
      ],
      "execution_count": 17,
      "outputs": [
        {
          "output_type": "stream",
          "text": [
            "korea seoul\n",
            "canada ottawa\n",
            "japan tokyo\n"
          ],
          "name": "stdout"
        }
      ]
    },
    {
      "cell_type": "markdown",
      "metadata": {
        "id": "8FwxSpwzUXC1",
        "colab_type": "text"
      },
      "source": [
        "#### for에서 index 사용하기\n",
        "  - 기본적으로 for에 리스트를 순회하는 경우, 값만 추출 함\n",
        "  - 아래와 같은 코드로 인덱스와 값 모두 사용 가능(enumerate 함수 이용)\n",
        "\n",
        "```python\n",
        "a = [1, 2, 4, 3, 5]\n",
        "for i, val in enumerate(a):\n",
        "    print i, val\n",
        "```"
      ]
    },
    {
      "cell_type": "code",
      "metadata": {
        "id": "i6_To9HtUXC2",
        "colab_type": "code",
        "colab": {
          "base_uri": "https://localhost:8080/",
          "height": 125
        },
        "outputId": "464fe93a-b921-4771-a36d-d4fb6ed6327c"
      },
      "source": [
        "a = [1, 2, 4, 3, 5]\n",
        "for i, val in enumerate(a):\n",
        "    if i>3:\n",
        "        print(i, val)\n",
        "   "
      ],
      "execution_count": 22,
      "outputs": [
        {
          "output_type": "stream",
          "text": [
            "hahaha\n",
            "hahaha\n",
            "hahaha\n",
            "hahaha\n",
            "4 5\n",
            "hahaha\n"
          ],
          "name": "stdout"
        }
      ]
    },
    {
      "cell_type": "markdown",
      "metadata": {
        "id": "Y2p2bJaRUXC5",
        "colab_type": "text"
      },
      "source": [
        "####  break\n",
        "  - for의 경우에도 특정 조건일 때, loop 종료가 가능"
      ]
    },
    {
      "cell_type": "code",
      "metadata": {
        "id": "S7d837evUXC6",
        "colab_type": "code",
        "colab": {
          "base_uri": "https://localhost:8080/",
          "height": 71
        },
        "outputId": "e457179f-19ac-4e70-ed1a-eb9ef5a7f1fd"
      },
      "source": [
        "a=[100,90,80,70,60,50]\n",
        "for num in a:\n",
        "    if num<80:\n",
        "        break\n",
        "    print(num)"
      ],
      "execution_count": 23,
      "outputs": [
        {
          "output_type": "stream",
          "text": [
            "100\n",
            "90\n",
            "80\n"
          ],
          "name": "stdout"
        }
      ]
    },
    {
      "cell_type": "markdown",
      "metadata": {
        "id": "N7FELVbXUXC-",
        "colab_type": "text"
      },
      "source": [
        "#### continue\n",
        " - 해당 아이템을 건너 뛰고 싶을 때 사용"
      ]
    },
    {
      "cell_type": "code",
      "metadata": {
        "id": "_M1JvKCjUXC_",
        "colab_type": "code",
        "colab": {
          "base_uri": "https://localhost:8080/",
          "height": 89
        },
        "outputId": "298e76bb-815d-4dd9-b7d1-f689ccde64b6"
      },
      "source": [
        "a=[100,90,80,70,60,50]\n",
        "for num in a:\n",
        "    if num>=60 and num<=70:\n",
        "        continue\n",
        "   \n",
        "    print(num)"
      ],
      "execution_count": 26,
      "outputs": [
        {
          "output_type": "stream",
          "text": [
            "100\n",
            "90\n",
            "80\n",
            "50\n"
          ],
          "name": "stdout"
        }
      ]
    },
    {
      "cell_type": "markdown",
      "metadata": {
        "id": "Wuq9aV0bUXDE",
        "colab_type": "text"
      },
      "source": [
        "#### loop 중첩\n",
        "  - 반복문의 경우에도 중첩하여 사용 가능\n",
        "  - 중첩이라는 것은 반복문 블록의 코드안에 또 반복문의 코드가 작성되는 것을 의미\n",
        "  - 이런 경우, 내부 루프는 외부 루프가 수행되는 만큼 반복 수행 됨\n",
        "  - 또한 중첩의 경우 무한히 가능\n",
        "\n",
        "```python\n",
        "a = [1, 2, 4]\n",
        "for i in a:\n",
        "    for j in a:\n",
        "        print i * j\n",
        "```"
      ]
    },
    {
      "cell_type": "markdown",
      "metadata": {
        "id": "kg8P1HAAUXDF",
        "colab_type": "text"
      },
      "source": [
        "#### 구구단 출력하기"
      ]
    },
    {
      "cell_type": "code",
      "metadata": {
        "id": "WT_sxA-pUXDI",
        "colab_type": "code",
        "colab": {
          "base_uri": "https://localhost:8080/",
          "height": 179
        },
        "outputId": "7f5c885a-e1c8-4913-cde5-1cc9c4dc979a"
      },
      "source": [
        "a = [1, 2, 4]\n",
        "for i in a:\n",
        "    for j in a:\n",
        "        print(i, \"*\", j)"
      ],
      "execution_count": 29,
      "outputs": [
        {
          "output_type": "stream",
          "text": [
            "1 * 1\n",
            "1 * 2\n",
            "1 * 4\n",
            "2 * 1\n",
            "2 * 2\n",
            "2 * 4\n",
            "4 * 1\n",
            "4 * 2\n",
            "4 * 4\n"
          ],
          "name": "stdout"
        }
      ]
    },
    {
      "cell_type": "code",
      "metadata": {
        "id": "zV1PqLYbrhKz",
        "colab_type": "code",
        "colab": {
          "base_uri": "https://localhost:8080/",
          "height": 1000
        },
        "outputId": "e146f422-061d-478e-fb89-45cb2d897275"
      },
      "source": [
        "for i in range(2,10):\n",
        "    for x in range(1,10):\n",
        "        print(i,'x', x)"
      ],
      "execution_count": 31,
      "outputs": [
        {
          "output_type": "stream",
          "text": [
            "2 x 1\n",
            "2 x 2\n",
            "2 x 3\n",
            "2 x 4\n",
            "2 x 5\n",
            "2 x 6\n",
            "2 x 7\n",
            "2 x 8\n",
            "2 x 9\n",
            "3 x 1\n",
            "3 x 2\n",
            "3 x 3\n",
            "3 x 4\n",
            "3 x 5\n",
            "3 x 6\n",
            "3 x 7\n",
            "3 x 8\n",
            "3 x 9\n",
            "4 x 1\n",
            "4 x 2\n",
            "4 x 3\n",
            "4 x 4\n",
            "4 x 5\n",
            "4 x 6\n",
            "4 x 7\n",
            "4 x 8\n",
            "4 x 9\n",
            "5 x 1\n",
            "5 x 2\n",
            "5 x 3\n",
            "5 x 4\n",
            "5 x 5\n",
            "5 x 6\n",
            "5 x 7\n",
            "5 x 8\n",
            "5 x 9\n",
            "6 x 1\n",
            "6 x 2\n",
            "6 x 3\n",
            "6 x 4\n",
            "6 x 5\n",
            "6 x 6\n",
            "6 x 7\n",
            "6 x 8\n",
            "6 x 9\n",
            "7 x 1\n",
            "7 x 2\n",
            "7 x 3\n",
            "7 x 4\n",
            "7 x 5\n",
            "7 x 6\n",
            "7 x 7\n",
            "7 x 8\n",
            "7 x 9\n",
            "8 x 1\n",
            "8 x 2\n",
            "8 x 3\n",
            "8 x 4\n",
            "8 x 5\n",
            "8 x 6\n",
            "8 x 7\n",
            "8 x 8\n",
            "8 x 9\n",
            "9 x 1\n",
            "9 x 2\n",
            "9 x 3\n",
            "9 x 4\n",
            "9 x 5\n",
            "9 x 6\n",
            "9 x 7\n",
            "9 x 8\n",
            "9 x 9\n"
          ],
          "name": "stdout"
        }
      ]
    },
    {
      "cell_type": "markdown",
      "metadata": {
        "id": "qK2hbdMtUXDM",
        "colab_type": "text"
      },
      "source": [
        "#### collection의 길이\n",
        " - len() 내장함수로 계산 가능\n",
        " - 내장함수란 파이썬 내부에 구현되어 있어서, import하지 않고도 사용 가능한 함수를 의미\n",
        " - abs, len, type, range 등이 있음 (과정 진행하면서 필요할 때마다 다룰 예정)"
      ]
    },
    {
      "cell_type": "code",
      "metadata": {
        "id": "QV70YkDzUXDN",
        "colab_type": "code",
        "colab": {
          "base_uri": "https://localhost:8080/",
          "height": 53
        },
        "outputId": "65fe9d6c-16f6-4545-e6f4-1c7a9c612af3"
      },
      "source": [
        "a=[1,3,41,2,5,6,7]\n",
        "print(a)\n",
        "b=len(a)\n",
        "print(b)"
      ],
      "execution_count": 34,
      "outputs": [
        {
          "output_type": "stream",
          "text": [
            "[1, 3, 41, 2, 5, 6, 7]\n",
            "7\n"
          ],
          "name": "stdout"
        }
      ]
    },
    {
      "cell_type": "markdown",
      "metadata": {
        "id": "gGywefm7UXDW",
        "colab_type": "text"
      },
      "source": [
        "#### range 함수\n",
        "  - 리스트를 쉽게 만들 수 있는 내장함수\n",
        "  - 주어진 값에 따라 다양한 결과를 반환\n",
        " \n",
        "```python\n",
        "range(10)       -> [0, 1, 2, 3, 4, 5, 6, 7, 8, 9]\n",
        "range(2, 10)    -> [2, 3, 4, 5, 6, 7, 8, 9] \n",
        "range(2, 10, 3) -> [2, 5, 8] \n",
        "```"
      ]
    },
    {
      "cell_type": "markdown",
      "metadata": {
        "id": "tzSPitClUXDX",
        "colab_type": "text"
      },
      "source": [
        "* 1 - 100까지의 리스트 생성하기"
      ]
    },
    {
      "cell_type": "code",
      "metadata": {
        "id": "E2zf54fLUXDZ",
        "colab_type": "code",
        "colab": {
          "base_uri": "https://localhost:8080/",
          "height": 73
        },
        "outputId": "54efa202-7c28-4643-dfb5-e8092381c457"
      },
      "source": [
        "a=list(range(1,101))\n",
        "print(a)\n",
        "type(a)"
      ],
      "execution_count": 38,
      "outputs": [
        {
          "output_type": "stream",
          "text": [
            "[1, 2, 3, 4, 5, 6, 7, 8, 9, 10, 11, 12, 13, 14, 15, 16, 17, 18, 19, 20, 21, 22, 23, 24, 25, 26, 27, 28, 29, 30, 31, 32, 33, 34, 35, 36, 37, 38, 39, 40, 41, 42, 43, 44, 45, 46, 47, 48, 49, 50, 51, 52, 53, 54, 55, 56, 57, 58, 59, 60, 61, 62, 63, 64, 65, 66, 67, 68, 69, 70, 71, 72, 73, 74, 75, 76, 77, 78, 79, 80, 81, 82, 83, 84, 85, 86, 87, 88, 89, 90, 91, 92, 93, 94, 95, 96, 97, 98, 99, 100]\n"
          ],
          "name": "stdout"
        },
        {
          "output_type": "execute_result",
          "data": {
            "text/plain": [
              "list"
            ]
          },
          "metadata": {
            "tags": []
          },
          "execution_count": 38
        }
      ]
    },
    {
      "cell_type": "markdown",
      "metadata": {
        "collapsed": true,
        "id": "MHp-EhFDUXDc",
        "colab_type": "text"
      },
      "source": [
        "* **연습문제** 1부터 100사이의 5의 배수만을 갖는 리스트를 생성하시오"
      ]
    },
    {
      "cell_type": "code",
      "metadata": {
        "id": "qv4YgKtQUXDd",
        "colab_type": "code",
        "colab": {
          "base_uri": "https://localhost:8080/",
          "height": 35
        },
        "outputId": "2fe9c3fa-eda5-41e3-c3aa-bb08f72142ba"
      },
      "source": [
        "a=list(range(1,101))\n",
        "k=[]\n",
        "for x in a:\n",
        "    if x%5==0:\n",
        "        k.append(x)\n",
        "print(k)"
      ],
      "execution_count": 46,
      "outputs": [
        {
          "output_type": "stream",
          "text": [
            "[5, 10, 15, 20, 25, 30, 35, 40, 45, 50, 55, 60, 65, 70, 75, 80, 85, 90, 95, 100]\n"
          ],
          "name": "stdout"
        }
      ]
    },
    {
      "cell_type": "code",
      "metadata": {
        "id": "yt1uWzxxudaj",
        "colab_type": "code",
        "colab": {
          "base_uri": "https://localhost:8080/",
          "height": 35
        },
        "outputId": "05249906-5636-47a2-e6a3-080ac1eeff0a"
      },
      "source": [
        "a=list(range(5,101,5))\n",
        "print(a)"
      ],
      "execution_count": 50,
      "outputs": [
        {
          "output_type": "stream",
          "text": [
            "[5, 10, 15, 20, 25, 30, 35, 40, 45, 50, 55, 60, 65, 70, 75, 80, 85, 90, 95, 100]\n"
          ],
          "name": "stdout"
        }
      ]
    },
    {
      "cell_type": "markdown",
      "metadata": {
        "id": "qvGdhI_6UXDg",
        "colab_type": "text"
      },
      "source": [
        "### if & for 연습문제\n",
        "   \n",
        "  1. 구구단을 2 - 9단까지 출력하시오.\n",
        "  2. 1 - 100까지 정수 중 2의 배수 또는 11의 배수를 모두 출력하시오. \n",
        "  4. a = [22, 1, 3, 4, 7, 98, 21, 55, 87, 99, 19, 20, 45] 에서 최대값과 최소값을 찾으시오. (sorted, sort 사용 금지)\n",
        "  5. a = [22, 1, 3, 4, 7, 98, 21, 55, 87, 99, 19, 20, 45] 에서 평균을 구하세요.\n",
        "  "
      ]
    },
    {
      "cell_type": "code",
      "metadata": {
        "id": "5WWzyJvYvSqi",
        "colab_type": "code",
        "colab": {
          "base_uri": "https://localhost:8080/",
          "height": 1000
        },
        "outputId": "782a7595-56fb-4a37-f04a-af3a5a21c3d9"
      },
      "source": [
        "for i in range(2,10):\n",
        "    for x in range(1,10):\n",
        "        print(i, '*', x, '=',i*x)"
      ],
      "execution_count": 65,
      "outputs": [
        {
          "output_type": "stream",
          "text": [
            "2 * 1 = 2\n",
            "2 * 2 = 4\n",
            "2 * 3 = 6\n",
            "2 * 4 = 8\n",
            "2 * 5 = 10\n",
            "2 * 6 = 12\n",
            "2 * 7 = 14\n",
            "2 * 8 = 16\n",
            "2 * 9 = 18\n",
            "3 * 1 = 3\n",
            "3 * 2 = 6\n",
            "3 * 3 = 9\n",
            "3 * 4 = 12\n",
            "3 * 5 = 15\n",
            "3 * 6 = 18\n",
            "3 * 7 = 21\n",
            "3 * 8 = 24\n",
            "3 * 9 = 27\n",
            "4 * 1 = 4\n",
            "4 * 2 = 8\n",
            "4 * 3 = 12\n",
            "4 * 4 = 16\n",
            "4 * 5 = 20\n",
            "4 * 6 = 24\n",
            "4 * 7 = 28\n",
            "4 * 8 = 32\n",
            "4 * 9 = 36\n",
            "5 * 1 = 5\n",
            "5 * 2 = 10\n",
            "5 * 3 = 15\n",
            "5 * 4 = 20\n",
            "5 * 5 = 25\n",
            "5 * 6 = 30\n",
            "5 * 7 = 35\n",
            "5 * 8 = 40\n",
            "5 * 9 = 45\n",
            "6 * 1 = 6\n",
            "6 * 2 = 12\n",
            "6 * 3 = 18\n",
            "6 * 4 = 24\n",
            "6 * 5 = 30\n",
            "6 * 6 = 36\n",
            "6 * 7 = 42\n",
            "6 * 8 = 48\n",
            "6 * 9 = 54\n",
            "7 * 1 = 7\n",
            "7 * 2 = 14\n",
            "7 * 3 = 21\n",
            "7 * 4 = 28\n",
            "7 * 5 = 35\n",
            "7 * 6 = 42\n",
            "7 * 7 = 49\n",
            "7 * 8 = 56\n",
            "7 * 9 = 63\n",
            "8 * 1 = 8\n",
            "8 * 2 = 16\n",
            "8 * 3 = 24\n",
            "8 * 4 = 32\n",
            "8 * 5 = 40\n",
            "8 * 6 = 48\n",
            "8 * 7 = 56\n",
            "8 * 8 = 64\n",
            "8 * 9 = 72\n",
            "9 * 1 = 9\n",
            "9 * 2 = 18\n",
            "9 * 3 = 27\n",
            "9 * 4 = 36\n",
            "9 * 5 = 45\n",
            "9 * 6 = 54\n",
            "9 * 7 = 63\n",
            "9 * 8 = 72\n",
            "9 * 9 = 81\n"
          ],
          "name": "stdout"
        }
      ]
    },
    {
      "cell_type": "code",
      "metadata": {
        "id": "CiO6gBowvSgw",
        "colab_type": "code",
        "colab": {
          "base_uri": "https://localhost:8080/",
          "height": 35
        },
        "outputId": "ddde8fd8-3863-40a5-b3fd-8afbe4a5e00a"
      },
      "source": [
        "a=list(range(1,101))\n",
        "k=[]\n",
        "for i in a:\n",
        "    if i%11==0 or i%2==0:\n",
        "        k.append(i)\n",
        "print(k)\n",
        "        "
      ],
      "execution_count": 66,
      "outputs": [
        {
          "output_type": "stream",
          "text": [
            "[2, 4, 6, 8, 10, 11, 12, 14, 16, 18, 20, 22, 24, 26, 28, 30, 32, 33, 34, 36, 38, 40, 42, 44, 46, 48, 50, 52, 54, 55, 56, 58, 60, 62, 64, 66, 68, 70, 72, 74, 76, 77, 78, 80, 82, 84, 86, 88, 90, 92, 94, 96, 98, 99, 100]\n"
          ],
          "name": "stdout"
        }
      ]
    },
    {
      "cell_type": "code",
      "metadata": {
        "id": "-SC16YmMvSW6",
        "colab_type": "code",
        "colab": {
          "base_uri": "https://localhost:8080/",
          "height": 35
        },
        "outputId": "9d8e086a-3199-40a6-ae6d-0aa9d1d21e02"
      },
      "source": [
        "a=[22,1,3,4,7,98,21,55,87,99,19,20,45]\n",
        "min_a=a[0]\n",
        "for x in a:\n",
        "    if min_a>x:\n",
        "        min_a=x\n",
        "print(min_a)"
      ],
      "execution_count": 59,
      "outputs": [
        {
          "output_type": "stream",
          "text": [
            "1\n"
          ],
          "name": "stdout"
        }
      ]
    },
    {
      "cell_type": "code",
      "metadata": {
        "id": "oqyFjzfQxUDC",
        "colab_type": "code",
        "colab": {
          "base_uri": "https://localhost:8080/",
          "height": 35
        },
        "outputId": "70a4f6b9-6213-4221-f056-13e77985706a"
      },
      "source": [
        "a=[22,1,3,4,7,98,21,55,87,99,19,20,45]\n",
        "max_a=a[0]\n",
        "for x in a:\n",
        "    if max_a<x:\n",
        "        max_a=x\n",
        "print(max_a)"
      ],
      "execution_count": 61,
      "outputs": [
        {
          "output_type": "stream",
          "text": [
            "99\n"
          ],
          "name": "stdout"
        }
      ]
    },
    {
      "cell_type": "code",
      "metadata": {
        "id": "FD5gjfLnUXDh",
        "colab_type": "code",
        "colab": {
          "base_uri": "https://localhost:8080/",
          "height": 53
        },
        "outputId": "6e76c50a-87e8-478e-fa40-38d15a681985"
      },
      "source": [
        "a=[22,1,3,4,7,98,21,55,87,99,19,20,45]\n",
        "_sum=0\n",
        "for x in a:\n",
        "    _sum=_sum+x\n",
        "    \n",
        "print(_sum, len(a))\n",
        "print(_sum/len(a))\n",
        "    "
      ],
      "execution_count": 63,
      "outputs": [
        {
          "output_type": "stream",
          "text": [
            "481 13\n",
            "37.0\n"
          ],
          "name": "stdout"
        }
      ]
    },
    {
      "cell_type": "code",
      "metadata": {
        "id": "DOGoVjXryrry",
        "colab_type": "code",
        "colab": {
          "base_uri": "https://localhost:8080/",
          "height": 53
        },
        "outputId": "4dd44658-9fe5-430e-9ad3-62f19cfcba64"
      },
      "source": [
        "a=[22,1,3,4,7,98,21,55,87,99,19,20,45]\n",
        "_sum=0\n",
        "for x in range(0,len(a)):\n",
        "    _sum=_sum+a[x]\n",
        "    \n",
        "print(_sum, len(a))\n",
        "print(_sum/len(a))"
      ],
      "execution_count": 64,
      "outputs": [
        {
          "output_type": "stream",
          "text": [
            "481 13\n",
            "37.0\n"
          ],
          "name": "stdout"
        }
      ]
    }
  ]
}