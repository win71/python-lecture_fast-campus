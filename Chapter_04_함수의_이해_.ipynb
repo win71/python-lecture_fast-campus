{
  "nbformat": 4,
  "nbformat_minor": 0,
  "metadata": {
    "kernelspec": {
      "display_name": "Python 3",
      "language": "python",
      "name": "python3"
    },
    "language_info": {
      "codemirror_mode": {
        "name": "ipython",
        "version": 3
      },
      "file_extension": ".py",
      "mimetype": "text/x-python",
      "name": "python",
      "nbconvert_exporter": "python",
      "pygments_lexer": "ipython3",
      "version": "3.6.5"
    },
    "colab": {
      "name": "Chapter 04 - 함수의 이해 .ipynb",
      "version": "0.3.2",
      "provenance": [],
      "include_colab_link": true
    }
  },
  "cells": [
    {
      "cell_type": "markdown",
      "metadata": {
        "id": "view-in-github",
        "colab_type": "text"
      },
      "source": [
        "<a href=\"https://colab.research.google.com/github/win71/python-lecture_fast-campus/blob/master/Chapter_04_%ED%95%A8%EC%88%98%EC%9D%98_%EC%9D%B4%ED%95%B4_.ipynb\" target=\"_parent\"><img src=\"https://colab.research.google.com/assets/colab-badge.svg\" alt=\"Open In Colab\"/></a>"
      ]
    },
    {
      "cell_type": "markdown",
      "metadata": {
        "id": "3SRCAAF41OHl",
        "colab_type": "text"
      },
      "source": [
        "### 학습목표\n",
        " 1. 함수의 이해\n",
        " 2. 함수 구현 및 사용 숙지"
      ]
    },
    {
      "cell_type": "markdown",
      "metadata": {
        "id": "IIi037cU1OHm",
        "colab_type": "text"
      },
      "source": [
        "### 함수?\n",
        "* 지금까지 무심코 코드에서 사용된 많은 함수들이 존재 합니다.\n",
        "* 예를들면, sum, len, range 같은 함수 등이 있죠.\n",
        "* 함수란 우리가 알고있는 개념처럼 주어진 입력(input)에 대해서 의도된 출력(output)를 전달하는 역할을 합니다.\n",
        "\n",
        "* 그렇다면, 하나씩 살펴보겠습니다.\n",
        "  > range 함수는 정수를 입력으로 전달하면 [0, 정수) 로 이루어진 리스트를 생성하는 역할을 합니다.\n",
        "  \n",
        "  > sum 함수는 리스트, 튜플등을 입력으로 전달하면 전체 아이템의 합을 출력으로 전달하는 역할을 합니다.\n",
        "  \n",
        "  > len 함수는 리스트, 튜플등을 입력으로 전달하면 아이템의 개수를 출력으로 전달하는 역할을 합니다.\n",
        "  \n",
        "* 그리고, 위의 함수들은 모두 python 내부에 이미 정의(구현)이 되어 있습니다.\n",
        "* 위와 같은 함수를 내장함수(built-in function)이라고 합니다."
      ]
    },
    {
      "cell_type": "code",
      "metadata": {
        "id": "PFMKp0Eb1OHo",
        "colab_type": "code",
        "colab": {}
      },
      "source": [
        "# 내장 함수의 예"
      ],
      "execution_count": 0,
      "outputs": []
    },
    {
      "cell_type": "markdown",
      "metadata": {
        "id": "p6efrhNb1OHs",
        "colab_type": "text"
      },
      "source": [
        "#### **함수의 정의**\n",
        "  + 정의 시 최초에 def 키워드 사용\n",
        "  + argument 정의 (함수에 입력으로 전달하는 값을 의미, argument 또는 parameter라고 함) \n",
        "  + : (콜론) -> 함수 역시 코드 블록이기 때문에 콜론(:) 필요\n",
        "  + body (함수의 구현 부분, 함수 역시 코드 블록이기 때문에 들여쓰기 된 부분까지 함수의 코드블록으로 인지 함)\n",
        "    - 함수를 호출한 코드 (caller)로 함수가 해당 기능을 수행하고 완료된 값(output)을 전달하기 위해 return 키워드 사용\n",
        "    - 즉, return 이후에 오는 값을 caller로 전달\n",
        "  + 함수의 네이밍 역시 중요\n",
        "    - 즉, 어떤 기능을 하는 함수인지 이름으로 최대한 나타날 수 있게 해야함\n",
        "    - e.g) get_a (x) get_student_name (o)"
      ]
    },
    {
      "cell_type": "code",
      "metadata": {
        "id": "sMf2PakQ1OHt",
        "colab_type": "code",
        "colab": {}
      },
      "source": [
        ""
      ],
      "execution_count": 0,
      "outputs": []
    },
    {
      "cell_type": "markdown",
      "metadata": {
        "id": "byDmvhrT1OHx",
        "colab_type": "text"
      },
      "source": [
        "#### **함수의 사용(호출)**\n",
        " + 함수명(파라미터1, 파라미터2, ... 파라미터n)\n",
        " + 위와 같이 정의 된 함수의 이름과 전달되는 parameter(인자)를 괄호안에 전달하여 함수를 호출\n",
        " + 함수가 호출되면 실행의 흐름이 호출자(caller)에서 함수(callee)로 변경 됨\n",
        " \n",
        " + 함수의 입력(인풋) 파라미터(parameter), 아규먼트(argument)라고도 함"
      ]
    },
    {
      "cell_type": "code",
      "metadata": {
        "id": "A8VBaJNZ1OHy",
        "colab_type": "code",
        "colab": {}
      },
      "source": [
        ""
      ],
      "execution_count": 0,
      "outputs": []
    },
    {
      "cell_type": "markdown",
      "metadata": {
        "id": "EEYkrgBD1OH1",
        "colab_type": "text"
      },
      "source": [
        "#### **함수 네이밍(naming)**\n",
        "  * 함수 이름으로부터 기능이 명시 \n",
        "  * 의미와 반대되거나 맞지 않는 이름은 사용금지"
      ]
    },
    {
      "cell_type": "code",
      "metadata": {
        "id": "fGtrBm3c1OH2",
        "colab_type": "code",
        "colab": {}
      },
      "source": [
        ""
      ],
      "execution_count": 0,
      "outputs": []
    },
    {
      "cell_type": "markdown",
      "metadata": {
        "id": "L7SESRpS1OH5",
        "colab_type": "text"
      },
      "source": [
        "#### **parameter(argument) (인자)**\n",
        " + 함수에 전달되는 입력(input)\n",
        " + 입력이 필요하지 않을 수도, 1개의 입력만 있을 수도, 여러개의 입력이 존재할 수 도 있음\n",
        " + 파라미터로 int, string, float, boolm, list, dict 등등 어떤 파이썬 객체도 전달 가능\n",
        " + 심지어, 함수도 함수의 파라미터로 전달 가능\n",
        " \n",
        " + python의 경우, 타입 명시가 없기 때문에, 함수 생성 시, 의도된 파라미터의 타입에 맞게 입력을 전달하는 것이 중요\n",
        " + 또한 파라미터를 전달 할 때, 정의된 순서에 따라 값을 전달하는 것이 중요\n"
      ]
    },
    {
      "cell_type": "code",
      "metadata": {
        "id": "ID5X5O331OH7",
        "colab_type": "code",
        "colab": {}
      },
      "source": [
        ""
      ],
      "execution_count": 0,
      "outputs": []
    },
    {
      "cell_type": "markdown",
      "metadata": {
        "id": "yY9OCg7n1OH-",
        "colab_type": "text"
      },
      "source": [
        "####  Default parameter (기본 인자) \n",
        " + 함수의 파라미터에 기본값 지정 가능\n",
        " + 파라미터를 명시하지 않을 경우, 지정된 기본값으로 대체"
      ]
    },
    {
      "cell_type": "code",
      "metadata": {
        "id": "WTVrWRlj1OH_",
        "colab_type": "code",
        "colab": {}
      },
      "source": [
        ""
      ],
      "execution_count": 0,
      "outputs": []
    },
    {
      "cell_type": "markdown",
      "metadata": {
        "id": "9L5VHcVJ1OIE",
        "colab_type": "text"
      },
      "source": [
        "* **기본 파라미터의 다른 예**\n",
        " - print 함수\n",
        "   - sep, end, file등 여러 기본 파라미터를 가짐 "
      ]
    },
    {
      "cell_type": "code",
      "metadata": {
        "id": "os476e2r1OIF",
        "colab_type": "code",
        "colab": {}
      },
      "source": [
        ""
      ],
      "execution_count": 0,
      "outputs": []
    },
    {
      "cell_type": "markdown",
      "metadata": {
        "id": "dpq7655b1OIJ",
        "colab_type": "text"
      },
      "source": [
        "####  Default parameter 사용 시 주의 점\n",
        "  * 디폴트 파라미터 뒤에 일반 파라미터가 위치할 수 없음\n",
        "  \n",
        "  * e.g) 올바른 예\n",
        "    > def test(a, b, c = 1)\n",
        "    \n",
        "    > def test(a, b = 1, c = 2)\n",
        "    \n",
        "    > def test(a = 1, b = 1, c = 3)\n",
        "    \n",
        "  * e.g) 올바르지 않은 예\n",
        "    > def test(a, b = 1, c)\n",
        "    \n",
        "    > def test(a = 1, b, c)\n",
        "    \n",
        "    > def test(a = 1, b = 1, c)"
      ]
    },
    {
      "cell_type": "code",
      "metadata": {
        "id": "maCQj1-F1OIL",
        "colab_type": "code",
        "colab": {}
      },
      "source": [
        ""
      ],
      "execution_count": 0,
      "outputs": []
    },
    {
      "cell_type": "markdown",
      "metadata": {
        "id": "9CVP6KIB1OIQ",
        "colab_type": "text"
      },
      "source": [
        "#### **keyword parameter (키워드 파라미터)**\n",
        "  * 파이썬의 경우, 파라미터에 값을 전달 할 때, 파라미터의 이름을 명시하여 전달 가능\n",
        "  * 파라미터 이름을 사용하지 않을 경우, 기본적으로 순서에 맞게 전달"
      ]
    },
    {
      "cell_type": "code",
      "metadata": {
        "id": "w_AfvQwD1OIT",
        "colab_type": "code",
        "colab": {}
      },
      "source": [
        ""
      ],
      "execution_count": 0,
      "outputs": []
    },
    {
      "cell_type": "markdown",
      "metadata": {
        "id": "aVzGASd61OIY",
        "colab_type": "text"
      },
      "source": [
        "#### **return (리턴)**\n",
        " + 기본적으로 함수의 종료를 명시\n",
        "   + return 옆에 값이나 수식이 있다면 해당 값을 호출자(caller)에게 반환(전달)\n",
        "   + return 만 존재하면 None 반환\n",
        "   + return이 없는 경우, 기본적으로 함수 코드 블록이 종료되면 종료로 간주. 이때도 None 반환"
      ]
    },
    {
      "cell_type": "code",
      "metadata": {
        "id": "_4up7o3e1OIZ",
        "colab_type": "code",
        "colab": {}
      },
      "source": [
        ""
      ],
      "execution_count": 0,
      "outputs": []
    },
    {
      "cell_type": "markdown",
      "metadata": {
        "id": "GY8zbGEX1OId",
        "colab_type": "text"
      },
      "source": [
        "#### **multiple return (복수 값 반환)**\n",
        " + tuple반환을 하여 복수개의 값 리턴 가능"
      ]
    },
    {
      "cell_type": "code",
      "metadata": {
        "id": "2OKTZ5gy1OIe",
        "colab_type": "code",
        "colab": {}
      },
      "source": [
        ""
      ],
      "execution_count": 0,
      "outputs": []
    },
    {
      "cell_type": "markdown",
      "metadata": {
        "id": "vDk6sldr1OIh",
        "colab_type": "text"
      },
      "source": [
        "#### **variable scope (변수의 범위)** \n",
        " + 변수가 참조 가능한 코드상의 범위를 명시\n",
        " + 함수내의 변수는 자신이 속한 코드 블록이 종료되면 소멸됨\n",
        " + 이렇게 특정 코드 블록에서 선언된 변수를 **지역변수(local variable)** 이라고 함\n",
        " + 반대로 가장 상단에서 정의되어 프로그램 종료 전까지 유지되는 변수를 **전역변수(global variable)**이라고 함\n",
        " + 같은 이름의 지역변수와 전역변수가 존재할 경우, 지역변수의 우선순위가 더 높음"
      ]
    },
    {
      "cell_type": "code",
      "metadata": {
        "id": "DbhFoNkw1OIi",
        "colab_type": "code",
        "colab": {}
      },
      "source": [
        ""
      ],
      "execution_count": 0,
      "outputs": []
    },
    {
      "cell_type": "markdown",
      "metadata": {
        "id": "dq4LoiJJ1OIl",
        "colab_type": "text"
      },
      "source": [
        "#### **variable length argument (가변길이 인자)**\n",
        " - 전달되는 파라미터의 개수가 고정적이지 않은 경우 사용\n",
        " - e.g)\n",
        "   - print 함수\n",
        "   - format 함수\n",
        "  \n",
        "> ***args**,  ****kwargs**\n",
        "\n",
        "> ***args**    : 파라미터를 튜플의 형태로 전달\n",
        "\n",
        "> ****kwargs** : 파리미터를 딕셔너리 형태로 전달(네임드 파라미터)"
      ]
    },
    {
      "cell_type": "code",
      "metadata": {
        "id": "g0fwTJMa1OIn",
        "colab_type": "code",
        "colab": {}
      },
      "source": [
        ""
      ],
      "execution_count": 0,
      "outputs": []
    },
    {
      "cell_type": "markdown",
      "metadata": {
        "id": "C0wxC-IP1OIq",
        "colab_type": "text"
      },
      "source": [
        "#### **keyword parameter (키워드 파라미터)**\n",
        " - \\**가 붙은 경우에는 키워드 파라미터로 인식\n",
        " - 즉 함수 호출 시, 파리미터의 이름과 값을 함께 전달 가능"
      ]
    },
    {
      "cell_type": "code",
      "metadata": {
        "id": "jL_FS71w1OIr",
        "colab_type": "code",
        "colab": {}
      },
      "source": [
        ""
      ],
      "execution_count": 0,
      "outputs": []
    },
    {
      "cell_type": "markdown",
      "metadata": {
        "id": "tfkSAv3_1OIu",
        "colab_type": "text"
      },
      "source": [
        "* 가변길이 함수의 대표적인 예\n",
        " **문자열 포맷 함수**\n",
        " - 여러가지 값과 포맷을 이용하여 문자열을 정의할 수 있는 함수\n",
        " - {} placeholder를 문자열 내에 위치 시킨 후, 해당 위치에 format함수로 전달된 값으로 대체하여 문자열 생성\n",
        " - 포맷 구성은 다음 링크 참조 : https://pyformat.info/"
      ]
    },
    {
      "cell_type": "code",
      "metadata": {
        "id": "iYiu4d_j1OIv",
        "colab_type": "code",
        "colab": {}
      },
      "source": [
        ""
      ],
      "execution_count": 0,
      "outputs": []
    }
  ]
}