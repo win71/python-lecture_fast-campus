{
  "nbformat": 4,
  "nbformat_minor": 0,
  "metadata": {
    "kernelspec": {
      "display_name": "Python 3",
      "language": "python",
      "name": "python3"
    },
    "language_info": {
      "codemirror_mode": {
        "name": "ipython",
        "version": 3
      },
      "file_extension": ".py",
      "mimetype": "text/x-python",
      "name": "python",
      "nbconvert_exporter": "python",
      "pygments_lexer": "ipython3",
      "version": "3.6.5"
    },
    "colab": {
      "name": "Chapter 04 - 함수의 이해 .ipynb",
      "version": "0.3.2",
      "provenance": [],
      "include_colab_link": true
    }
  },
  "cells": [
    {
      "cell_type": "markdown",
      "metadata": {
        "id": "view-in-github",
        "colab_type": "text"
      },
      "source": [
        "<a href=\"https://colab.research.google.com/github/win71/python-lecture_fast-campus/blob/master/Chapter_04_%ED%95%A8%EC%88%98%EC%9D%98_%EC%9D%B4%ED%95%B4_.ipynb\" target=\"_parent\"><img src=\"https://colab.research.google.com/assets/colab-badge.svg\" alt=\"Open In Colab\"/></a>"
      ]
    },
    {
      "cell_type": "markdown",
      "metadata": {
        "id": "zFtTR3TocQaS",
        "colab_type": "text"
      },
      "source": [
        "### 학습목표\n",
        " 1. 함수의 이해\n",
        " 2. 함수 구현 및 사용 숙지"
      ]
    },
    {
      "cell_type": "markdown",
      "metadata": {
        "id": "SGFK9d-qcQaV",
        "colab_type": "text"
      },
      "source": [
        "### 함수?\n",
        "* 지금까지 무심코 코드에서 사용된 많은 함수들이 존재 합니다.\n",
        "* 예를들면, sum, len, range 같은 함수 등이 있죠.\n",
        "* 함수란 우리가 알고있는 개념처럼 주어진 입력(input)에 대해서 의도된 출력(output)를 전달하는 역할을 합니다.\n",
        "\n",
        "* 그렇다면, 하나씩 살펴보겠습니다.\n",
        "  > range 함수는 정수를 입력으로 전달하면 [0, 정수) 로 이루어진 리스트를 생성하는 역할을 합니다.\n",
        "  \n",
        "  > sum 함수는 리스트, 튜플등을 입력으로 전달하면 전체 아이템의 합을 출력으로 전달하는 역할을 합니다.\n",
        "  \n",
        "  > len 함수는 리스트, 튜플등을 입력으로 전달하면 아이템의 개수를 출력으로 전달하는 역할을 합니다.\n",
        "  \n",
        "* 그리고, 위의 함수들은 모두 python 내부에 이미 정의(구현)이 되어 있습니다.\n",
        "* 위와 같은 함수를 내장함수(built-in function)이라고 합니다."
      ]
    },
    {
      "cell_type": "code",
      "metadata": {
        "id": "NbdY63escQaX",
        "colab_type": "code",
        "outputId": "ac09a7cb-e9fe-4547-a6a3-247d69dbc1e4",
        "colab": {
          "base_uri": "https://localhost:8080/",
          "height": 53
        }
      },
      "source": [
        "# 내장 함수의 예\n",
        "a=[1,2,3,4]\n",
        "length=len(a)\n",
        "print(length)\n",
        "\n",
        "summation=sum(a)\n",
        "print(summation)"
      ],
      "execution_count": 0,
      "outputs": [
        {
          "output_type": "stream",
          "text": [
            "4\n",
            "10\n"
          ],
          "name": "stdout"
        }
      ]
    },
    {
      "cell_type": "markdown",
      "metadata": {
        "id": "hR0ubGKGcQac",
        "colab_type": "text"
      },
      "source": [
        "#### **함수의 정의**\n",
        "  + 정의 시 최초에 def 키워드 사용\n",
        "  + argument 정의 (함수에 입력으로 전달하는 값을 의미, argument 또는 parameter라고 함) \n",
        "  + : (콜론) -> 함수 역시 코드 블록이기 때문에 콜론(:) 필요\n",
        "  + body (함수의 구현 부분, 함수 역시 코드 블록이기 때문에 들여쓰기 된 부분까지 함수의 코드블록으로 인지 함)\n",
        "    - 함수를 호출한 코드 (caller)로 함수가 해당 기능을 수행하고 완료된 값(output)을 전달하기 위해 return 키워드 사용\n",
        "    - 즉, return 이후에 오는 값을 caller로 전달\n",
        "  + 함수의 네이밍 역시 중요\n",
        "    - 즉, 어떤 기능을 하는 함수인지 이름으로 최대한 나타날 수 있게 해야함\n",
        "    - e.g) get_a (x) get_student_name (o)"
      ]
    },
    {
      "cell_type": "code",
      "metadata": {
        "id": "EqnacFbRcQad",
        "colab_type": "code",
        "outputId": "33a8ac09-e865-4b30-919c-ab1d80beb920",
        "colab": {
          "base_uri": "https://localhost:8080/",
          "height": 35
        }
      },
      "source": [
        "def add(x,y):\n",
        "    z=x+y\n",
        "    return(z)\n",
        "\n",
        "c=add(45,21)\n",
        "print(c)"
      ],
      "execution_count": 0,
      "outputs": [
        {
          "output_type": "stream",
          "text": [
            "66\n"
          ],
          "name": "stdout"
        }
      ]
    },
    {
      "cell_type": "markdown",
      "metadata": {
        "id": "Y9svOdGgcQag",
        "colab_type": "text"
      },
      "source": [
        "#### **함수의 사용(호출)**\n",
        " + 함수명(파라미터1, 파라미터2, ... 파라미터n)\n",
        " + 위와 같이 정의 된 함수의 이름과 전달되는 parameter(인자)를 괄호안에 전달하여 함수를 호출\n",
        " + 함수가 호출되면 실행의 흐름이 호출자(caller)에서 함수(callee)로 변경 됨\n",
        " \n",
        " + 함수의 입력(인풋) 파라미터(parameter), 아규먼트(argument)라고도 함"
      ]
    },
    {
      "cell_type": "code",
      "metadata": {
        "id": "K5j7GRIycQah",
        "colab_type": "code",
        "colab": {}
      },
      "source": [
        ""
      ],
      "execution_count": 0,
      "outputs": []
    },
    {
      "cell_type": "markdown",
      "metadata": {
        "id": "hhrr8x7NcQam",
        "colab_type": "text"
      },
      "source": [
        "#### **함수 네이밍(naming)**\n",
        "  * 함수 이름으로부터 기능이 명시 \n",
        "  * 의미와 반대되거나 맞지 않는 이름은 사용금지"
      ]
    },
    {
      "cell_type": "code",
      "metadata": {
        "id": "x1PWwzAecQan",
        "colab_type": "code",
        "colab": {}
      },
      "source": [
        ""
      ],
      "execution_count": 0,
      "outputs": []
    },
    {
      "cell_type": "markdown",
      "metadata": {
        "id": "PzuAgTjqcQaq",
        "colab_type": "text"
      },
      "source": [
        "#### **parameter(argument) (인자)**\n",
        " + 함수에 전달되는 입력(input)\n",
        " + 입력이 필요하지 않을 수도, 1개의 입력만 있을 수도, 여러개의 입력이 존재할 수 도 있음\n",
        " + 파라미터로 int, string, float, boolm, list, dict 등등 어떤 파이썬 객체도 전달 가능\n",
        " + 심지어, 함수도 함수의 파라미터로 전달 가능\n",
        " \n",
        " + python의 경우, 타입 명시가 없기 때문에, 함수 생성 시, 의도된 파라미터의 타입에 맞게 입력을 전달하는 것이 중요\n",
        " + 또한 파라미터를 전달 할 때, 정의된 순서에 따라 값을 전달하는 것이 중요\n"
      ]
    },
    {
      "cell_type": "code",
      "metadata": {
        "id": "2AqAi3OncQar",
        "colab_type": "code",
        "outputId": "ed623dd2-c412-4782-817b-a7dbec7f1a3d",
        "colab": {
          "base_uri": "https://localhost:8080/",
          "height": 53
        }
      },
      "source": [
        "def test(x,y):  # x, y 는 변수이므로 함수안에서 얼마든지 출력과 프로그램밍이 가능하다.\n",
        "    print(x,y)\n",
        "    z=x+y\n",
        "    return(z)\n",
        "\n",
        "a=test(10,40)\n",
        "print(a)"
      ],
      "execution_count": 1,
      "outputs": [
        {
          "output_type": "stream",
          "text": [
            "10 40\n",
            "50\n"
          ],
          "name": "stdout"
        }
      ]
    },
    {
      "cell_type": "code",
      "metadata": {
        "id": "rninzfRaggdW",
        "colab_type": "code",
        "outputId": "46d697d9-90cf-44cc-8dfe-c78e0b9d013e",
        "colab": {
          "base_uri": "https://localhost:8080/",
          "height": 35
        }
      },
      "source": [
        "def text_add(x,y):\n",
        "    z=x+y\n",
        "    return(z)\n",
        "  \n",
        "a=text_add('이','창문')\n",
        "print(a)"
      ],
      "execution_count": 3,
      "outputs": [
        {
          "output_type": "stream",
          "text": [
            "이창문\n"
          ],
          "name": "stdout"
        }
      ]
    },
    {
      "cell_type": "markdown",
      "metadata": {
        "id": "wHnVaBXRcQav",
        "colab_type": "text"
      },
      "source": [
        "####  Default parameter (기본 인자) \n",
        " + 함수의 파라미터에 기본값 지정 가능\n",
        " + 파라미터를 명시하지 않을 경우, 지정된 기본값으로 대체"
      ]
    },
    {
      "cell_type": "code",
      "metadata": {
        "id": "FSNIrn7zcQaw",
        "colab_type": "code",
        "colab": {}
      },
      "source": [
        ""
      ],
      "execution_count": 0,
      "outputs": []
    },
    {
      "cell_type": "markdown",
      "metadata": {
        "id": "vxOVG1DicQaz",
        "colab_type": "text"
      },
      "source": [
        "* **기본 파라미터의 다른 예**\n",
        " - print 함수\n",
        "   - sep, end, file등 여러 기본 파라미터를 가짐 "
      ]
    },
    {
      "cell_type": "code",
      "metadata": {
        "id": "NB9Q92M8cQa0",
        "colab_type": "code",
        "colab": {
          "base_uri": "https://localhost:8080/",
          "height": 71
        },
        "outputId": "e1fe8226-1a33-41bc-d3b6-cac1aac3f696"
      },
      "source": [
        "print(1,2,3)\n",
        "print(2,4,5)\n",
        "\n",
        "print(1,2,3,sep='!!',end='%%')\n",
        "print(2,4,5)"
      ],
      "execution_count": 9,
      "outputs": [
        {
          "output_type": "stream",
          "text": [
            "1 2 3\n",
            "2 4 5\n",
            "1!!2!!3%%2 4 5\n"
          ],
          "name": "stdout"
        }
      ]
    },
    {
      "cell_type": "markdown",
      "metadata": {
        "id": "8Szi-w1ucQa6",
        "colab_type": "text"
      },
      "source": [
        "####  Default parameter 사용 시 주의 점\n",
        "  * 디폴트 파라미터 뒤에 일반 파라미터가 위치할 수 없음\n",
        "  \n",
        "  * e.g) 올바른 예\n",
        "    > def test(a, b, c = 1)\n",
        "    \n",
        "    > def test(a, b = 1, c = 2)\n",
        "    \n",
        "    > def test(a = 1, b = 1, c = 3)\n",
        "    \n",
        "  * e.g) 올바르지 않은 예\n",
        "    > def test(a, b = 1, c)\n",
        "    \n",
        "    > def test(a = 1, b, c)\n",
        "    \n",
        "    > def test(a = 1, b = 1, c)"
      ]
    },
    {
      "cell_type": "code",
      "metadata": {
        "id": "i7J0NvcncQa-",
        "colab_type": "code",
        "colab": {
          "base_uri": "https://localhost:8080/",
          "height": 136
        },
        "outputId": "13a1579e-0c87-4a3d-dd50-6f9df27a167c"
      },
      "source": [
        "def test(a, b, c=1):\n",
        "    print(a,b,c)\n",
        "    \n",
        "test(10,20,1)\n",
        "\n",
        "\n",
        "def test(a, b=1, c):\n",
        "    print(a,b,c)\n",
        "    \n",
        "test(10,1,20)"
      ],
      "execution_count": 11,
      "outputs": [
        {
          "output_type": "error",
          "ename": "SyntaxError",
          "evalue": "ignored",
          "traceback": [
            "\u001b[0;36m  File \u001b[0;32m\"<ipython-input-11-7487f4b2bc78>\"\u001b[0;36m, line \u001b[0;32m7\u001b[0m\n\u001b[0;31m    def test(a, b=1, c):\u001b[0m\n\u001b[0m            ^\u001b[0m\n\u001b[0;31mSyntaxError\u001b[0m\u001b[0;31m:\u001b[0m non-default argument follows default argument\n"
          ]
        }
      ]
    },
    {
      "cell_type": "markdown",
      "metadata": {
        "id": "ghtIoRO6cQbF",
        "colab_type": "text"
      },
      "source": [
        "#### **keyword parameter (키워드 파라미터)**\n",
        "  * 파이썬의 경우, 파라미터에 값을 전달 할 때, 파라미터의 이름을 명시하여 전달 가능\n",
        "  * 파라미터 이름을 사용하지 않을 경우, 기본적으로 순서에 맞게 전달"
      ]
    },
    {
      "cell_type": "code",
      "metadata": {
        "id": "BAacNsCPcQbG",
        "colab_type": "code",
        "colab": {
          "base_uri": "https://localhost:8080/",
          "height": 35
        },
        "outputId": "d6969f27-61fb-4eb8-de73-18e513f483d9"
      },
      "source": [
        "def test(x,y,z):\n",
        "    a=x+y+z\n",
        "    return(a)\n",
        "\n",
        "test(x=10,y=20,z=3)  # 변수이름(키워드)를 사용하면 순서를 바꾸어도 된다. "
      ],
      "execution_count": 15,
      "outputs": [
        {
          "output_type": "execute_result",
          "data": {
            "text/plain": [
              "33"
            ]
          },
          "metadata": {
            "tags": []
          },
          "execution_count": 15
        }
      ]
    },
    {
      "cell_type": "markdown",
      "metadata": {
        "id": "h-iA7gAXcQbL",
        "colab_type": "text"
      },
      "source": [
        "#### **return (리턴)**\n",
        " + 기본적으로 함수의 종료를 명시\n",
        "   + return 옆에 값이나 수식이 있다면 해당 값을 호출자(caller)에게 반환(전달)\n",
        "   + return 만 존재하면 None 반환\n",
        "   + return이 없는 경우, 기본적으로 함수 코드 블록이 종료되면 종료로 간주. 이때도 None 반환"
      ]
    },
    {
      "cell_type": "code",
      "metadata": {
        "id": "uEtKepwAcQbN",
        "colab_type": "code",
        "colab": {
          "base_uri": "https://localhost:8080/",
          "height": 35
        },
        "outputId": "33eb218a-65d8-45cf-80e1-8ab123811315"
      },
      "source": [
        "## 함수는 리턴을 만나면 끝낸다. 함수를 호출하는 쪽으로 값을 전달한다. \n",
        "\n",
        "def multiply(x,y):\n",
        "    if x>10:\n",
        "        return x*y\n",
        "    \n",
        "    return(x+2)*y\n",
        "\n",
        "    \n",
        "multiply(1,5)"
      ],
      "execution_count": 19,
      "outputs": [
        {
          "output_type": "execute_result",
          "data": {
            "text/plain": [
              "15"
            ]
          },
          "metadata": {
            "tags": []
          },
          "execution_count": 19
        }
      ]
    },
    {
      "cell_type": "code",
      "metadata": {
        "id": "caIGLWa7gO2W",
        "colab_type": "code",
        "colab": {
          "base_uri": "https://localhost:8080/",
          "height": 35
        },
        "outputId": "a69a9348-7e08-44d0-9fd5-a2f6a150610d"
      },
      "source": [
        "\n",
        "def multiply(x,y):\n",
        "    if x>10:\n",
        "        return x*y\n",
        "        \n",
        "    return(x+2)*y\n",
        "    print(x+y)          ## 이 코드는 실행이 안된다. 이미 앞에 return에서 함수가 종료되므로 \n",
        "    \n",
        "multiply(1,5)"
      ],
      "execution_count": 20,
      "outputs": [
        {
          "output_type": "execute_result",
          "data": {
            "text/plain": [
              "15"
            ]
          },
          "metadata": {
            "tags": []
          },
          "execution_count": 20
        }
      ]
    },
    {
      "cell_type": "code",
      "metadata": {
        "id": "Ykcfc0ARgOkp",
        "colab_type": "code",
        "colab": {
          "base_uri": "https://localhost:8080/",
          "height": 35
        },
        "outputId": "0a67e2af-d451-4117-958b-80c9c591fe0d"
      },
      "source": [
        "\n",
        "def multiply(x,y):\n",
        "    if x>10:\n",
        "        return x*y   ## 여기에서 종료된다. 아래 부분 코드는 실행이 안된다. \n",
        "    \n",
        "    return(x+2)*y\n",
        "    print(x+y)\n",
        "    \n",
        "multiply(10,5)"
      ],
      "execution_count": 21,
      "outputs": [
        {
          "output_type": "execute_result",
          "data": {
            "text/plain": [
              "60"
            ]
          },
          "metadata": {
            "tags": []
          },
          "execution_count": 21
        }
      ]
    },
    {
      "cell_type": "code",
      "metadata": {
        "id": "9_YIZGtjg4uT",
        "colab_type": "code",
        "colab": {
          "base_uri": "https://localhost:8080/",
          "height": 35
        },
        "outputId": "1d7f614a-6d96-41dd-ee2d-4ada7c9200be"
      },
      "source": [
        "def multiply(x,y):\n",
        "    if x>10:\n",
        "        return          ## 여기에서 return이 실행되고 아무값도 반환하지 않게 된다. \n",
        "    \n",
        "    return(x+2)*y\n",
        "    print(x+y)\n",
        "    \n",
        "a=multiply(12,5)\n",
        "print(a)"
      ],
      "execution_count": 24,
      "outputs": [
        {
          "output_type": "stream",
          "text": [
            "None\n"
          ],
          "name": "stdout"
        }
      ]
    },
    {
      "cell_type": "code",
      "metadata": {
        "id": "V1kK2tYeg4Uw",
        "colab_type": "code",
        "colab": {
          "base_uri": "https://localhost:8080/",
          "height": 35
        },
        "outputId": "582f10f7-dddb-48bd-9f3f-c7e85f76254a"
      },
      "source": [
        "def multiply(x,y):\n",
        "    if x>10:\n",
        "        return x*y\n",
        "  \n",
        "    \n",
        "a=multiply(12,5)\n",
        "print(a)"
      ],
      "execution_count": 26,
      "outputs": [
        {
          "output_type": "stream",
          "text": [
            "60\n"
          ],
          "name": "stdout"
        }
      ]
    },
    {
      "cell_type": "code",
      "metadata": {
        "id": "ZJf05XPPhhv8",
        "colab_type": "code",
        "colab": {
          "base_uri": "https://localhost:8080/",
          "height": 35
        },
        "outputId": "df6040a7-e6ad-461b-814f-3a72603e85c2"
      },
      "source": [
        "def multiply(x,y):\n",
        "    if x>10:\n",
        "        return x*y\n",
        "    \n",
        "a=multiply(2,5)   # 함수의 모든 로직이 수행되고 함수가 종료된다. \n",
        "print(a)"
      ],
      "execution_count": 27,
      "outputs": [
        {
          "output_type": "stream",
          "text": [
            "None\n"
          ],
          "name": "stdout"
        }
      ]
    },
    {
      "cell_type": "markdown",
      "metadata": {
        "id": "EhkURMw7cQbP",
        "colab_type": "text"
      },
      "source": [
        "#### **multiple return (복수 값 반환)**\n",
        " + tuple반환을 하여 복수개의 값 리턴 가능"
      ]
    },
    {
      "cell_type": "code",
      "metadata": {
        "id": "hh1cWSWScQbQ",
        "colab_type": "code",
        "colab": {
          "base_uri": "https://localhost:8080/",
          "height": 53
        },
        "outputId": "ee6df512-8599-4d40-d871-1afc9cbdbbf4"
      },
      "source": [
        "def add_mul(x,y):\n",
        "    s=x+y\n",
        "    m=x*y\n",
        "    \n",
        "    return(s,m)\n",
        "\n",
        "c=add_mul(3,4)\n",
        "print(type(c))\n",
        "print(list(c))"
      ],
      "execution_count": 31,
      "outputs": [
        {
          "output_type": "stream",
          "text": [
            "<class 'tuple'>\n",
            "[7, 12]\n"
          ],
          "name": "stdout"
        }
      ]
    },
    {
      "cell_type": "markdown",
      "metadata": {
        "id": "immGI12AcQbT",
        "colab_type": "text"
      },
      "source": [
        "#### **variable scope (변수의 범위)** \n",
        " + 변수가 참조 가능한 코드상의 범위를 명시\n",
        " + 함수내의 변수는 자신이 속한 코드 블록이 종료되면 소멸됨\n",
        " + 이렇게 특정 코드 블록에서 선언된 변수를 **지역변수(local variable)** 이라고 함\n",
        " + 반대로 가장 상단에서 정의되어 프로그램 종료 전까지 유지되는 변수를 **전역변수(global variable)**이라고 함\n",
        " + 같은 이름의 지역변수와 전역변수가 존재할 경우, 지역변수의 우선순위가 더 높음"
      ]
    },
    {
      "cell_type": "code",
      "metadata": {
        "id": "c-w37kEqcQbU",
        "colab_type": "code",
        "colab": {
          "base_uri": "https://localhost:8080/",
          "height": 53
        },
        "outputId": "11f45cb6-c1fc-4aaf-8012-7b0a16f91c24"
      },
      "source": [
        "num1=10\n",
        "num2=30\n",
        "\n",
        "def test(num1,num2):  ## 여기에 선언된 num1, num2는 함수안에서만 유효-->local 변수라 한다. 함수가 종료되면 local변수는 사라진다. \n",
        "    print(num1,num2)\n",
        "    return(num1+num2)\n",
        "\n",
        "test(40,50)\n",
        "print(num1,num2)   ## 이때 1,2행에서 선언된 변수를 global 변수라 한다. 이 변수는 컴퓨터가 살아 있는동안 같이 살아있게 된다. \n"
      ],
      "execution_count": 34,
      "outputs": [
        {
          "output_type": "stream",
          "text": [
            "40 50\n",
            "10 30\n"
          ],
          "name": "stdout"
        }
      ]
    },
    {
      "cell_type": "markdown",
      "metadata": {
        "id": "7kzL4U9KcQbY",
        "colab_type": "text"
      },
      "source": [
        "#### **variable length argument (가변길이 인자)**\n",
        " - 전달되는 파라미터의 개수가 고정적이지 않은 경우 사용\n",
        " - e.g)\n",
        "   - print 함수\n",
        "   - format 함수\n",
        "  \n",
        "> ***args**,  ****kwargs**\n",
        "\n",
        "> ***args**    : 파라미터를 튜플의 형태로 전달\n",
        "\n",
        "> ****kwargs** : 파리미터를 딕셔너리 형태로 전달(네임드 파라미터)"
      ]
    },
    {
      "cell_type": "code",
      "metadata": {
        "id": "G6v06TTjcQbZ",
        "colab_type": "code",
        "colab": {
          "base_uri": "https://localhost:8080/",
          "height": 89
        },
        "outputId": "bec1be3c-0684-4bef-e929-9bb307626ac5"
      },
      "source": [
        "print()\n",
        "print(1,2)\n",
        "print(1,2,3)\n",
        "print(1,2,3,4)"
      ],
      "execution_count": 35,
      "outputs": [
        {
          "output_type": "stream",
          "text": [
            "\n",
            "1 2\n",
            "1 2 3\n",
            "1 2 3 4\n"
          ],
          "name": "stdout"
        }
      ]
    },
    {
      "cell_type": "code",
      "metadata": {
        "id": "DbbabWclkdkt",
        "colab_type": "code",
        "colab": {
          "base_uri": "https://localhost:8080/",
          "height": 53
        },
        "outputId": "207e87c3-6fb7-4138-cfd5-77eb5a3a6f3a"
      },
      "source": [
        "def test(*args):     ## 앞에 별표를 붙이면 가변길이 함수가 된다. 함수 내부적으로는 args를 튜플로 인식한다.\n",
        "    print(type(args))\n",
        "    print(args)\n",
        "   \n",
        "test(10,30,40)\n"
      ],
      "execution_count": 43,
      "outputs": [
        {
          "output_type": "stream",
          "text": [
            "<class 'tuple'>\n",
            "(10, 30, 40)\n"
          ],
          "name": "stdout"
        }
      ]
    },
    {
      "cell_type": "code",
      "metadata": {
        "id": "wkxqaXQfkdVn",
        "colab_type": "code",
        "colab": {
          "base_uri": "https://localhost:8080/",
          "height": 71
        },
        "outputId": "0655e33f-d1d0-4f55-9659-9c762a5d7efc"
      },
      "source": [
        "def test(*args):     ## 앞에 별표를 붙이면 가변길이 함수가 된다. 함수 내부적으로는 args를 튜플로 인식한다.\n",
        "    for item in args:\n",
        "        print(item)\n",
        "   \n",
        "test(10,30,40)"
      ],
      "execution_count": 45,
      "outputs": [
        {
          "output_type": "stream",
          "text": [
            "10\n",
            "30\n",
            "40\n"
          ],
          "name": "stdout"
        }
      ]
    },
    {
      "cell_type": "code",
      "metadata": {
        "id": "Dv8ukz8wkdHs",
        "colab_type": "code",
        "colab": {}
      },
      "source": [
        ""
      ],
      "execution_count": 0,
      "outputs": []
    },
    {
      "cell_type": "markdown",
      "metadata": {
        "id": "CCogyYVocQbc",
        "colab_type": "text"
      },
      "source": [
        "#### **keyword parameter (키워드 파라미터)**\n",
        " - \\**가 붙은 경우에는 키워드 파라미터로 인식\n",
        " - 즉 함수 호출 시, 파리미터의 이름과 값을 함께 전달 가능"
      ]
    },
    {
      "cell_type": "code",
      "metadata": {
        "id": "YIT1iM6EcQbd",
        "colab_type": "code",
        "colab": {
          "base_uri": "https://localhost:8080/",
          "height": 53
        },
        "outputId": "5fc98f64-20a3-42a5-8601-275c69e3f9ea"
      },
      "source": [
        "def test2(**kwargs):\n",
        "    print(type(kwargs))\n",
        "    print(kwargs)\n",
        "   \n",
        "test2(a=1,b=2,c=3,name='bob')\n"
      ],
      "execution_count": 58,
      "outputs": [
        {
          "output_type": "stream",
          "text": [
            "<class 'dict'>\n",
            "{'a': 1, 'b': 2, 'c': 3, 'name': 'bob'}\n"
          ],
          "name": "stdout"
        }
      ]
    },
    {
      "cell_type": "code",
      "metadata": {
        "id": "D32EP4gGm2Ob",
        "colab_type": "code",
        "colab": {
          "base_uri": "https://localhost:8080/",
          "height": 107
        },
        "outputId": "4c510110-e845-4ab6-a370-fc688d6b7a04"
      },
      "source": [
        "def test2(**kwargs):\n",
        "    for key, value in kwargs.items():\n",
        "        print('key:', key,',value:',value)\n",
        "   \n",
        "test2(a=1,b=2,c=3,name='bob',age=90)"
      ],
      "execution_count": 57,
      "outputs": [
        {
          "output_type": "stream",
          "text": [
            "key: a ,value: 1\n",
            "key: b ,value: 2\n",
            "key: c ,value: 3\n",
            "key: name ,value: bob\n",
            "key: age ,value: 90\n"
          ],
          "name": "stdout"
        }
      ]
    },
    {
      "cell_type": "markdown",
      "metadata": {
        "id": "6qKuqxkycQbg",
        "colab_type": "text"
      },
      "source": [
        "* 가변길이 함수의 대표적인 예\n",
        " **문자열 포맷 함수**\n",
        " - 여러가지 값과 포맷을 이용하여 문자열을 정의할 수 있는 함수\n",
        " - {} placeholder를 문자열 내에 위치 시킨 후, 해당 위치에 format함수로 전달된 값으로 대체하여 문자열 생성\n",
        " - 포맷 구성은 다음 링크 참조 : https://pyformat.info/"
      ]
    },
    {
      "cell_type": "code",
      "metadata": {
        "id": "5-tgL8oQogPL",
        "colab_type": "code",
        "colab": {
          "base_uri": "https://localhost:8080/",
          "height": 35
        },
        "outputId": "4dc05086-f310-4cee-8028-94d92fe5e1b0"
      },
      "source": [
        "a='오늘 온도: 30도, 강수확률은:60%'\n",
        "print(a)"
      ],
      "execution_count": 59,
      "outputs": [
        {
          "output_type": "stream",
          "text": [
            "오늘 온도: 30도, 강수확률은:60%\n"
          ],
          "name": "stdout"
        }
      ]
    },
    {
      "cell_type": "code",
      "metadata": {
        "id": "iSNdJrUwogCm",
        "colab_type": "code",
        "colab": {
          "base_uri": "https://localhost:8080/",
          "height": 35
        },
        "outputId": "9e3f26b4-10e9-46fc-ee60-c7fc04945730"
      },
      "source": [
        "a='오늘 온도: {}도, 강수확률은:{}% 내일온도:{}도' .format(20,50,20)\n",
        "print(a)"
      ],
      "execution_count": 66,
      "outputs": [
        {
          "output_type": "stream",
          "text": [
            "오늘 온도: 20도, 강수확률은:50% 내일온도:20도\n"
          ],
          "name": "stdout"
        }
      ]
    },
    {
      "cell_type": "code",
      "metadata": {
        "id": "_fV_7L3Oof2s",
        "colab_type": "code",
        "colab": {
          "base_uri": "https://localhost:8080/",
          "height": 35
        },
        "outputId": "67d26352-1015-468d-d758-6580eb4ddce2"
      },
      "source": [
        "a='오늘 온도: {today_temp}도, 강수확률은:{today_prob}% 내일온도:{tomorrow_temp}도' .format(tomorrow_temp=25, today_temp=20,today_prob=50)\n",
        "print(a)"
      ],
      "execution_count": 70,
      "outputs": [
        {
          "output_type": "stream",
          "text": [
            "오늘 온도: 20도, 강수확률은:50% 내일온도:25도\n"
          ],
          "name": "stdout"
        }
      ]
    },
    {
      "cell_type": "code",
      "metadata": {
        "id": "h8rwSUd4ofmL",
        "colab_type": "code",
        "colab": {}
      },
      "source": [
        ""
      ],
      "execution_count": 0,
      "outputs": []
    },
    {
      "cell_type": "code",
      "metadata": {
        "id": "dIxchCe6cQbh",
        "colab_type": "code",
        "colab": {}
      },
      "source": [
        ""
      ],
      "execution_count": 0,
      "outputs": []
    }
  ]
}