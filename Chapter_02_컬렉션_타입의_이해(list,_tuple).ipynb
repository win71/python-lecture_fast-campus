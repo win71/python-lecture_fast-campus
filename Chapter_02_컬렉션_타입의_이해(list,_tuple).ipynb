{
  "nbformat": 4,
  "nbformat_minor": 0,
  "metadata": {
    "kernelspec": {
      "display_name": "Python 3",
      "language": "python",
      "name": "python3"
    },
    "language_info": {
      "codemirror_mode": {
        "name": "ipython",
        "version": 3
      },
      "file_extension": ".py",
      "mimetype": "text/x-python",
      "name": "python",
      "nbconvert_exporter": "python",
      "pygments_lexer": "ipython3",
      "version": "3.6.5"
    },
    "colab": {
      "name": "Chapter 02. 컬렉션 타입의 이해(list, tuple).ipynb",
      "version": "0.3.2",
      "provenance": [],
      "include_colab_link": true
    }
  },
  "cells": [
    {
      "cell_type": "markdown",
      "metadata": {
        "id": "view-in-github",
        "colab_type": "text"
      },
      "source": [
        "<a href=\"https://colab.research.google.com/github/win71/python-lecture_fast-campus/blob/master/Chapter_02_%EC%BB%AC%EB%A0%89%EC%85%98_%ED%83%80%EC%9E%85%EC%9D%98_%EC%9D%B4%ED%95%B4(list%2C_tuple).ipynb\" target=\"_parent\"><img src=\"https://colab.research.google.com/assets/colab-badge.svg\" alt=\"Open In Colab\"/></a>"
      ]
    },
    {
      "cell_type": "markdown",
      "metadata": {
        "id": "xZR4Ds_zVADx",
        "colab_type": "text"
      },
      "source": [
        "## 학습목표\n",
        " 1. list, tuple에 대해 이해 및 실습\n"
      ]
    },
    {
      "cell_type": "markdown",
      "metadata": {
        "id": "uF6dJESJVADz",
        "colab_type": "text"
      },
      "source": [
        "### **리스트 & 튜플**\n",
        " * 복수개의 값을 담을 수 있는 데이터 구조\n",
        " * 실생활에서 사용하는 리스트(학생 리스트, 성적 리스트 등등)과 동일한 의미로 이해\n",
        " * list - mutable    (생성된 후에 변경 가능)  \n",
        " * tuple - immutable (생성된 후에 변경 불가능)  "
      ]
    },
    {
      "cell_type": "markdown",
      "metadata": {
        "id": "L672FPr4VAD1",
        "colab_type": "text"
      },
      "source": [
        "#### **리스트 초기화**\n",
        " - [] 안에 값을 담아서 생성\n",
        " - list() 함수로 생성\n",
        " - str.split()함수로 생성"
      ]
    },
    {
      "cell_type": "code",
      "metadata": {
        "id": "BWhVSx4eLejn",
        "colab_type": "code",
        "colab": {
          "base_uri": "https://localhost:8080/",
          "height": 71
        },
        "outputId": "04dd4364-bff8-4f0a-8c80-b1ca5a7a6fb2"
      },
      "source": [
        "a=[]\n",
        "print(a)\n",
        "\n",
        "b=[1,2,3,4,5,10]\n",
        "print(b)\n",
        "\n",
        "c=['korea','canada',1,2,[34,35]]\n",
        "print(c)"
      ],
      "execution_count": 4,
      "outputs": [
        {
          "output_type": "stream",
          "text": [
            "[]\n",
            "[1, 2, 3, 4, 5, 10]\n",
            "['korea', 'canada', 1, 2, [34, 35]]\n"
          ],
          "name": "stdout"
        }
      ]
    },
    {
      "cell_type": "markdown",
      "metadata": {
        "id": "97UgtlnUVAD2",
        "colab_type": "text"
      },
      "source": [
        "* **list() 함수**\n",
        " + 다른 데이터 타입을 리스트로 변환할 때도 사용"
      ]
    },
    {
      "cell_type": "code",
      "metadata": {
        "id": "R8xRnmJCMAym",
        "colab_type": "code",
        "colab": {
          "base_uri": "https://localhost:8080/",
          "height": 53
        },
        "outputId": "1136b550-c612-4b5f-d14d-5d1012721cb5"
      },
      "source": [
        "a='hello world'\n",
        "b=list(a)\n",
        "print(b)\n",
        "\n",
        "c=(1,2,3)\n",
        "d=list(c)\n",
        "print(d)"
      ],
      "execution_count": 7,
      "outputs": [
        {
          "output_type": "stream",
          "text": [
            "['h', 'e', 'l', 'l', 'o', ' ', 'w', 'o', 'r', 'l', 'd']\n",
            "[1, 2, 3]\n"
          ],
          "name": "stdout"
        }
      ]
    },
    {
      "cell_type": "markdown",
      "metadata": {
        "id": "wziRzEfJVAD8",
        "colab_type": "text"
      },
      "source": [
        "+ **string split 함수**\n",
        " * 구분자로 구분되는 리스트를 반환 (빈번히 사용 됨)"
      ]
    },
    {
      "cell_type": "code",
      "metadata": {
        "id": "izQJ3qydVAD-",
        "colab_type": "code",
        "colab": {
          "base_uri": "https://localhost:8080/",
          "height": 35
        },
        "outputId": "eb0df029-a541-4120-8114-476a697770b0"
      },
      "source": [
        "a='hello world nice weather'\n",
        "b=a.split()\n",
        "print(b)"
      ],
      "execution_count": 10,
      "outputs": [
        {
          "output_type": "stream",
          "text": [
            "['hello', 'world', 'nice', 'weather']\n"
          ],
          "name": "stdout"
        }
      ]
    },
    {
      "cell_type": "markdown",
      "metadata": {
        "id": "0kj82keZVAEC",
        "colab_type": "text"
      },
      "source": [
        "#### **리스트 indexing**\n",
        " * 문자열의 인덱싱과 동일하게 동작\n",
        " * [] 연산자를 이용하여 항목 얻어오기\n",
        " * [i] - i번째 원소를 반환\n",
        " * i가 음수인 경우도 가능하며 마지막원소가 -1로 하여 앞으로 갈때마다 1씩 감소함"
      ]
    },
    {
      "cell_type": "code",
      "metadata": {
        "id": "uWL7mhB8VAEE",
        "colab_type": "code",
        "colab": {
          "base_uri": "https://localhost:8080/",
          "height": 71
        },
        "outputId": "b1d2024a-fee9-4955-f8e1-1ff46b71b0d5"
      },
      "source": [
        "a=[1,2,3,4,5,6]\n",
        "print(a[2])\n",
        "print(a[5])\n",
        "print(a[-1])"
      ],
      "execution_count": 15,
      "outputs": [
        {
          "output_type": "stream",
          "text": [
            "3\n",
            "6\n",
            "6\n"
          ],
          "name": "stdout"
        }
      ]
    },
    {
      "cell_type": "code",
      "metadata": {
        "id": "D9k9uZI1M8uE",
        "colab_type": "code",
        "colab": {}
      },
      "source": [
        ""
      ],
      "execution_count": 0,
      "outputs": []
    },
    {
      "cell_type": "markdown",
      "metadata": {
        "id": "FC4bmSexVAEH",
        "colab_type": "text"
      },
      "source": [
        "#### **리스트 개별 아이템에 접근**\n",
        " - 인덱스에 접근하여 값을 업데이트 가능"
      ]
    },
    {
      "cell_type": "code",
      "metadata": {
        "id": "caJ8QS4hVAEI",
        "colab_type": "code",
        "colab": {
          "base_uri": "https://localhost:8080/",
          "height": 89
        },
        "outputId": "a1940aa9-651b-49df-b434-88cc2bf3844c"
      },
      "source": [
        "# 문자열은 불변객체(immutable)\n",
        "a='hello world'\n",
        "print(a[0])\n",
        "\n",
        "## a[0]='j'  이것은 실행이 되지 않는다.\n",
        "c=\"j\"+a[1:]\n",
        "print(c)\n",
        "\n",
        "d=a.replace('h','j')\n",
        "print(d)\n",
        "print(a)\n",
        "\n"
      ],
      "execution_count": 19,
      "outputs": [
        {
          "output_type": "stream",
          "text": [
            "h\n",
            "jello world\n",
            "jello world\n",
            "hello world\n"
          ],
          "name": "stdout"
        }
      ]
    },
    {
      "cell_type": "code",
      "metadata": {
        "id": "VisHQ-j3NVaD",
        "colab_type": "code",
        "colab": {
          "base_uri": "https://localhost:8080/",
          "height": 35
        },
        "outputId": "4111f110-c898-4017-d950-78094deedb1b"
      },
      "source": [
        "# 숫자열 리스트는 mutable 변경가능한 객체\n",
        "a=[1,2,3,4,5,6]\n",
        "a[0]=100\n",
        "a[-1]=95\n",
        "print(a)"
      ],
      "execution_count": 21,
      "outputs": [
        {
          "output_type": "stream",
          "text": [
            "[100, 2, 3, 4, 5, 95]\n"
          ],
          "name": "stdout"
        }
      ]
    },
    {
      "cell_type": "markdown",
      "metadata": {
        "id": "E_UrSv6eVAEL",
        "colab_type": "text"
      },
      "source": [
        "#### **리스트 slicing**\n",
        " - 문자열 슬라이싱과 동일하게 동작\n",
        " - 슬라이싱의 결과 역시 list!"
      ]
    },
    {
      "cell_type": "code",
      "metadata": {
        "id": "26G74wiQVAEN",
        "colab_type": "code",
        "colab": {
          "base_uri": "https://localhost:8080/",
          "height": 179
        },
        "outputId": "d0e80f92-06ee-49fc-a3e6-504da74214fb"
      },
      "source": [
        "a=[1,2,3,4,5,6,7,8]\n",
        "len(a)\n",
        "print(a[4:7])\n",
        "print(a[:7])\n",
        "print(a[3:])\n",
        "print(a[:])\n",
        "\n",
        "print('===========================================================')\n",
        "# slicing\n",
        "# statr:end:increment\n",
        "print(a[1:7:1])\n",
        "print(a[1:7:2])\n",
        "print(a[1:7:4])\n",
        "print(a[1:7:6])"
      ],
      "execution_count": 33,
      "outputs": [
        {
          "output_type": "stream",
          "text": [
            "[5, 6, 7]\n",
            "[1, 2, 3, 4, 5, 6, 7]\n",
            "[4, 5, 6, 7, 8]\n",
            "[1, 2, 3, 4, 5, 6, 7, 8]\n",
            "===========================================================\n",
            "[2, 3, 4, 5, 6, 7]\n",
            "[2, 4, 6]\n",
            "[2, 6]\n",
            "[2]\n"
          ],
          "name": "stdout"
        }
      ]
    },
    {
      "cell_type": "markdown",
      "metadata": {
        "id": "URM3gD4KVAEQ",
        "colab_type": "text"
      },
      "source": [
        "### list 멤버 함수\n",
        " - 생성된 리스트 객체에 동작하는 함수\n",
        " - 향후, 클래스와 멤버 함수 개념을 이해할 예정"
      ]
    },
    {
      "cell_type": "markdown",
      "metadata": {
        "id": "1tIMOh8qVAES",
        "colab_type": "text"
      },
      "source": [
        "* **append()**\n",
        " + 리스트의 끝에 항목을 추가함"
      ]
    },
    {
      "cell_type": "code",
      "metadata": {
        "id": "f_mHsgEKVAET",
        "colab_type": "code",
        "colab": {
          "base_uri": "https://localhost:8080/",
          "height": 35
        },
        "outputId": "bc7d6182-1c22-4b00-84e0-40b65d147e76"
      },
      "source": [
        "a=[1,2,3,4,5]\n",
        "a.append(10)\n",
        "print(a)"
      ],
      "execution_count": 35,
      "outputs": [
        {
          "output_type": "stream",
          "text": [
            "[1, 2, 3, 4, 5, 10]\n"
          ],
          "name": "stdout"
        }
      ]
    },
    {
      "cell_type": "markdown",
      "metadata": {
        "id": "Y3sX7DA2VAEY",
        "colab_type": "text"
      },
      "source": [
        "+ **extend()**\n",
        " * 리스트를 연장\n",
        " * += 로도 가능함"
      ]
    },
    {
      "cell_type": "code",
      "metadata": {
        "id": "rEGrrQEXVAEZ",
        "colab_type": "code",
        "colab": {
          "base_uri": "https://localhost:8080/",
          "height": 35
        },
        "outputId": "80b9c987-2dd7-4d10-dc15-2bf9882c9b58"
      },
      "source": [
        "a=[1,2,3,4,5]\n",
        "b=[6,7,8,9,10]\n",
        "a.append(b)\n",
        "print(a)"
      ],
      "execution_count": 43,
      "outputs": [
        {
          "output_type": "stream",
          "text": [
            "[1, 2, 3, 4, 5, [6, 7, 8, 9, 10]]\n"
          ],
          "name": "stdout"
        }
      ]
    },
    {
      "cell_type": "code",
      "metadata": {
        "id": "WF6QpL8ERvPq",
        "colab_type": "code",
        "colab": {
          "base_uri": "https://localhost:8080/",
          "height": 35
        },
        "outputId": "f73c2b67-30bb-4375-e825-d4d8d9367d02"
      },
      "source": [
        "a=[1,2,3,4,5]\n",
        "b=[6,7,8,9,10]\n",
        "a.extend(b)\n",
        "print(a)"
      ],
      "execution_count": 44,
      "outputs": [
        {
          "output_type": "stream",
          "text": [
            "[1, 2, 3, 4, 5, 6, 7, 8, 9, 10]\n"
          ],
          "name": "stdout"
        }
      ]
    },
    {
      "cell_type": "code",
      "metadata": {
        "id": "IPHyqyW6SLsP",
        "colab_type": "code",
        "colab": {
          "base_uri": "https://localhost:8080/",
          "height": 35
        },
        "outputId": "8a3e6191-44c9-4fbe-ba63-1f801f33e0e8"
      },
      "source": [
        "a=[1,2,3,4,5]\n",
        "b=[6,7,8,9,10]\n",
        "c=a+b\n",
        "print(c)"
      ],
      "execution_count": 45,
      "outputs": [
        {
          "output_type": "stream",
          "text": [
            "[1, 2, 3, 4, 5, 6, 7, 8, 9, 10]\n"
          ],
          "name": "stdout"
        }
      ]
    },
    {
      "cell_type": "markdown",
      "metadata": {
        "id": "F5NDM6CtVAEe",
        "colab_type": "text"
      },
      "source": [
        "+ **insert()로 항목추가**\n",
        " * 리스트의 원하는 위치에 추가 가능\n",
        " * 앞에 인덱스를, 뒤에 아이템을 명시"
      ]
    },
    {
      "cell_type": "code",
      "metadata": {
        "id": "f8QHIeSISYnH",
        "colab_type": "code",
        "colab": {
          "base_uri": "https://localhost:8080/",
          "height": 35
        },
        "outputId": "ba1e5395-fcf1-40dc-dc10-e66f621b891c"
      },
      "source": [
        "a=[1,2,3,4,5]\n",
        "a.insert(1,100)\n",
        "print(a)"
      ],
      "execution_count": 47,
      "outputs": [
        {
          "output_type": "stream",
          "text": [
            "[1, 100, 2, 3, 4, 5]\n"
          ],
          "name": "stdout"
        }
      ]
    },
    {
      "cell_type": "markdown",
      "metadata": {
        "id": "P2RG3qzLVAEg",
        "colab_type": "text"
      },
      "source": [
        "+ **remove()**\n",
        " * 값으로 항목 삭제"
      ]
    },
    {
      "cell_type": "code",
      "metadata": {
        "id": "ByRJHf6EVAEi",
        "colab_type": "code",
        "colab": {
          "base_uri": "https://localhost:8080/",
          "height": 35
        },
        "outputId": "72150606-fa3e-467f-d4a4-1f1e615e2471"
      },
      "source": [
        "a=[1,2,3,3,4,5]\n",
        "a.remove(3) # remove() 괄호안에는 값이 들어간다.\n",
        "print(a)"
      ],
      "execution_count": 49,
      "outputs": [
        {
          "output_type": "stream",
          "text": [
            "[1, 2, 3, 4, 5]\n"
          ],
          "name": "stdout"
        }
      ]
    },
    {
      "cell_type": "markdown",
      "metadata": {
        "id": "JDiqT4rrVAEl",
        "colab_type": "text"
      },
      "source": [
        "+ **pop()**\n",
        "  - 지우고자 하는 아이템을 반환 후, 삭제"
      ]
    },
    {
      "cell_type": "code",
      "metadata": {
        "id": "xjs6Gu6fVAEn",
        "colab_type": "code",
        "colab": {
          "base_uri": "https://localhost:8080/",
          "height": 53
        },
        "outputId": "a473f62d-e5fe-4c0e-fb4d-8172f9e3d432"
      },
      "source": [
        "a=[1,2,3,7,4,5]\n",
        "d=a.pop(3)\n",
        "print(a)\n",
        "print(d)"
      ],
      "execution_count": 51,
      "outputs": [
        {
          "output_type": "stream",
          "text": [
            "[1, 2, 3, 4, 5]\n",
            "7\n"
          ],
          "name": "stdout"
        }
      ]
    },
    {
      "cell_type": "markdown",
      "metadata": {
        "id": "64AWV8JbVAEs",
        "colab_type": "text"
      },
      "source": [
        "+ **index()**\n",
        " * 찾고자 하는 값의 인덱스 반환"
      ]
    },
    {
      "cell_type": "code",
      "metadata": {
        "id": "yn8aAuB5VAEt",
        "colab_type": "code",
        "colab": {
          "base_uri": "https://localhost:8080/",
          "height": 35
        },
        "outputId": "a483f9cd-a609-4ec3-f615-5ce1e8021c44"
      },
      "source": [
        "a=[1,2,3,7,4,5]\n",
        "a.index(5)"
      ],
      "execution_count": 55,
      "outputs": [
        {
          "output_type": "stream",
          "text": [
            "5\n"
          ],
          "name": "stdout"
        }
      ]
    },
    {
      "cell_type": "markdown",
      "metadata": {
        "id": "F0AVwkOoVAEx",
        "colab_type": "text"
      },
      "source": [
        "* **in 키워드**\n",
        " + 리스트 내에 해당 값이 존재하는지 확인\n",
        " + value in [list]\n",
        " + True, False 중 한가지로 반환"
      ]
    },
    {
      "cell_type": "code",
      "metadata": {
        "id": "Vw0Vp9oXVAEy",
        "colab_type": "code",
        "colab": {
          "base_uri": "https://localhost:8080/",
          "height": 35
        },
        "outputId": "5a9c94ba-d39f-4f02-f376-e825f53a4f7d"
      },
      "source": [
        "a=[1,2,3,7,4,5]\n",
        "b=7\n",
        "c=b in a\n",
        "print(c)"
      ],
      "execution_count": 58,
      "outputs": [
        {
          "output_type": "stream",
          "text": [
            "True\n"
          ],
          "name": "stdout"
        }
      ]
    },
    {
      "cell_type": "code",
      "metadata": {
        "id": "Q-mDGpcKVAE1",
        "colab_type": "code",
        "colab": {}
      },
      "source": [
        ""
      ],
      "execution_count": 0,
      "outputs": []
    },
    {
      "cell_type": "markdown",
      "metadata": {
        "id": "tM7LzYW2VAE4",
        "colab_type": "text"
      },
      "source": [
        "* **list 정렬**\n",
        " + sort() -> 리스트 자체를 내부적으로 정렬\n",
        " + sorted() -> 리스트의 정렬된 복사본을 반환"
      ]
    },
    {
      "cell_type": "code",
      "metadata": {
        "id": "68pvLfxOVAE5",
        "colab_type": "code",
        "colab": {
          "base_uri": "https://localhost:8080/",
          "height": 35
        },
        "outputId": "f2ef2581-037a-497d-f4da-84366ceae86a"
      },
      "source": [
        "a=[9,11,4,54,21,32,11]\n",
        "a.sort()\n",
        "print(a)"
      ],
      "execution_count": 64,
      "outputs": [
        {
          "output_type": "stream",
          "text": [
            "[4, 9, 11, 11, 21, 32, 54]\n"
          ],
          "name": "stdout"
        }
      ]
    },
    {
      "cell_type": "code",
      "metadata": {
        "id": "EnsF0KyZU9ma",
        "colab_type": "code",
        "colab": {
          "base_uri": "https://localhost:8080/",
          "height": 53
        },
        "outputId": "6ed125b6-539d-45be-86d2-efcad613793b"
      },
      "source": [
        "a=[9,11,4,54,21,32,11]\n",
        "a.sort(reverse=True)\n",
        "b=sorted(a)\n",
        "print(a)\n",
        "print(b)"
      ],
      "execution_count": 65,
      "outputs": [
        {
          "output_type": "stream",
          "text": [
            "[54, 32, 21, 11, 11, 9, 4]\n",
            "[4, 9, 11, 11, 21, 32, 54]\n"
          ],
          "name": "stdout"
        }
      ]
    },
    {
      "cell_type": "markdown",
      "metadata": {
        "id": "l8c1XVlTVAE8",
        "colab_type": "text"
      },
      "source": [
        "### **tuple**\n",
        " - 리스트와 같이 복수개의 값을 갖는 컬렉션 타입\n",
        " - 생성된 후 변경이 불가능"
      ]
    },
    {
      "cell_type": "code",
      "metadata": {
        "id": "VFlyxTLAVAE-",
        "colab_type": "code",
        "colab": {
          "base_uri": "https://localhost:8080/",
          "height": 298
        },
        "outputId": "1aa3619f-46d9-40ff-93c6-d050262c01d5"
      },
      "source": [
        "a=[1,2,3]\n",
        "b=(1,2,3)\n",
        "print(type(a))\n",
        "print(type(b))\n",
        "\n",
        "a[0]=100\n",
        "print(a)\n",
        "\n",
        "b[0]=100\n",
        "print(b)\n",
        " "
      ],
      "execution_count": 68,
      "outputs": [
        {
          "output_type": "stream",
          "text": [
            "<class 'list'>\n",
            "<class 'tuple'>\n",
            "[100, 2, 3]\n"
          ],
          "name": "stdout"
        },
        {
          "output_type": "error",
          "ename": "TypeError",
          "evalue": "ignored",
          "traceback": [
            "\u001b[0;31m---------------------------------------------------------------------------\u001b[0m",
            "\u001b[0;31mTypeError\u001b[0m                                 Traceback (most recent call last)",
            "\u001b[0;32m<ipython-input-68-3f9a944ea395>\u001b[0m in \u001b[0;36m<module>\u001b[0;34m()\u001b[0m\n\u001b[1;32m      7\u001b[0m \u001b[0mprint\u001b[0m\u001b[0;34m(\u001b[0m\u001b[0ma\u001b[0m\u001b[0;34m)\u001b[0m\u001b[0;34m\u001b[0m\u001b[0;34m\u001b[0m\u001b[0m\n\u001b[1;32m      8\u001b[0m \u001b[0;34m\u001b[0m\u001b[0m\n\u001b[0;32m----> 9\u001b[0;31m \u001b[0mb\u001b[0m\u001b[0;34m[\u001b[0m\u001b[0;36m0\u001b[0m\u001b[0;34m]\u001b[0m\u001b[0;34m=\u001b[0m\u001b[0;36m100\u001b[0m\u001b[0;34m\u001b[0m\u001b[0;34m\u001b[0m\u001b[0m\n\u001b[0m\u001b[1;32m     10\u001b[0m \u001b[0mprint\u001b[0m\u001b[0;34m(\u001b[0m\u001b[0mb\u001b[0m\u001b[0;34m)\u001b[0m\u001b[0;34m\u001b[0m\u001b[0;34m\u001b[0m\u001b[0m\n\u001b[1;32m     11\u001b[0m \u001b[0;34m\u001b[0m\u001b[0m\n",
            "\u001b[0;31mTypeError\u001b[0m: 'tuple' object does not support item assignment"
          ]
        }
      ]
    },
    {
      "cell_type": "markdown",
      "metadata": {
        "id": "DAgKsHZ2VAFB",
        "colab_type": "text"
      },
      "source": [
        "#### **tuple unpacking**\n",
        " - 튜플의 값을 차례대로 변수에 대입"
      ]
    },
    {
      "cell_type": "code",
      "metadata": {
        "id": "xyHUbmwoVAFD",
        "colab_type": "code",
        "colab": {
          "base_uri": "https://localhost:8080/",
          "height": 35
        },
        "outputId": "85657992-bfa9-4c0d-c6d8-9d1d892d5055"
      },
      "source": [
        "a,b,c,d=100,200,300,400\n",
        "print(a,b,c,d)"
      ],
      "execution_count": 71,
      "outputs": [
        {
          "output_type": "stream",
          "text": [
            "100 200 300 400\n"
          ],
          "name": "stdout"
        }
      ]
    },
    {
      "cell_type": "markdown",
      "metadata": {
        "id": "ObIMTd5xVAFG",
        "colab_type": "text"
      },
      "source": [
        "* **연습문제** a와 b의 값을 교환하시오"
      ]
    },
    {
      "cell_type": "code",
      "metadata": {
        "id": "8hUdet3xVAFH",
        "colab_type": "code",
        "colab": {
          "base_uri": "https://localhost:8080/",
          "height": 53
        },
        "outputId": "39783660-39db-4cf6-ce01-9cf99248987c"
      },
      "source": [
        "a=5\n",
        "b=4\n",
        "\n",
        "print(a,b)\n",
        "\n",
        "# logic\n",
        "temp=a\n",
        "a=b\n",
        "b=temp\n",
        "\n",
        "print(a,b)\n"
      ],
      "execution_count": 77,
      "outputs": [
        {
          "output_type": "stream",
          "text": [
            "5 4\n",
            "4 5\n"
          ],
          "name": "stdout"
        }
      ]
    },
    {
      "cell_type": "code",
      "metadata": {
        "id": "9HDzFvhVXzXf",
        "colab_type": "code",
        "colab": {
          "base_uri": "https://localhost:8080/",
          "height": 35
        },
        "outputId": "7469082b-e954-4f7d-99ed-478cb473170a"
      },
      "source": [
        "a=5\n",
        "b=4\n",
        "a,b=b,a\n",
        "print(a,b)"
      ],
      "execution_count": 76,
      "outputs": [
        {
          "output_type": "stream",
          "text": [
            "4 5\n"
          ],
          "name": "stdout"
        }
      ]
    }
  ]
}