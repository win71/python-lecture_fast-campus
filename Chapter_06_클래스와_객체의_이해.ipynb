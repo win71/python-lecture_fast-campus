{
  "nbformat": 4,
  "nbformat_minor": 0,
  "metadata": {
    "kernelspec": {
      "display_name": "Python 3",
      "language": "python",
      "name": "python3"
    },
    "language_info": {
      "codemirror_mode": {
        "name": "ipython",
        "version": 3
      },
      "file_extension": ".py",
      "mimetype": "text/x-python",
      "name": "python",
      "nbconvert_exporter": "python",
      "pygments_lexer": "ipython3",
      "version": "3.6.5"
    },
    "colab": {
      "name": "Chapter 06. 클래스와 객체의 이해.ipynb",
      "version": "0.3.2",
      "provenance": [],
      "collapsed_sections": [],
      "include_colab_link": true
    }
  },
  "cells": [
    {
      "cell_type": "markdown",
      "metadata": {
        "id": "view-in-github",
        "colab_type": "text"
      },
      "source": [
        "<a href=\"https://colab.research.google.com/github/win71/python-lecture_fast-campus/blob/master/Chapter_06_%ED%81%B4%EB%9E%98%EC%8A%A4%EC%99%80_%EA%B0%9D%EC%B2%B4%EC%9D%98_%EC%9D%B4%ED%95%B4.ipynb\" target=\"_parent\"><img src=\"https://colab.research.google.com/assets/colab-badge.svg\" alt=\"Open In Colab\"/></a>"
      ]
    },
    {
      "cell_type": "markdown",
      "metadata": {
        "id": "o88PlYh416jR",
        "colab_type": "text"
      },
      "source": [
        "### 학습목표\n",
        " 1. 클래스와 오브젝트에 대한 이해"
      ]
    },
    {
      "cell_type": "markdown",
      "metadata": {
        "id": "NYxaErxqM4Gk",
        "colab_type": "text"
      },
      "source": [
        "###   인간(class) ---- 홍길동, 임꺽정(objec)\n",
        "###   인간은 국적, 이름(attribute)\n",
        "###          행동한다(method)"
      ]
    },
    {
      "cell_type": "markdown",
      "metadata": {
        "id": "Fk7_zX9B16jT",
        "colab_type": "text"
      },
      "source": [
        "#### **class란?**\n",
        " + 실세계의 것을 모델링하여 속성(attribute)와 동작(method)를 갖는 데이터 타입\n",
        " + python에서의 string, int, list, dict.. 모두가 다 클래스로 존재\n",
        " + 예를들어 학생이라는 클래스를 만든다면, 학생을 나타내는 속성과 학생이 행하는 행동을 함께 정의 할 수 있음\n",
        " + 따라서, 다루고자 하는 데이터(변수) 와 데이터를 다루는 연산(함수)를 하나로 캡슐화(encapsulation)하여 클래스로 표현\n",
        " + 모델링에서 중요시 하는 속성에 따라 클래스의 속성과 행동이 각각 달라짐"
      ]
    },
    {
      "cell_type": "code",
      "metadata": {
        "id": "9jMwB-iG16jU",
        "colab_type": "code",
        "outputId": "51d6972b-6d85-40d5-c6f0-2ccb146db390",
        "colab": {
          "base_uri": "https://localhost:8080/",
          "height": 35
        }
      },
      "source": [
        "a=[1,2,3,4]\n",
        "a.append(5)\n",
        "print(a)"
      ],
      "execution_count": 0,
      "outputs": [
        {
          "output_type": "stream",
          "text": [
            "[1, 2, 3, 4, 5]\n"
          ],
          "name": "stdout"
        }
      ]
    },
    {
      "cell_type": "markdown",
      "metadata": {
        "id": "C557D39O16jZ",
        "colab_type": "text"
      },
      "source": [
        "#### **object 란?**\n",
        " - 클래스로 생성되어 구체화된 객체(인스턴스)\n",
        " - 파이썬의 모든 것(int, str, list..etc)은 객체(인스턴스)\n",
        " - 실제로 class가 인스턴스화 되어 메모리에 상주하는 상태를 의미\n",
        " - class가 빵틀이라면, object는 실제로 빵틀로 찍어낸 빵이라고 비유 가능\n"
      ]
    },
    {
      "cell_type": "code",
      "metadata": {
        "id": "lVaom-P916ja",
        "colab_type": "code",
        "colab": {}
      },
      "source": [
        ""
      ],
      "execution_count": 0,
      "outputs": []
    },
    {
      "cell_type": "markdown",
      "metadata": {
        "id": "L2h031GX16je",
        "colab_type": "text"
      },
      "source": [
        "#### **class 선언하기**\n",
        "  - 객체를 생성하기 위해선 객체의 모체가 되는 class를 미리 선언해야 함 "
      ]
    },
    {
      "cell_type": "code",
      "metadata": {
        "id": "GFa4Mc8e16jf",
        "colab_type": "code",
        "colab": {}
      },
      "source": [
        "class Person:\n",
        "    pass     ## 정의는 하고 싶은데 비워두고 싶을 때 사용하는 명령어"
      ],
      "execution_count": 0,
      "outputs": []
    },
    {
      "cell_type": "code",
      "metadata": {
        "id": "jIq9spHMO_MK",
        "colab_type": "code",
        "outputId": "d148b018-f450-4d56-f230-b14083cfeab4",
        "colab": {
          "base_uri": "https://localhost:8080/",
          "height": 53
        }
      },
      "source": [
        "bob=Person()\n",
        "cathy=Person()\n",
        "\n",
        "a=list()\n",
        "b=list()\n",
        "\n",
        "print(type(bob), type(cathy))\n",
        "print(type(a), type(b))\n"
      ],
      "execution_count": 0,
      "outputs": [
        {
          "output_type": "stream",
          "text": [
            "<class '__main__.Person'> <class '__main__.Person'>\n",
            "<class 'list'> <class 'list'>\n"
          ],
          "name": "stdout"
        }
      ]
    },
    {
      "cell_type": "markdown",
      "metadata": {
        "id": "zKkGlT4Q16ji",
        "colab_type": "text"
      },
      "source": [
        "#### __init__(self)\n",
        " + 생성자, 클래스 인스턴스가 생성될 때 호출됨\n",
        " + self인자는 항상 첫번째에 오며 자기 자신을 가리킴\n",
        " + 이름이 꼭 self일 필요는 없지만, 관례적으로 self로 사용\n",
        " \n",
        " + 생성자에서는 해당 클래스가 다루는 데이터를 정의\n",
        "   - 이 데이터를 멤버 변수(member variable) 또는 속성(attribute)라고 함"
      ]
    },
    {
      "cell_type": "code",
      "metadata": {
        "id": "YlWMRk74QIWd",
        "colab_type": "code",
        "outputId": "0fc21871-acc5-445c-b86a-f7425d096e87",
        "colab": {
          "base_uri": "https://localhost:8080/",
          "height": 71
        }
      },
      "source": [
        "class Person:\n",
        "    def __init__(self):\n",
        "        print(self, 'is generated')\n",
        "        self.name='kate'\n",
        "        self.age=10\n",
        "        \n",
        "p1=Person()\n",
        "p2=Person()\n",
        "\n",
        "p1.name, p2.age"
      ],
      "execution_count": 0,
      "outputs": [
        {
          "output_type": "stream",
          "text": [
            "<__main__.Person object at 0x7f71e9d53d68> is generated\n",
            "<__main__.Person object at 0x7f71e9d53eb8> is generated\n"
          ],
          "name": "stdout"
        },
        {
          "output_type": "execute_result",
          "data": {
            "text/plain": [
              "('kate', 10)"
            ]
          },
          "metadata": {
            "tags": []
          },
          "execution_count": 21
        }
      ]
    },
    {
      "cell_type": "code",
      "metadata": {
        "id": "nr9TVXxwQIFR",
        "colab_type": "code",
        "outputId": "67bb7ff9-4a2f-42e2-e4fc-0ab1372e777d",
        "colab": {
          "base_uri": "https://localhost:8080/",
          "height": 35
        }
      },
      "source": [
        "p1.name='aron'\n",
        "p1.age=20\n",
        "\n",
        "print(p1.name, p1.age)"
      ],
      "execution_count": 0,
      "outputs": [
        {
          "output_type": "stream",
          "text": [
            "aron 20\n"
          ],
          "name": "stdout"
        }
      ]
    },
    {
      "cell_type": "code",
      "metadata": {
        "id": "T0N1mkOX16jj",
        "colab_type": "code",
        "outputId": "a5329803-7d7e-4899-dcea-d3fbd7a8f599",
        "colab": {
          "base_uri": "https://localhost:8080/",
          "height": 53
        }
      },
      "source": [
        "class Person:\n",
        "    def __init__(self,name,age):  ## 여기에서 name, age는 parameter임. 속성에 있는(self뒤에 있는 name, age)\n",
        "                                   ## name, age와 같을 필요는 없다. 아래 예시 참조\n",
        "       # print(self, 'is generated')\n",
        "        self.name=name\n",
        "        self.age=age\n",
        "        \n",
        "p1=Person('bob',30)\n",
        "p2=Person('kate',20)\n",
        "\n",
        "print(p1.name, p1.age)\n",
        "print(p2.name, p2.age)"
      ],
      "execution_count": 0,
      "outputs": [
        {
          "output_type": "stream",
          "text": [
            "bob 30\n",
            "kate 20\n"
          ],
          "name": "stdout"
        }
      ]
    },
    {
      "cell_type": "code",
      "metadata": {
        "id": "JsxEmeOmSnyQ",
        "colab_type": "code",
        "outputId": "d22352b9-096f-4bc0-c7df-9c00d75805ba",
        "colab": {
          "base_uri": "https://localhost:8080/",
          "height": 53
        }
      },
      "source": [
        "class Person:\n",
        "    def __init__(self,n,a):\n",
        "       # print(self, 'is generated')\n",
        "        self.name=n\n",
        "        self.age=a\n",
        "        \n",
        "p1=Person('bob',30)\n",
        "p2=Person('kate',20)\n",
        "\n",
        "print(p1.name, p1.age)\n",
        "print(p2.name, p2.age)"
      ],
      "execution_count": 0,
      "outputs": [
        {
          "output_type": "stream",
          "text": [
            "bob 30\n",
            "kate 20\n"
          ],
          "name": "stdout"
        }
      ]
    },
    {
      "cell_type": "code",
      "metadata": {
        "id": "U7bVDOq2SuFn",
        "colab_type": "code",
        "outputId": "7580e688-5bed-4740-bad7-8a5e6fbb83ea",
        "colab": {
          "base_uri": "https://localhost:8080/",
          "height": 71
        }
      },
      "source": [
        "class Person:\n",
        "    def __init__(self,name,age=10):  ## 함수이기 때문에 기본값을 줄 수 있다. \n",
        "       # print(self, 'is generated')\n",
        "        self.name=name\n",
        "        self.age=age\n",
        "        \n",
        "p1=Person('bob',30)\n",
        "p2=Person('kate',20)\n",
        "p3=Person('john')\n",
        "\n",
        "print(p1.name, p1.age)\n",
        "print(p2.name, p2.age)\n",
        "print(p3.name, p3.age)"
      ],
      "execution_count": 0,
      "outputs": [
        {
          "output_type": "stream",
          "text": [
            "bob 30\n",
            "kate 20\n",
            "john 10\n"
          ],
          "name": "stdout"
        }
      ]
    },
    {
      "cell_type": "markdown",
      "metadata": {
        "id": "BOy0iFqmVUqh",
        "colab_type": "text"
      },
      "source": [
        "### self\n",
        "- 파이썬의 method는 항상 첫번째 인자로 self를 전달\n",
        "- self는 현재 해당 메쏘드가 호출되는 객체 자신을 가리킴\n",
        "- C++/C#, Java의 this에 해당\n",
        "- 역시, 이름이 self일 필요는 없으나, 위치는 항상 맨 처음의 parameter이며 관례적으로 self로 사용"
      ]
    },
    {
      "cell_type": "code",
      "metadata": {
        "id": "mel9ypu5VWPA",
        "colab_type": "code",
        "outputId": "fef5a08f-0904-430f-be1d-68af5e3cfe59",
        "colab": {
          "base_uri": "https://localhost:8080/",
          "height": 143
        }
      },
      "source": [
        "class Person:\n",
        "    def __init__(self,name, age):\n",
        "        print('self:', self)\n",
        "        self.name=name\n",
        "        self.age=age\n",
        "    \n",
        "    def sleep(self):\n",
        "        print('self:', self)\n",
        "        print(self.name, '은 잠을 잡니다')\n",
        "        \n",
        "a=Person('aron',30)\n",
        "b=Person('bob',40)\n",
        "print(a,b)\n",
        "\n",
        "a.sleep()\n",
        "b.sleep()"
      ],
      "execution_count": 0,
      "outputs": [
        {
          "output_type": "stream",
          "text": [
            "self: <__main__.Person object at 0x7f71e9c75e48>\n",
            "self: <__main__.Person object at 0x7f71e9c75a58>\n",
            "<__main__.Person object at 0x7f71e9c75e48> <__main__.Person object at 0x7f71e9c75a58>\n",
            "self: <__main__.Person object at 0x7f71e9c75e48>\n",
            "aron 은 잠을 잡니다\n",
            "self: <__main__.Person object at 0x7f71e9c75a58>\n",
            "bob 은 잠을 잡니다\n"
          ],
          "name": "stdout"
        }
      ]
    },
    {
      "cell_type": "markdown",
      "metadata": {
        "id": "-3-walao16jn",
        "colab_type": "text"
      },
      "source": [
        "#### **mehtod 정의**\n",
        " + 멤버함수라고도 하며, 해당 클래스의 object에서만 호출가능\n",
        " + 메쏘드는 객체 레벨에서 호출되며, 해당 객체의 속성에 대한 연산을 행함\n",
        " + {obj}.{method}() 형태로 호출됨"
      ]
    },
    {
      "cell_type": "code",
      "metadata": {
        "id": "xhfF3FBr16jo",
        "colab_type": "code",
        "outputId": "1b90c366-09e0-42f3-826f-2975bf9e397b",
        "colab": {
          "base_uri": "https://localhost:8080/",
          "height": 35
        }
      },
      "source": [
        "a=list()\n",
        "a.append(0)\n",
        "print(a)\n"
      ],
      "execution_count": 0,
      "outputs": [
        {
          "output_type": "stream",
          "text": [
            "[0]\n"
          ],
          "name": "stdout"
        }
      ]
    },
    {
      "cell_type": "code",
      "metadata": {
        "id": "2O-TceJhdeP9",
        "colab_type": "code",
        "outputId": "cbb52ad1-b559-4d42-93d3-254ce02d067f",
        "colab": {
          "base_uri": "https://localhost:8080/",
          "height": 53
        }
      },
      "source": [
        "class counter:\n",
        "    def __init__(self):\n",
        "        self.num=0\n",
        "    def print_current_value(self):\n",
        "        print('현재값은:',self.num)\n",
        "\n",
        "c1=counter()\n",
        "c1.print_current_value()\n",
        "\n",
        "\n",
        "c2=counter()\n",
        "c2.print_current_value()\n",
        "\n",
        "## 메소드를 구현해 보자 두가지 정도....\n",
        "## 숫자를 하나씩 증가\n",
        "## 숫자를 0으로 초기화"
      ],
      "execution_count": 0,
      "outputs": [
        {
          "output_type": "stream",
          "text": [
            "현재값은: 0\n",
            "현재값은: 0\n"
          ],
          "name": "stdout"
        }
      ]
    },
    {
      "cell_type": "code",
      "metadata": {
        "id": "b63w116sdeAF",
        "colab_type": "code",
        "outputId": "9ea8d009-d6b7-44f0-bdf3-686e14c1c781",
        "colab": {
          "base_uri": "https://localhost:8080/",
          "height": 197
        }
      },
      "source": [
        "class counter:\n",
        "    def __init__(self):\n",
        "        self.num=0\n",
        "        \n",
        "    def increment(self):\n",
        "        self.num=self.num+1\n",
        "        \n",
        "    def reset(self):\n",
        "        self.num=0\n",
        "        \n",
        "    def print_current_value(self):\n",
        "        print('현재값은:',self.num)\n",
        "\n",
        "c1=counter()\n",
        "c1.print_current_value()\n",
        "\n",
        "print('================================================')\n",
        "\n",
        "c1.increment()\n",
        "print(c1)\n",
        "c1.increment()\n",
        "print(c1)\n",
        "c1.print_current_value()\n",
        "\n",
        "print('================================================')\n",
        "\n",
        "c1.reset()\n",
        "print(c1)\n",
        "c1.print_current_value()\n",
        "\n",
        "print('================================================')\n",
        "\n",
        "c2=counter()\n",
        "c2.print_current_value()"
      ],
      "execution_count": 0,
      "outputs": [
        {
          "output_type": "stream",
          "text": [
            "현재값은: 0\n",
            "================================================\n",
            "<__main__.counter object at 0x7fdbe8637550>\n",
            "<__main__.counter object at 0x7fdbe8637550>\n",
            "현재값은: 2\n",
            "================================================\n",
            "<__main__.counter object at 0x7fdbe8637550>\n",
            "현재값은: 0\n",
            "================================================\n",
            "현재값은: 0\n"
          ],
          "name": "stdout"
        }
      ]
    },
    {
      "cell_type": "code",
      "metadata": {
        "id": "60Xfk6mPgOQa",
        "colab_type": "code",
        "colab": {}
      },
      "source": [
        ""
      ],
      "execution_count": 0,
      "outputs": []
    },
    {
      "cell_type": "markdown",
      "metadata": {
        "id": "zfsaPxd816kD",
        "colab_type": "text"
      },
      "source": [
        "#### **method type**\n",
        " - instance method - 객체로 호출\n",
        "   - 메쏘드는 객체 레벨로 호출 되기 때문에, 해당 메쏘드를 호출한 객체에만 영향을 미침\n",
        " - class method    - class로 호출\n",
        "       - 클래스 메쏘드의 경우, 클래스 레벨로 호출되기 때문에, 클래스 멤버 변수만 변경 가능\n"
      ]
    },
    {
      "cell_type": "code",
      "metadata": {
        "id": "XIsT0AjiddyV",
        "colab_type": "code",
        "outputId": "a3f7c024-b6be-433c-fc59-c8f8b6afaf19",
        "colab": {
          "base_uri": "https://localhost:8080/",
          "height": 71
        }
      },
      "source": [
        "## 어떤 경우는 instance 레벨로 호출할 필요가 없는 경우도 있을 수 있다. \n",
        "\n",
        "class Math:\n",
        "    def add(self,a,b):\n",
        "        return (a+b)\n",
        "    def multiply(self,a,b):\n",
        "        return (a*b)\n",
        "    \n",
        "m=Math() ## Math class 로부터 m이라는 객체를 생성 마치 a=list()와 동일한 개념\n",
        "print(type(m))\n",
        "a=list()\n",
        "print(type(a))\n",
        "\n",
        "m.add(10,20)\n",
        "m.multiply(10,20)\n",
        "\n",
        "## 가만히 보면 Math라는 class를 보면 속성이 없다. 즉 self가 할일이 없다. 내부의 데이터를 유지하지 않는 즉 속성이 없는 class의 경우\n",
        "## 인스턴스 레벨의 메소드를 생성할 필요가 없다. \n",
        "## 이럴 경우 @staticmethod 를 명시해주고 self를 제거하면 된다. --> class 이름으로 함수를 호출할 수 있다. "
      ],
      "execution_count": 0,
      "outputs": [
        {
          "output_type": "stream",
          "text": [
            "<class '__main__.Math'>\n",
            "<class 'list'>\n"
          ],
          "name": "stdout"
        },
        {
          "output_type": "execute_result",
          "data": {
            "text/plain": [
              "200"
            ]
          },
          "metadata": {
            "tags": []
          },
          "execution_count": 15
        }
      ]
    },
    {
      "cell_type": "code",
      "metadata": {
        "id": "xwKsCcK2hyvB",
        "colab_type": "code",
        "outputId": "611c4066-0123-485e-8920-29bbf0ea6488",
        "colab": {
          "base_uri": "https://localhost:8080/",
          "height": 35
        }
      },
      "source": [
        "class Math:\n",
        "    @staticmethod\n",
        "    def add(a,b):\n",
        "        return (a+b)\n",
        "    \n",
        "    @staticmethod\n",
        "    def multiply(a,b):\n",
        "        return (a*b)\n",
        "\n",
        "Math.add(10,20)\n",
        "Math.multiply(10,20)"
      ],
      "execution_count": 0,
      "outputs": [
        {
          "output_type": "execute_result",
          "data": {
            "text/plain": [
              "200"
            ]
          },
          "metadata": {
            "tags": []
          },
          "execution_count": 16
        }
      ]
    },
    {
      "cell_type": "markdown",
      "metadata": {
        "id": "rU_oR3uq16jr",
        "colab_type": "text"
      },
      "source": [
        " #### **Class Inheritance (상속)**\n",
        "  - 기존에 정의해둔 클래스의 기능을 그대로 물려받을 수 있다.\n",
        "  - 기존 클래스에 기능 일부를 추가하거나, 변경하여 새로운 클래스를 정의한다.\n",
        "  - 코드를 재사용할 수 있게된다.\n",
        "  - 상속 받고자 하는 대상인 기존 클래스는 (Parent, Super, Base class 라고 부른다.)\n",
        "  - 상속 받는 새로운 클래스는(Child, Sub, Derived class 라고 부른다.)\n",
        "  - 의미적으로 is-a관계를 갖는다"
      ]
    },
    {
      "cell_type": "code",
      "metadata": {
        "id": "thbbHEd0idln",
        "colab_type": "code",
        "outputId": "058469f4-6caa-4b15-8d28-0a14f86e92b0",
        "colab": {
          "base_uri": "https://localhost:8080/",
          "height": 71
        }
      },
      "source": [
        "class person:\n",
        "    def __init__(self,name,age):\n",
        "        self.name=name\n",
        "        self.age=age\n",
        "        \n",
        "    def eat(self,food):\n",
        "        print('{}은 {}를 먹습니다.'.format(self.name,food))\n",
        "    def sleep(self,minute):\n",
        "        print('{}은 {}분동안 잡니다.'.format(self.name,minute))\n",
        "    def work(self,minute):\n",
        "        print('{}은 {}분동안 일을 합니다.'.format(self.name,minute))\n",
        "        \n",
        "class student:\n",
        "    pass\n",
        "class employee:\n",
        "    pass\n",
        "\n",
        "bob=person('bob',30)\n",
        "bob.eat('bbq')\n",
        "bob.sleep(60)\n",
        "bob.work(120)\n",
        "\n",
        "## 이것을 기반으로 student 와 employee를 만들어 보자\n",
        "## 이 둘은 기본적으로 person에 기반한다. "
      ],
      "execution_count": 0,
      "outputs": [
        {
          "output_type": "stream",
          "text": [
            "bob은 bbq를 먹습니다.\n",
            "bob은 60분동안 잡니다.\n",
            "bob은 120분동안 일을 합니다.\n"
          ],
          "name": "stdout"
        }
      ]
    },
    {
      "cell_type": "code",
      "metadata": {
        "id": "6gNtzILk16js",
        "colab_type": "code",
        "outputId": "6d8de077-307f-4b58-806b-5d93713a223e",
        "colab": {
          "base_uri": "https://localhost:8080/",
          "height": 71
        }
      },
      "source": [
        "class person:\n",
        "    def __init__(self,name,age):\n",
        "        self.name=name\n",
        "        self.age=age\n",
        "        \n",
        "    def eat(self,food):\n",
        "        print('{}은 {}를 먹습니다.'.format(self.name,food))\n",
        "    def sleep(self,minute):\n",
        "        print('{}은 {}분동안 잡니다.'.format(self.name,minute))\n",
        "    def work(self,minute):\n",
        "        print('{}은 {}분동안 일을 합니다.'.format(self.name,minute))\n",
        "        \n",
        "class student(person):     ## person이라는 class의 기능을 상속받기 위한 작업 (부모 class)를 붙여준다. person의 메소드를 모두 상속받는다.\n",
        "    def __init__(self,name,age):\n",
        "        self.name=name\n",
        "        self.age=age\n",
        "    \n",
        "class employee(person):    ## person이라는 class의 기능을 상속받기 위한 작업 (부모 class)를 붙여준다.\n",
        "    def __init__(self,name,age):\n",
        "        self.name=name\n",
        "        self.age=age\n",
        "    \n",
        "bob=student('bob',30)\n",
        "bob.eat('bbq')\n",
        "bob.sleep(60)\n",
        "bob.work(120)\n",
        "\n",
        "## 이 모델링에 문제가 있어 보인다. 학생은 일을 하지 않고 공부를 하기 때문에..\n",
        "## 부모 class에서 정의된 메소드를 학생 class에서 재정의가 필요하다. "
      ],
      "execution_count": 0,
      "outputs": [
        {
          "output_type": "stream",
          "text": [
            "bob은 bbq를 먹습니다.\n",
            "bob은 60분동안 잡니다.\n",
            "bob은 120분동안 일을 합니다.\n"
          ],
          "name": "stdout"
        }
      ]
    },
    {
      "cell_type": "markdown",
      "metadata": {
        "id": "JyN-XWf116jv",
        "colab_type": "text"
      },
      "source": [
        "#### **method override**\n",
        " - 부모 클래스의 method를 재정의(override)\n",
        " - 하위 클래스(자식 클래스) 의 인스턴스로 호출시, 재정의된 메소드가 호출됨"
      ]
    },
    {
      "cell_type": "code",
      "metadata": {
        "id": "mXLunb7Q16jw",
        "colab_type": "code",
        "outputId": "c13a47cb-46db-48c9-aecc-a91de2ce7957",
        "colab": {
          "base_uri": "https://localhost:8080/",
          "height": 215
        }
      },
      "source": [
        "class person:\n",
        "    def __init__(self,name,age):\n",
        "        self.name=name\n",
        "        self.age=age\n",
        "        \n",
        "    def eat(self,food):\n",
        "        print('{}은 {}를 먹습니다.'.format(self.name,food))\n",
        "    def sleep(self,minute):\n",
        "        print('{}은 {}분동안 잡니다.'.format(self.name,minute))\n",
        "    def work(self,minute):\n",
        "        print('{}은 {}분동안 일을 합니다.'.format(self.name,minute))\n",
        "        \n",
        "class student(person):     ## person이라는 class의 기능을 상속받기 위한 작업 (부모 class)를 붙여준다. person의 메소드를 모두 상속받는다.\n",
        "    def __init__(self,name,age):\n",
        "        self.name=name\n",
        "        self.age=age\n",
        "    def work(self,minute):  ## 부모 class와 달리 work를 재정의-->method override 개념\n",
        "         print('{}은 {}분동안 공부를 합니다.'.format(self.name,minute))\n",
        "    \n",
        "class employee(person):    ## person이라는 class의 기능을 상속받기 위한 작업 (부모 class)를 붙여준다.\n",
        "    def __init__(self,name,age):\n",
        "        self.name=name\n",
        "        self.age=age\n",
        "    def work(self,minute):  ## 부모 class와 달리 work를 재정의-->method override 개념\n",
        "        print('{}은 {}분동안 업무를 합니다.'.format(self.name,minute))\n",
        "        \n",
        "        \n",
        "bob=person('bob',30)\n",
        "bob.eat('bbq')\n",
        "bob.sleep(60)\n",
        "bob.work(120)\n",
        "\n",
        "print('=============================================================')\n",
        "\n",
        "bob=student('bob',30)\n",
        "bob.eat('bbq')\n",
        "bob.sleep(60)\n",
        "bob.work(120)\n",
        "\n",
        "print('=============================================================')\n",
        "\n",
        "bob=employee('bob',30)\n",
        "bob.eat('bbq')\n",
        "bob.sleep(60)\n",
        "bob.work(120)\n",
        "\n",
        "\n",
        "## 문제점 : override를 하게 되면 부모의 메소드를 사용할 수 없게 된다. 이때 필요한 기능이 super()라는 기능이다. "
      ],
      "execution_count": 0,
      "outputs": [
        {
          "output_type": "stream",
          "text": [
            "bob은 bbq를 먹습니다.\n",
            "bob은 60분동안 잡니다.\n",
            "bob은 120분동안 일을 합니다.\n",
            "=============================================================\n",
            "bob은 bbq를 먹습니다.\n",
            "bob은 60분동안 잡니다.\n",
            "bob은 120분동안 공부를 합니다.\n",
            "=============================================================\n",
            "bob은 bbq를 먹습니다.\n",
            "bob은 60분동안 잡니다.\n",
            "bob은 120분동안 업무를 합니다.\n"
          ],
          "name": "stdout"
        }
      ]
    },
    {
      "cell_type": "markdown",
      "metadata": {
        "id": "oChtl-C116j3",
        "colab_type": "text"
      },
      "source": [
        "#### super \n",
        " - 하위클래스(자식 클래스)에서 부모클래스의 method를 호출할 때 사용"
      ]
    },
    {
      "cell_type": "code",
      "metadata": {
        "id": "mrq3IICH16j4",
        "colab_type": "code",
        "outputId": "2597707e-2f68-40fa-c48b-17de4c183f72",
        "colab": {
          "base_uri": "https://localhost:8080/",
          "height": 89
        }
      },
      "source": [
        "class person:\n",
        "    def __init__(self,name,age):\n",
        "        self.name=name\n",
        "        self.age=age\n",
        "        \n",
        "    def eat(self,food):\n",
        "        print('{}은 {}를 먹습니다.'.format(self.name,food))\n",
        "    def sleep(self,minute):\n",
        "        print('{}은 {}분동안 잡니다.'.format(self.name,minute))\n",
        "    def work(self,minute):\n",
        "        print('{}은 {}분동안 준비를 합니다.'.format(self.name,minute))\n",
        "        \n",
        "class student(person):     ## person이라는 class의 기능을 상속받기 위한 작업 (부모 class)를 붙여준다. person의 메소드를 모두 상속받는다.\n",
        "    def __init__(self,name,age):\n",
        "        self.name=name\n",
        "        self.age=age\n",
        "    def work(self,minute):  ## 부모 class와 달리 work를 재정의-->method override 개념\n",
        "        super().work(minute) ## 부모 class의 work 메소드를 사용하기 위한 코드\n",
        "        print('{}은 {}분동안 공부를 합니다.'.format(self.name,minute))\n",
        "    \n",
        "class employee(person):    ## person이라는 class의 기능을 상속받기 위한 작업 (부모 class)를 붙여준다.\n",
        "    def __init__(self,name,age):\n",
        "        self.name=name\n",
        "        self.age=age\n",
        "    def work(self,minute):  ## 부모 class와 달리 work를 재정의-->method override 개념\n",
        "        super().work(minute)  ## 부모 class의 work 메소드를 사용하기 위한 코드\n",
        "        print('{}은 {}분동안 업무를 합니다.'.format(self.name,minute))\n",
        "\n",
        "bob=employee('bob',30)\n",
        "bob.eat('bbq')\n",
        "bob.sleep(60)\n",
        "bob.work(120)\n",
        "        "
      ],
      "execution_count": 0,
      "outputs": [
        {
          "output_type": "stream",
          "text": [
            "bob은 bbq를 먹습니다.\n",
            "bob은 60분동안 잡니다.\n",
            "bob은 120분동안 준비를 합니다.\n",
            "bob은 120분동안 업무를 합니다.\n"
          ],
          "name": "stdout"
        }
      ]
    },
    {
      "cell_type": "markdown",
      "metadata": {
        "id": "GYWHG1Zk16j-",
        "colab_type": "text"
      },
      "source": [
        "#### **self**\n",
        " - 파이썬의 method는 항상 첫번째 인자로 self를 전달\n",
        " - self는 현재 해당 메쏘드가 호출되는 객체 자신을 가리킴\n",
        " - C++/C#, Java의 this에 해당\n",
        " - 역시, 이름이 self일 필요는 없으나, 위치는 항상 맨 처음의 parameter이며 관례적으로 self로 사용"
      ]
    },
    {
      "cell_type": "code",
      "metadata": {
        "id": "JCmN36Dj16kA",
        "colab_type": "code",
        "colab": {}
      },
      "source": [
        ""
      ],
      "execution_count": 0,
      "outputs": []
    },
    {
      "cell_type": "code",
      "metadata": {
        "id": "3MxCltWF16kF",
        "colab_type": "code",
        "colab": {}
      },
      "source": [
        ""
      ],
      "execution_count": 0,
      "outputs": []
    },
    {
      "cell_type": "markdown",
      "metadata": {
        "id": "JTQxKIr116kI",
        "colab_type": "text"
      },
      "source": [
        "#### **special method**\n",
        " - __로 시작 __로 끝나는 특수 함수\n",
        " - 해당 메쏘드들을 구현하면, 커스텀 객체에 여러가지 파이썬 내장 함수나 연산자를 적용 가능\n",
        " - 오버라이딩 가능한 함수 목록은 아래 링크에서 참조 \n",
        "   - https://docs.python.org/3/reference/datamodel.html"
      ]
    },
    {
      "cell_type": "code",
      "metadata": {
        "id": "h9V91FjX16kJ",
        "colab_type": "code",
        "outputId": "0eec773d-4e14-4b7b-c3fc-4a18d0ccd98d",
        "colab": {
          "base_uri": "https://localhost:8080/",
          "height": 107
        }
      },
      "source": [
        "# point\n",
        "# 2차원 좌표평면 각 점(x,y)\n",
        "# 연산\n",
        "# 두점의 덧셈, 뺄셈  (1,2)+(3,4) = (4,6)\n",
        "# 한점과 숫자의 곱셈  (1,2)*3=(3,6)\n",
        "# 그 점의 길이 (0,0)으로 부터의 거리\n",
        "# x,y 값 가져오기\n",
        "# 출력하기\n",
        "\n",
        "class point:\n",
        "    def __init__(self,x,y):\n",
        "        self.x=x\n",
        "        self.y=y\n",
        "    \n",
        "        \n",
        "p1=point(3,4)\n",
        "p2=point(2,7)\n",
        "print(p1.x)\n",
        "print(p2.y)\n",
        "print(p1)\n",
        "print(p2)\n",
        "\n",
        "print('====================================================')\n",
        "\n",
        "\n",
        "## 출력이 주소형태로 출력이 된다. \n",
        "## 그렇다면 일반적인 출력의 형태로 출력하려면..... 함수가 필요하다. \n",
        "   \n"
      ],
      "execution_count": 0,
      "outputs": [
        {
          "output_type": "stream",
          "text": [
            "3\n",
            "7\n",
            "<__main__.point object at 0x7ffa4055d160>\n",
            "<__main__.point object at 0x7ffa4055d0b8>\n",
            "====================================================\n"
          ],
          "name": "stdout"
        }
      ]
    },
    {
      "cell_type": "code",
      "metadata": {
        "id": "fS9gZ0LiAT9G",
        "colab_type": "code",
        "outputId": "f37dcfb7-4222-4047-b7cb-88d2369e74a6",
        "colab": {
          "base_uri": "https://localhost:8080/",
          "height": 53
        }
      },
      "source": [
        "class point:\n",
        "    def __init__(self,x,y):\n",
        "        self.x=x\n",
        "        self.y=y\n",
        "    \n",
        "    def print_pt(self):\n",
        "        print('({},{})'.format(self.x,self.y))\n",
        "\n",
        "p1=point(3,4)\n",
        "p2=point(2,7)\n",
        "\n",
        "p1.print_pt()\n",
        "p2.print_pt()\n",
        "\n",
        "## 이렇게 커스터머한 함수가 아니라 일반적인 프린트 출력을 하려면...함수의 override가 필요하다. \n",
        "## 출력은 __str__ 함수 사용하면 된다. "
      ],
      "execution_count": 0,
      "outputs": [
        {
          "output_type": "stream",
          "text": [
            "(3,4)\n",
            "(2,7)\n"
          ],
          "name": "stdout"
        }
      ]
    },
    {
      "cell_type": "code",
      "metadata": {
        "id": "tSmEW50_Gc0w",
        "colab_type": "code",
        "outputId": "2c65a40d-6b0d-42a0-f3c0-63980e0ecccc",
        "colab": {
          "base_uri": "https://localhost:8080/",
          "height": 53
        }
      },
      "source": [
        "class point:\n",
        "    def __init__(self,x,y):\n",
        "        self.x=x\n",
        "        self.y=y\n",
        "    \n",
        "    def __str__(self):\n",
        "        return ('({},{})'.format(self.x,self.y))\n",
        "\n",
        "p1=point(3,4)\n",
        "p2=point(2,7)\n",
        "\n",
        "print(p1)\n",
        "print(p2)"
      ],
      "execution_count": 0,
      "outputs": [
        {
          "output_type": "stream",
          "text": [
            "(3,4)\n",
            "(2,7)\n"
          ],
          "name": "stdout"
        }
      ]
    },
    {
      "cell_type": "code",
      "metadata": {
        "id": "YtCLGzMHATTI",
        "colab_type": "code",
        "outputId": "744c4fbf-d9cd-4a7d-b437-97251155928b",
        "colab": {
          "base_uri": "https://localhost:8080/",
          "height": 89
        }
      },
      "source": [
        "class point:\n",
        "    def __init__(self,x,y):\n",
        "        self.x=x\n",
        "        self.y=y\n",
        "        \n",
        "    def add(self,pt):  ## 좌표평면을 더한다는 건 새로운 포인트를 입력하여 더한다는 의미\n",
        "        new_x=self.x+pt.x\n",
        "        new_y=self.y+pt.y\n",
        "        return point(new_x,new_y)\n",
        "    \n",
        "    \n",
        "    def __str__(self):\n",
        "        return ('({},{})'.format(self.x,self.y))\n",
        "\n",
        "p1=point(3,4)\n",
        "print(p1.x)\n",
        "print(p2.y)\n",
        "\n",
        "print('====================================================')\n",
        "\n",
        "p2=point(2,7)\n",
        "p3=p1.add(p2)\n",
        "\n",
        "print(p1)\n",
        "print(p2)\n",
        "print(p3)\n",
        "\n",
        "## 여기서 출력을 보면 좌표평면 더하기에 문제가 없다. 하지만 내가 원한건 이게 아니다.\n",
        "## p3=p1+p2  를 출력하려면?\n",
        "## override하며 되는데 __add__ 사용\n",
        "## 빼기도 가능 __suf__"
      ],
      "execution_count": 0,
      "outputs": [
        {
          "output_type": "stream",
          "text": [
            "3\n",
            "(3,4)\n",
            "(2,7)\n",
            "(5,11)\n"
          ],
          "name": "stdout"
        }
      ]
    },
    {
      "cell_type": "code",
      "metadata": {
        "id": "sILQ6r8dHLmL",
        "colab_type": "code",
        "outputId": "01b68382-6db2-4fef-b85c-f9b5fb32f861",
        "colab": {
          "base_uri": "https://localhost:8080/",
          "height": 179
        }
      },
      "source": [
        "class point:\n",
        "    def __init__(self,x,y):\n",
        "        self.x=x\n",
        "        self.y=y\n",
        "        \n",
        "    def __add__ (self,pt):  ## 좌표평면을 더한다는 건 새로운 포인트를 입력하여 더한다는 의미\n",
        "        new_x=self.x+pt.x\n",
        "        new_y=self.y+pt.y\n",
        "        return point(new_x,new_y)\n",
        "\n",
        "    def __sub__ (self,pt):  ## 좌표평면을 더한다는 건 새로운 포인트를 입력하여 더한다는 의미\n",
        "        new_x=self.x-pt.x\n",
        "        new_y=self.y-pt.y\n",
        "        return point(new_x,new_y)        \n",
        "    \n",
        "    def multiply(self,factor):\n",
        "        return point(self.x*factor,self.y*factor)\n",
        "        \n",
        "    \n",
        "    def __str__(self):\n",
        "        return ('({},{})'.format(self.x,self.y))\n",
        "\n",
        "p1=point(3,4)\n",
        "print(p1.x)\n",
        "print(p2.y)\n",
        "\n",
        "print('====================================================')\n",
        "\n",
        "p2=point(2,7)\n",
        "\n",
        "p3=p1+p2\n",
        "p4=p1-p2\n",
        "p5=p1.multiply(3)   ## 일반적인 곱의 형태를 사용하고 싶으려면 p5=p1*3  __mul__함수 사용\n",
        "\n",
        "print(p1)\n",
        "print(p2)\n",
        "\n",
        "print('====================================================')\n",
        "\n",
        "print(p3)\n",
        "print(p4)\n",
        "print(p5)"
      ],
      "execution_count": 0,
      "outputs": [
        {
          "output_type": "stream",
          "text": [
            "3\n",
            "7\n",
            "====================================================\n",
            "(3,4)\n",
            "(2,7)\n",
            "====================================================\n",
            "(5,11)\n",
            "(1,-3)\n",
            "(9,12)\n"
          ],
          "name": "stdout"
        }
      ]
    },
    {
      "cell_type": "code",
      "metadata": {
        "id": "_yGLwldDHLRR",
        "colab_type": "code",
        "outputId": "9c732dc9-54b1-4ad6-b44b-3ecae0a9bf99",
        "colab": {
          "base_uri": "https://localhost:8080/",
          "height": 179
        }
      },
      "source": [
        "class point:\n",
        "    def __init__(self,x,y):\n",
        "        self.x=x\n",
        "        self.y=y\n",
        "        \n",
        "    def __add__ (self,pt):  ## 좌표평면을 더한다는 건 새로운 포인트를 입력하여 더한다는 의미\n",
        "        new_x=self.x+pt.x\n",
        "        new_y=self.y+pt.y\n",
        "        return point(new_x,new_y)\n",
        "\n",
        "    def __sub__ (self,pt):  ## 좌표평면을 더한다는 건 새로운 포인트를 입력하여 더한다는 의미\n",
        "        new_x=self.x-pt.x\n",
        "        new_y=self.y-pt.y\n",
        "        return point(new_x,new_y)        \n",
        "    \n",
        "    def __mul__(self,factor):\n",
        "        return point(self.x*factor,self.y*factor)\n",
        "        \n",
        "    \n",
        "    def __str__(self):\n",
        "        return ('({},{})'.format(self.x,self.y))\n",
        "\n",
        "p1=point(3,4)\n",
        "print(p1.x)\n",
        "print(p2.y)\n",
        "\n",
        "print('====================================================')\n",
        "\n",
        "p2=point(2,7)\n",
        "\n",
        "p3=p1+p2\n",
        "p4=p1-p2\n",
        "p5=p1*3\n",
        "\n",
        "print(p1)\n",
        "print(p2)\n",
        "\n",
        "print('====================================================')\n",
        "\n",
        "print(p3)\n",
        "print(p4)\n",
        "print(p5)"
      ],
      "execution_count": 0,
      "outputs": [
        {
          "output_type": "stream",
          "text": [
            "3\n",
            "7\n",
            "====================================================\n",
            "(3,4)\n",
            "(2,7)\n",
            "====================================================\n",
            "(5,11)\n",
            "(1,-3)\n",
            "(9,12)\n"
          ],
          "name": "stdout"
        }
      ]
    },
    {
      "cell_type": "code",
      "metadata": {
        "id": "_ITkwbF6Mr_Q",
        "colab_type": "code",
        "outputId": "56427849-6220-4ad9-f931-37e4b47ac56c",
        "colab": {
          "base_uri": "https://localhost:8080/",
          "height": 197
        }
      },
      "source": [
        "class point:\n",
        "    def __init__(self,x,y):\n",
        "        self.x=x\n",
        "        self.y=y\n",
        "        \n",
        "    def __add__ (self,pt):  ## 좌표평면을 더한다는 건 새로운 포인트를 입력하여 더한다는 의미\n",
        "        new_x=self.x+pt.x\n",
        "        new_y=self.y+pt.y\n",
        "        return point(new_x,new_y)\n",
        "\n",
        "    def __sub__ (self,pt):  ## 좌표평면을 더한다는 건 새로운 포인트를 입력하여 더한다는 의미\n",
        "        new_x=self.x-pt.x\n",
        "        new_y=self.y-pt.y\n",
        "        return point(new_x,new_y)        \n",
        "    \n",
        "    def __mul__(self,factor):\n",
        "        return point(self.x*factor,self.y*factor)\n",
        "    \n",
        "    def length(self):\n",
        "        return (self.x**2+self.y**2)\n",
        "        \n",
        "    \n",
        "    def __str__(self):\n",
        "        return ('({},{})'.format(self.x,self.y))\n",
        "\n",
        "p1=point(3,4)\n",
        "print(p1.x)\n",
        "print(p2.y)\n",
        "\n",
        "print('====================================================')\n",
        "\n",
        "p2=point(2,7)\n",
        "\n",
        "p3=p1+p2\n",
        "p4=p1-p2\n",
        "p5=p1*3\n",
        "p6=p1.length()\n",
        "\n",
        "print(p1)\n",
        "print(p2)\n",
        "\n",
        "print('====================================================')\n",
        "\n",
        "print(p3)\n",
        "print(p4)\n",
        "print(p5)\n",
        "print(p6)"
      ],
      "execution_count": 0,
      "outputs": [
        {
          "output_type": "stream",
          "text": [
            "3\n",
            "7\n",
            "====================================================\n",
            "(3,4)\n",
            "(2,7)\n",
            "====================================================\n",
            "(5,11)\n",
            "(1,-3)\n",
            "(9,12)\n",
            "25\n"
          ],
          "name": "stdout"
        }
      ]
    },
    {
      "cell_type": "code",
      "metadata": {
        "id": "iBgINhrQN72r",
        "colab_type": "code",
        "outputId": "76c9c3c3-bf02-4501-eeaa-ab5efc76af6c",
        "colab": {
          "base_uri": "https://localhost:8080/",
          "height": 197
        }
      },
      "source": [
        "class point:\n",
        "    def __init__(self,x,y):\n",
        "        self.x=x\n",
        "        self.y=y\n",
        "        \n",
        "    def __add__ (self,pt):  ## 좌표평면을 더한다는 건 새로운 포인트를 입력하여 더한다는 의미\n",
        "        new_x=self.x+pt.x\n",
        "        new_y=self.y+pt.y\n",
        "        return point(new_x,new_y)\n",
        "\n",
        "    def __sub__ (self,pt):  ## 좌표평면을 더한다는 건 새로운 포인트를 입력하여 더한다는 의미\n",
        "        new_x=self.x-pt.x\n",
        "        new_y=self.y-pt.y\n",
        "        return point(new_x,new_y)        \n",
        "    \n",
        "    def __mul__(self,factor):\n",
        "        return point(self.x*factor,self.y*factor)\n",
        "    \n",
        "    def __len__(self):\n",
        "        return (self.x**2+self.y**2)\n",
        "        \n",
        "    \n",
        "    def __str__(self):\n",
        "        return ('({},{})'.format(self.x,self.y))\n",
        "\n",
        "p1=point(3,4)\n",
        "print(p1.x)\n",
        "print(p2.y)\n",
        "\n",
        "print('====================================================')\n",
        "\n",
        "p2=point(2,7)\n",
        "\n",
        "p3=p1+p2\n",
        "p4=p1-p2\n",
        "p5=p1*3\n",
        "p6=len(p1)\n",
        "\n",
        "print(p1)\n",
        "print(p2)\n",
        "\n",
        "print('====================================================')\n",
        "\n",
        "print(p3)\n",
        "print(p4)\n",
        "print(p5)\n",
        "print(p6)"
      ],
      "execution_count": 0,
      "outputs": [
        {
          "output_type": "stream",
          "text": [
            "3\n",
            "7\n",
            "====================================================\n",
            "(3,4)\n",
            "(2,7)\n",
            "====================================================\n",
            "(5,11)\n",
            "(1,-3)\n",
            "(9,12)\n",
            "25\n"
          ],
          "name": "stdout"
        }
      ]
    },
    {
      "cell_type": "code",
      "metadata": {
        "id": "kif7u8wHOKJs",
        "colab_type": "code",
        "outputId": "cdf9e657-e4a2-40a8-8aa0-e3a864f5cfcd",
        "colab": {
          "base_uri": "https://localhost:8080/",
          "height": 251
        }
      },
      "source": [
        "class point:\n",
        "    def __init__(self,x,y):\n",
        "        self.x=x\n",
        "        self.y=y\n",
        "        \n",
        "    def __add__ (self,pt):  ## 좌표평면을 더한다는 건 새로운 포인트를 입력하여 더한다는 의미\n",
        "        new_x=self.x+pt.x\n",
        "        new_y=self.y+pt.y\n",
        "        return point(new_x,new_y)\n",
        "\n",
        "    def __sub__ (self,pt):  ## 좌표평면을 더한다는 건 새로운 포인트를 입력하여 더한다는 의미\n",
        "        new_x=self.x-pt.x\n",
        "        new_y=self.y-pt.y\n",
        "        return point(new_x,new_y)        \n",
        "    \n",
        "    def __mul__(self,factor):\n",
        "        return point(self.x*factor,self.y*factor)\n",
        "    \n",
        "    def __len__(self):\n",
        "        return (self.x**2+self.y**2)\n",
        "    \n",
        "    def get_x(self):\n",
        "        return self.x\n",
        "    def get_y(self):\n",
        "        return self.y\n",
        "        \n",
        "    \n",
        "    def __str__(self):\n",
        "        return ('({},{})'.format(self.x,self.y))\n",
        "\n",
        "p1=point(3,4)\n",
        "print(p1.x)\n",
        "print(p1.y)\n",
        "p2=point(2,7)\n",
        "\n",
        "print('====================================================')\n",
        "\n",
        "p3=p1+p2\n",
        "p4=p1-p2\n",
        "p5=p1*3\n",
        "p6=len(p1)\n",
        "print(p1.get_x())    ## p1[0], p1[y] 로 출력하고 싶다. 어떻게??\n",
        "print(p1.get_y())\n",
        "\n",
        "print('====================================================')\n",
        "\n",
        "print(p1)\n",
        "print(p2)\n",
        "\n",
        "print('====================================================')\n",
        "\n",
        "print(p3)\n",
        "print(p4)\n",
        "print(p5)\n",
        "print(p6)"
      ],
      "execution_count": 0,
      "outputs": [
        {
          "output_type": "stream",
          "text": [
            "3\n",
            "4\n",
            "====================================================\n",
            "3\n",
            "4\n",
            "====================================================\n",
            "(3,4)\n",
            "(2,7)\n",
            "====================================================\n",
            "(5,11)\n",
            "(1,-3)\n",
            "(9,12)\n",
            "25\n"
          ],
          "name": "stdout"
        }
      ]
    },
    {
      "cell_type": "code",
      "metadata": {
        "id": "6P5r3Ta_OJge",
        "colab_type": "code",
        "outputId": "3543eb37-e977-4a83-bd85-6316f09da5b7",
        "colab": {
          "base_uri": "https://localhost:8080/",
          "height": 251
        }
      },
      "source": [
        "class point:\n",
        "    def __init__(self,x,y):\n",
        "        self.x=x\n",
        "        self.y=y\n",
        "        \n",
        "    def __add__ (self,pt):  ## 좌표평면을 더한다는 건 새로운 포인트를 입력하여 더한다는 의미\n",
        "        new_x=self.x+pt.x\n",
        "        new_y=self.y+pt.y\n",
        "        return point(new_x,new_y)\n",
        "\n",
        "    def __sub__ (self,pt):  ## 좌표평면을 더한다는 건 새로운 포인트를 입력하여 더한다는 의미\n",
        "        new_x=self.x-pt.x\n",
        "        new_y=self.y-pt.y\n",
        "        return point(new_x,new_y)        \n",
        "    \n",
        "    def __mul__(self,factor):\n",
        "        return point(self.x*factor,self.y*factor)\n",
        "    \n",
        "    def __len__(self):\n",
        "        return (self.x**2+self.y**2)\n",
        "    \n",
        "    def __getitem__(self,index):\n",
        "        if index==0:\n",
        "            return self.x\n",
        "        elif index==1:\n",
        "            return self.y\n",
        "        else:\n",
        "            return -1       \n",
        "    \n",
        "    def __str__(self):\n",
        "        return ('({},{})'.format(self.x,self.y))\n",
        "\n",
        "p1=point(3,4)\n",
        "print(p1.x)\n",
        "print(p1.y)\n",
        "p2=point(2,7)\n",
        "\n",
        "print('====================================================')\n",
        "\n",
        "p3=p1+p2\n",
        "p4=p1-p2\n",
        "p5=p1*3\n",
        "p6=len(p1)\n",
        "\n",
        "print(p1[0])   \n",
        "print(p1[1])\n",
        "\n",
        "print('====================================================')\n",
        "\n",
        "print(p1)\n",
        "print(p2)\n",
        "\n",
        "print('====================================================')\n",
        "\n",
        "print(p3)\n",
        "print(p4)\n",
        "print(p5)\n",
        "print(p6)"
      ],
      "execution_count": 0,
      "outputs": [
        {
          "output_type": "stream",
          "text": [
            "3\n",
            "4\n",
            "====================================================\n",
            "3\n",
            "4\n",
            "====================================================\n",
            "(3,4)\n",
            "(2,7)\n",
            "====================================================\n",
            "(5,11)\n",
            "(1,-3)\n",
            "(9,12)\n",
            "25\n"
          ],
          "name": "stdout"
        }
      ]
    },
    {
      "cell_type": "markdown",
      "metadata": {
        "id": "p4DIPkrQ16kM",
        "colab_type": "text"
      },
      "source": [
        "#### 연습문제)\n",
        " - 복소수 클래스를 정의 해봅시다.\n",
        " - 덧셈, 뺄셈, 곱셈 연산자 지원\n",
        " - 길이 (복소수의 크기) 지원 \n",
        " - 복소수 출력 '1 + 4j'와 같이 표현\n",
        " - 비교 연산 ==, != 지원\n",
        " - >=, <= , <, > 연산 지원\n",
        " - 절대값 지원\n"
      ]
    },
    {
      "cell_type": "code",
      "metadata": {
        "id": "0vAUHTOe16kN",
        "colab_type": "code",
        "outputId": "b8ba9e29-f521-42f6-da86-7d826bd6e5a0",
        "colab": {
          "base_uri": "https://localhost:8080/",
          "height": 35
        }
      },
      "source": [
        "class Complex_number:\n",
        "    def __init__(self,real, img):\n",
        "        self.real=real\n",
        "        self.img=img\n",
        "    \n",
        "    \n",
        "    \n",
        "    def __str__(self):\n",
        "        return ('{}+{}j'.format(self.real, self.img))\n",
        " \n",
        "a=Complex_number(3,4)\n",
        "print(a)"
      ],
      "execution_count": 0,
      "outputs": [
        {
          "output_type": "stream",
          "text": [
            "3+4j\n"
          ],
          "name": "stdout"
        }
      ]
    },
    {
      "cell_type": "code",
      "metadata": {
        "id": "xSgkQ0R9skVy",
        "colab_type": "code",
        "outputId": "f83a7520-8101-40f3-abcf-4d8e2e42113f",
        "colab": {
          "base_uri": "https://localhost:8080/",
          "height": 89
        }
      },
      "source": [
        "class Complex_number:\n",
        "    def __init__(self,real, img):\n",
        "        self.real=real\n",
        "        self.img=img\n",
        "    \n",
        "    def __add__(self,cn):\n",
        "        new_real=self.real+cn.real\n",
        "        new_img=self.img+cn.img\n",
        "        return Complex_number(new_real,new_img)\n",
        "    \n",
        "    def __sub__(self,cn):\n",
        "        new_real=self.real-cn.real\n",
        "        new_img=self.img-cn.img\n",
        "        return Complex_number(new_real,new_img)\n",
        "    \n",
        "    def __str__(self):\n",
        "        return ('{}+{}j'.format(self.real, self.img))\n",
        " \n",
        "a=Complex_number(3,4)\n",
        "print(a)\n",
        "b=Complex_number(4,9)\n",
        "print(b)\n",
        "c=a+b\n",
        "print(c)\n",
        "d=a-b\n",
        "print(d)"
      ],
      "execution_count": 0,
      "outputs": [
        {
          "output_type": "stream",
          "text": [
            "3+4j\n",
            "4+9j\n",
            "7+13j\n",
            "-1+-5j\n"
          ],
          "name": "stdout"
        }
      ]
    },
    {
      "cell_type": "code",
      "metadata": {
        "id": "1ja4kI5fskI_",
        "colab_type": "code",
        "outputId": "60f81c4b-629d-402f-b7f1-2bb546aacd63",
        "colab": {
          "base_uri": "https://localhost:8080/",
          "height": 197
        }
      },
      "source": [
        "class Complex_number:\n",
        "    def __init__(self,real, img):\n",
        "        self.real=real\n",
        "        self.img=img\n",
        "    \n",
        "    def __add__(self,cn):\n",
        "        new_real=self.real+cn.real\n",
        "        new_img=self.img+cn.img\n",
        "        return Complex_number(new_real,new_img)\n",
        "    \n",
        "    def __sub__(self,cn):\n",
        "        new_real=self.real-cn.real\n",
        "        new_img=self.img-cn.img\n",
        "        return Complex_number(new_real,new_img)\n",
        "    \n",
        "    def __mul__(self,cn):\n",
        "        if type(cn)==int:\n",
        "            new_real=self.real*cn\n",
        "            new_img=self.img*cn\n",
        "            return Complex_number(new_real,new_img)\n",
        "        \n",
        "        elif type(cn)==Complex_number:    ##(a+bj)(c+dj)=(ac-bd)+(ad+bc)j\n",
        "            new_real=self.real*cn.real-self.img*cn.img\n",
        "            new_img=self.real*cn.img+self.img*cn.real\n",
        "            return Complex_number(new_real, new_img)\n",
        "    \n",
        "    def __str__(self):\n",
        "        if self.img > 0:\n",
        "            return '{}+{}j'.format(self.real, self.img)\n",
        "        elif self.img < 0:\n",
        "            return '{}-{}j'.format(self.real, abs(self.img))\n",
        "        else:\n",
        "            return '{}-{}'.format(self.real)\n",
        " \n",
        "a=Complex_number(3,4)\n",
        "print(a)\n",
        "b=Complex_number(4,9)\n",
        "print(b)\n",
        "print('==========================================================')\n",
        "c=a+b\n",
        "print(c)\n",
        "print('==========================================================')\n",
        "d=a-b\n",
        "print(d)\n",
        "print('==========================================================')\n",
        "e=a*3\n",
        "print(e)\n",
        "print('==========================================================')\n",
        "f=a*b\n",
        "print(f)"
      ],
      "execution_count": 6,
      "outputs": [
        {
          "output_type": "stream",
          "text": [
            "3+4j\n",
            "4+9j\n",
            "==========================================================\n",
            "7+13j\n",
            "==========================================================\n",
            "-1-5j\n",
            "==========================================================\n",
            "9+12j\n",
            "==========================================================\n",
            "-24+43j\n"
          ],
          "name": "stdout"
        }
      ]
    },
    {
      "cell_type": "code",
      "metadata": {
        "id": "YCCBkglksdJD",
        "colab_type": "code",
        "colab": {
          "base_uri": "https://localhost:8080/",
          "height": 71
        },
        "outputId": "c5abf533-c013-4481-984a-e14a88faba61"
      },
      "source": [
        "class Complex_number:\n",
        "    def __init__(self,real, img):\n",
        "        self.real=real\n",
        "        self.img=img\n",
        "    \n",
        "    def __add__(self,cn):\n",
        "        new_real=self.real+cn.real\n",
        "        new_img=self.img+cn.img\n",
        "        return Complex_number(new_real,new_img)\n",
        "    \n",
        "    def __sub__(self,cn):\n",
        "        new_real=self.real-cn.real\n",
        "        new_img=self.img-cn.img\n",
        "        return Complex_number(new_real,new_img)\n",
        "    \n",
        "    def __mul__(self,cn):\n",
        "        if type(cn)==int:\n",
        "            new_real=self.real*cn\n",
        "            new_img=self.img*cn\n",
        "            return Complex_number(new_real,new_img)\n",
        "        \n",
        "        elif type(cn)==Complex_number:    ##(a+bj)(c+dj)=(ac-bd)+(ad+bc)j\n",
        "            new_real=self.real*cn.real-self.img*cn.img\n",
        "            new_img=self.real*cn.img+self.img*cn.real\n",
        "            return Complex_number(new_real, new_img)\n",
        "    \n",
        "    def __str__(self):\n",
        "        if self.img > 0:\n",
        "            return '{}+{}j'.format(self.real, self.img)\n",
        "        elif self.img < 0:\n",
        "            return '{}-{}j'.format(self.real, abs(self.img))\n",
        "        else:\n",
        "            return '{}-{}'.format(self.real)\n",
        " \n",
        "a=Complex_number(4,9)\n",
        "print(a)\n",
        "b=Complex_number(4,9)\n",
        "print(b)\n",
        "\n",
        "a==b  ## 현재로서는 비교연산자가 작동하지 않는다. "
      ],
      "execution_count": 9,
      "outputs": [
        {
          "output_type": "stream",
          "text": [
            "4+9j\n",
            "4+9j\n"
          ],
          "name": "stdout"
        },
        {
          "output_type": "execute_result",
          "data": {
            "text/plain": [
              "False"
            ]
          },
          "metadata": {
            "tags": []
          },
          "execution_count": 9
        }
      ]
    },
    {
      "cell_type": "code",
      "metadata": {
        "id": "OCH1aS9uxixZ",
        "colab_type": "code",
        "colab": {
          "base_uri": "https://localhost:8080/",
          "height": 71
        },
        "outputId": "6e20dfc0-ba88-47d0-8a2d-e0f5ad59405f"
      },
      "source": [
        "class Complex_number:\n",
        "    def __init__(self,real, img):\n",
        "        self.real=real\n",
        "        self.img=img\n",
        "    \n",
        "    def __add__(self,cn):\n",
        "        new_real=self.real+cn.real\n",
        "        new_img=self.img+cn.img\n",
        "        return Complex_number(new_real,new_img)\n",
        "    \n",
        "    def __sub__(self,cn):\n",
        "        new_real=self.real-cn.real\n",
        "        new_img=self.img-cn.img\n",
        "        return Complex_number(new_real,new_img)\n",
        "    \n",
        "    def __mul__(self,cn):\n",
        "        if type(cn)==int:\n",
        "            new_real=self.real*cn\n",
        "            new_img=self.img*cn\n",
        "            return Complex_number(new_real,new_img)\n",
        "        \n",
        "        elif type(cn)==Complex_number:    ##(a+bj)(c+dj)=(ac-bd)+(ad+bc)j\n",
        "            new_real=self.real*cn.real-self.img*cn.img\n",
        "            new_img=self.real*cn.img+self.img*cn.real\n",
        "            return Complex_number(new_real, new_img)\n",
        "    \n",
        "    def __eq__(self,cn):\n",
        "        if self.real==cn.real and self.img==cn.img:\n",
        "            return True\n",
        "        else:\n",
        "            return False\n",
        "     \n",
        "    def __ne__(self,cn):\n",
        "        if self.real!=cn.real or self.img!=cn.img:\n",
        "            return False\n",
        "        else:\n",
        "            return True\n",
        "    \n",
        "    def __str__(self):\n",
        "        if self.img > 0:\n",
        "            return '{}+{}j'.format(self.real, self.img)\n",
        "        elif self.img < 0:\n",
        "            return '{}-{}j'.format(self.real, abs(self.img))\n",
        "        else:\n",
        "            return '{}-{}'.format(self.real)\n",
        " \n",
        "a=Complex_number(3,9)\n",
        "print(a)\n",
        "b=Complex_number(4,9)\n",
        "print(b)\n",
        "\n",
        "a!=b"
      ],
      "execution_count": 15,
      "outputs": [
        {
          "output_type": "stream",
          "text": [
            "3+9j\n",
            "4+9j\n"
          ],
          "name": "stdout"
        },
        {
          "output_type": "execute_result",
          "data": {
            "text/plain": [
              "False"
            ]
          },
          "metadata": {
            "tags": []
          },
          "execution_count": 15
        }
      ]
    },
    {
      "cell_type": "code",
      "metadata": {
        "id": "AEllr8exzSMk",
        "colab_type": "code",
        "colab": {
          "base_uri": "https://localhost:8080/",
          "height": 89
        },
        "outputId": "316df44b-1047-447f-f5af-aa51c3bf6e31"
      },
      "source": [
        "import math\n",
        "class Complex_number:\n",
        "    def __init__(self,real, img):\n",
        "        self.real=real\n",
        "        self.img=img\n",
        "    \n",
        "    def __add__(self,cn):\n",
        "        new_real=self.real+cn.real\n",
        "        new_img=self.img+cn.img\n",
        "        return Complex_number(new_real,new_img)\n",
        "    \n",
        "    def __sub__(self,cn):\n",
        "        new_real=self.real-cn.real\n",
        "        new_img=self.img-cn.img\n",
        "        return Complex_number(new_real,new_img)\n",
        "    \n",
        "    def __mul__(self,cn):\n",
        "        if type(cn)==int:\n",
        "            new_real=self.real*cn\n",
        "            new_img=self.img*cn\n",
        "            return Complex_number(new_real,new_img)\n",
        "        \n",
        "        elif type(cn)==Complex_number:    ##(a+bj)(c+dj)=(ac-bd)+(ad+bc)j\n",
        "            new_real=self.real*cn.real-self.img*cn.img\n",
        "            new_img=self.real*cn.img+self.img*cn.real\n",
        "            return Complex_number(new_real, new_img)\n",
        "    \n",
        "    def __eq__(self,cn):\n",
        "        if self.real==cn.real and self.img==cn.img:\n",
        "            return True\n",
        "        else:\n",
        "            return False\n",
        "     \n",
        "    def __ne__(self,cn):\n",
        "        if self.real!=cn.real or self.img!=cn.img:\n",
        "            return False\n",
        "        else:\n",
        "            return True\n",
        "    \n",
        "    def __abs__(self):\n",
        "        return math.sqrt(self.real**2+self.img**2)\n",
        "    \n",
        "    def __len__(self):\n",
        "        return self.real**2+self.img**2    \n",
        "    \n",
        "    def __str__(self):\n",
        "        if self.img > 0:\n",
        "            return '{}+{}j'.format(self.real, self.img)\n",
        "        elif self.img < 0:\n",
        "            return '{}-{}j'.format(self.real, abs(self.img))\n",
        "        else:\n",
        "            return '{}-{}'.format(self.real)\n",
        " \n",
        "a=Complex_number(3,9)\n",
        "print(a)\n",
        "b=Complex_number(4,9)\n",
        "print(b)\n",
        "\n",
        "print(abs(b))\n",
        "\n",
        "print(len(b))"
      ],
      "execution_count": 28,
      "outputs": [
        {
          "output_type": "stream",
          "text": [
            "3+9j\n",
            "4+9j\n",
            "9.848857801796104\n",
            "97\n"
          ],
          "name": "stdout"
        }
      ]
    },
    {
      "cell_type": "code",
      "metadata": {
        "id": "e_8GPTB6zC08",
        "colab_type": "code",
        "colab": {}
      },
      "source": [
        ""
      ],
      "execution_count": 0,
      "outputs": []
    }
  ]
}