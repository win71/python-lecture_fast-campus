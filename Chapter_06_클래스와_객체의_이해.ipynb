{
  "nbformat": 4,
  "nbformat_minor": 0,
  "metadata": {
    "kernelspec": {
      "display_name": "Python 3",
      "language": "python",
      "name": "python3"
    },
    "language_info": {
      "codemirror_mode": {
        "name": "ipython",
        "version": 3
      },
      "file_extension": ".py",
      "mimetype": "text/x-python",
      "name": "python",
      "nbconvert_exporter": "python",
      "pygments_lexer": "ipython3",
      "version": "3.6.5"
    },
    "colab": {
      "name": "Chapter 06. 클래스와 객체의 이해.ipynb",
      "version": "0.3.2",
      "provenance": [],
      "include_colab_link": true
    }
  },
  "cells": [
    {
      "cell_type": "markdown",
      "metadata": {
        "id": "view-in-github",
        "colab_type": "text"
      },
      "source": [
        "<a href=\"https://colab.research.google.com/github/win71/python-lecture_fast-campus/blob/master/Chapter_06_%ED%81%B4%EB%9E%98%EC%8A%A4%EC%99%80_%EA%B0%9D%EC%B2%B4%EC%9D%98_%EC%9D%B4%ED%95%B4.ipynb\" target=\"_parent\"><img src=\"https://colab.research.google.com/assets/colab-badge.svg\" alt=\"Open In Colab\"/></a>"
      ]
    },
    {
      "cell_type": "markdown",
      "metadata": {
        "id": "o88PlYh416jR",
        "colab_type": "text"
      },
      "source": [
        "### 학습목표\n",
        " 1. 클래스와 오브젝트에 대한 이해"
      ]
    },
    {
      "cell_type": "markdown",
      "metadata": {
        "id": "NYxaErxqM4Gk",
        "colab_type": "text"
      },
      "source": [
        "###   인간(class) ---- 홍길동, 임꺽정(objec)\n",
        "###   인간은 국적, 이름(attribute)\n",
        "###          행동한다(method)"
      ]
    },
    {
      "cell_type": "markdown",
      "metadata": {
        "id": "Fk7_zX9B16jT",
        "colab_type": "text"
      },
      "source": [
        "#### **class란?**\n",
        " + 실세계의 것을 모델링하여 속성(attribute)와 동작(method)를 갖는 데이터 타입\n",
        " + python에서의 string, int, list, dict.. 모두가 다 클래스로 존재\n",
        " + 예를들어 학생이라는 클래스를 만든다면, 학생을 나타내는 속성과 학생이 행하는 행동을 함께 정의 할 수 있음\n",
        " + 따라서, 다루고자 하는 데이터(변수) 와 데이터를 다루는 연산(함수)를 하나로 캡슐화(encapsulation)하여 클래스로 표현\n",
        " + 모델링에서 중요시 하는 속성에 따라 클래스의 속성과 행동이 각각 달라짐"
      ]
    },
    {
      "cell_type": "code",
      "metadata": {
        "id": "9jMwB-iG16jU",
        "colab_type": "code",
        "colab": {
          "base_uri": "https://localhost:8080/",
          "height": 35
        },
        "outputId": "51d6972b-6d85-40d5-c6f0-2ccb146db390"
      },
      "source": [
        "a=[1,2,3,4]\n",
        "a.append(5)\n",
        "print(a)"
      ],
      "execution_count": 2,
      "outputs": [
        {
          "output_type": "stream",
          "text": [
            "[1, 2, 3, 4, 5]\n"
          ],
          "name": "stdout"
        }
      ]
    },
    {
      "cell_type": "markdown",
      "metadata": {
        "id": "C557D39O16jZ",
        "colab_type": "text"
      },
      "source": [
        "#### **object 란?**\n",
        " - 클래스로 생성되어 구체화된 객체(인스턴스)\n",
        " - 파이썬의 모든 것(int, str, list..etc)은 객체(인스턴스)\n",
        " - 실제로 class가 인스턴스화 되어 메모리에 상주하는 상태를 의미\n",
        " - class가 빵틀이라면, object는 실제로 빵틀로 찍어낸 빵이라고 비유 가능\n"
      ]
    },
    {
      "cell_type": "code",
      "metadata": {
        "id": "lVaom-P916ja",
        "colab_type": "code",
        "colab": {}
      },
      "source": [
        ""
      ],
      "execution_count": 0,
      "outputs": []
    },
    {
      "cell_type": "markdown",
      "metadata": {
        "id": "L2h031GX16je",
        "colab_type": "text"
      },
      "source": [
        "#### **class 선언하기**\n",
        "  - 객체를 생성하기 위해선 객체의 모체가 되는 class를 미리 선언해야 함 "
      ]
    },
    {
      "cell_type": "code",
      "metadata": {
        "id": "GFa4Mc8e16jf",
        "colab_type": "code",
        "colab": {}
      },
      "source": [
        "class Person:\n",
        "    pass     ## 정의는 하고 싶은데 비워두고 싶을 때 사용하는 명령어"
      ],
      "execution_count": 0,
      "outputs": []
    },
    {
      "cell_type": "code",
      "metadata": {
        "id": "jIq9spHMO_MK",
        "colab_type": "code",
        "colab": {
          "base_uri": "https://localhost:8080/",
          "height": 53
        },
        "outputId": "d148b018-f450-4d56-f230-b14083cfeab4"
      },
      "source": [
        "bob=Person()\n",
        "cathy=Person()\n",
        "\n",
        "a=list()\n",
        "b=list()\n",
        "\n",
        "print(type(bob), type(cathy))\n",
        "print(type(a), type(b))\n"
      ],
      "execution_count": 16,
      "outputs": [
        {
          "output_type": "stream",
          "text": [
            "<class '__main__.Person'> <class '__main__.Person'>\n",
            "<class 'list'> <class 'list'>\n"
          ],
          "name": "stdout"
        }
      ]
    },
    {
      "cell_type": "markdown",
      "metadata": {
        "id": "zKkGlT4Q16ji",
        "colab_type": "text"
      },
      "source": [
        "#### __init__(self)\n",
        " + 생성자, 클래스 인스턴스가 생성될 때 호출됨\n",
        " + self인자는 항상 첫번째에 오며 자기 자신을 가리킴\n",
        " + 이름이 꼭 self일 필요는 없지만, 관례적으로 self로 사용\n",
        " \n",
        " + 생성자에서는 해당 클래스가 다루는 데이터를 정의\n",
        "   - 이 데이터를 멤버 변수(member variable) 또는 속성(attribute)라고 함"
      ]
    },
    {
      "cell_type": "code",
      "metadata": {
        "id": "YlWMRk74QIWd",
        "colab_type": "code",
        "colab": {
          "base_uri": "https://localhost:8080/",
          "height": 71
        },
        "outputId": "0fc21871-acc5-445c-b86a-f7425d096e87"
      },
      "source": [
        "class Person:\n",
        "    def __init__(self):\n",
        "        print(self, 'is generated')\n",
        "        self.name='kate'\n",
        "        self.age=10\n",
        "        \n",
        "p1=Person()\n",
        "p2=Person()\n",
        "\n",
        "p1.name, p2.age"
      ],
      "execution_count": 21,
      "outputs": [
        {
          "output_type": "stream",
          "text": [
            "<__main__.Person object at 0x7f71e9d53d68> is generated\n",
            "<__main__.Person object at 0x7f71e9d53eb8> is generated\n"
          ],
          "name": "stdout"
        },
        {
          "output_type": "execute_result",
          "data": {
            "text/plain": [
              "('kate', 10)"
            ]
          },
          "metadata": {
            "tags": []
          },
          "execution_count": 21
        }
      ]
    },
    {
      "cell_type": "code",
      "metadata": {
        "id": "nr9TVXxwQIFR",
        "colab_type": "code",
        "colab": {
          "base_uri": "https://localhost:8080/",
          "height": 35
        },
        "outputId": "67bb7ff9-4a2f-42e2-e4fc-0ab1372e777d"
      },
      "source": [
        "p1.name='aron'\n",
        "p1.age=20\n",
        "\n",
        "print(p1.name, p1.age)"
      ],
      "execution_count": 30,
      "outputs": [
        {
          "output_type": "stream",
          "text": [
            "aron 20\n"
          ],
          "name": "stdout"
        }
      ]
    },
    {
      "cell_type": "code",
      "metadata": {
        "id": "T0N1mkOX16jj",
        "colab_type": "code",
        "colab": {
          "base_uri": "https://localhost:8080/",
          "height": 53
        },
        "outputId": "a5329803-7d7e-4899-dcea-d3fbd7a8f599"
      },
      "source": [
        "class Person:\n",
        "    def __init__(self,name,age):  ## 여기에서 name, age는 parameter임. 속성에 있는(self뒤에 있는 name, age)\n",
        "                                   ## name, age와 같을 필요는 없다. 아래 예시 참조\n",
        "       # print(self, 'is generated')\n",
        "        self.name=name\n",
        "        self.age=age\n",
        "        \n",
        "p1=Person('bob',30)\n",
        "p2=Person('kate',20)\n",
        "\n",
        "print(p1.name, p1.age)\n",
        "print(p2.name, p2.age)"
      ],
      "execution_count": 31,
      "outputs": [
        {
          "output_type": "stream",
          "text": [
            "bob 30\n",
            "kate 20\n"
          ],
          "name": "stdout"
        }
      ]
    },
    {
      "cell_type": "code",
      "metadata": {
        "id": "JsxEmeOmSnyQ",
        "colab_type": "code",
        "colab": {
          "base_uri": "https://localhost:8080/",
          "height": 53
        },
        "outputId": "d22352b9-096f-4bc0-c7df-9c00d75805ba"
      },
      "source": [
        "class Person:\n",
        "    def __init__(self,n,a):\n",
        "       # print(self, 'is generated')\n",
        "        self.name=n\n",
        "        self.age=a\n",
        "        \n",
        "p1=Person('bob',30)\n",
        "p2=Person('kate',20)\n",
        "\n",
        "print(p1.name, p1.age)\n",
        "print(p2.name, p2.age)"
      ],
      "execution_count": 28,
      "outputs": [
        {
          "output_type": "stream",
          "text": [
            "bob 30\n",
            "kate 20\n"
          ],
          "name": "stdout"
        }
      ]
    },
    {
      "cell_type": "code",
      "metadata": {
        "id": "U7bVDOq2SuFn",
        "colab_type": "code",
        "colab": {
          "base_uri": "https://localhost:8080/",
          "height": 71
        },
        "outputId": "7580e688-5bed-4740-bad7-8a5e6fbb83ea"
      },
      "source": [
        "class Person:\n",
        "    def __init__(self,name,age=10):  ## 함수이기 때문에 기본값을 줄 수 있다. \n",
        "       # print(self, 'is generated')\n",
        "        self.name=name\n",
        "        self.age=age\n",
        "        \n",
        "p1=Person('bob',30)\n",
        "p2=Person('kate',20)\n",
        "p3=Person('john')\n",
        "\n",
        "print(p1.name, p1.age)\n",
        "print(p2.name, p2.age)\n",
        "print(p3.name, p3.age)"
      ],
      "execution_count": 29,
      "outputs": [
        {
          "output_type": "stream",
          "text": [
            "bob 30\n",
            "kate 20\n",
            "john 10\n"
          ],
          "name": "stdout"
        }
      ]
    },
    {
      "cell_type": "markdown",
      "metadata": {
        "id": "BOy0iFqmVUqh",
        "colab_type": "text"
      },
      "source": [
        "### self\n",
        "- 파이썬의 method는 항상 첫번째 인자로 self를 전달\n",
        "- self는 현재 해당 메쏘드가 호출되는 객체 자신을 가리킴\n",
        "- C++/C#, Java의 this에 해당\n",
        "- 역시, 이름이 self일 필요는 없으나, 위치는 항상 맨 처음의 parameter이며 관례적으로 self로 사용"
      ]
    },
    {
      "cell_type": "code",
      "metadata": {
        "id": "mel9ypu5VWPA",
        "colab_type": "code",
        "colab": {
          "base_uri": "https://localhost:8080/",
          "height": 143
        },
        "outputId": "fef5a08f-0904-430f-be1d-68af5e3cfe59"
      },
      "source": [
        "class Person:\n",
        "    def __init__(self,name, age):\n",
        "        print('self:', self)\n",
        "        self.name=name\n",
        "        self.age=age\n",
        "    \n",
        "    def sleep(self):\n",
        "        print('self:', self)\n",
        "        print(self.name, '은 잠을 잡니다')\n",
        "        \n",
        "a=Person('aron',30)\n",
        "b=Person('bob',40)\n",
        "print(a,b)\n",
        "\n",
        "a.sleep()\n",
        "b.sleep()"
      ],
      "execution_count": 37,
      "outputs": [
        {
          "output_type": "stream",
          "text": [
            "self: <__main__.Person object at 0x7f71e9c75e48>\n",
            "self: <__main__.Person object at 0x7f71e9c75a58>\n",
            "<__main__.Person object at 0x7f71e9c75e48> <__main__.Person object at 0x7f71e9c75a58>\n",
            "self: <__main__.Person object at 0x7f71e9c75e48>\n",
            "aron 은 잠을 잡니다\n",
            "self: <__main__.Person object at 0x7f71e9c75a58>\n",
            "bob 은 잠을 잡니다\n"
          ],
          "name": "stdout"
        }
      ]
    },
    {
      "cell_type": "markdown",
      "metadata": {
        "id": "-3-walao16jn",
        "colab_type": "text"
      },
      "source": [
        "#### **mehtod 정의**\n",
        " + 멤버함수라고도 하며, 해당 클래스의 object에서만 호출가능\n",
        " + 메쏘드는 객체 레벨에서 호출되며, 해당 객체의 속성에 대한 연산을 행함\n",
        " + {obj}.{method}() 형태로 호출됨"
      ]
    },
    {
      "cell_type": "code",
      "metadata": {
        "id": "xhfF3FBr16jo",
        "colab_type": "code",
        "colab": {}
      },
      "source": [
        ""
      ],
      "execution_count": 0,
      "outputs": []
    },
    {
      "cell_type": "markdown",
      "metadata": {
        "id": "rU_oR3uq16jr",
        "colab_type": "text"
      },
      "source": [
        " #### **Class Inheritance (상속)**\n",
        "  - 기존에 정의해둔 클래스의 기능을 그대로 물려받을 수 있다.\n",
        "  - 기존 클래스에 기능 일부를 추가하거나, 변경하여 새로운 클래스를 정의한다.\n",
        "  - 코드를 재사용할 수 있게된다.\n",
        "  - 상속 받고자 하는 대상인 기존 클래스는 (Parent, Super, Base class 라고 부른다.)\n",
        "  - 상속 받는 새로운 클래스는(Child, Sub, Derived class 라고 부른다.)\n",
        "  - 의미적으로 is-a관계를 갖는다"
      ]
    },
    {
      "cell_type": "code",
      "metadata": {
        "id": "6gNtzILk16js",
        "colab_type": "code",
        "colab": {}
      },
      "source": [
        ""
      ],
      "execution_count": 0,
      "outputs": []
    },
    {
      "cell_type": "markdown",
      "metadata": {
        "id": "JyN-XWf116jv",
        "colab_type": "text"
      },
      "source": [
        "#### **method override**\n",
        " - 부모 클래스의 method를 재정의(override)\n",
        " - 하위 클래스(자식 클래스) 의 인스턴스로 호출시, 재정의된 메소드가 호출됨"
      ]
    },
    {
      "cell_type": "code",
      "metadata": {
        "id": "mXLunb7Q16jw",
        "colab_type": "code",
        "colab": {}
      },
      "source": [
        ""
      ],
      "execution_count": 0,
      "outputs": []
    },
    {
      "cell_type": "markdown",
      "metadata": {
        "id": "oChtl-C116j3",
        "colab_type": "text"
      },
      "source": [
        "#### super \n",
        " - 하위클래스(자식 클래스)에서 부모클래스의 method를 호출할 때 사용"
      ]
    },
    {
      "cell_type": "code",
      "metadata": {
        "id": "mrq3IICH16j4",
        "colab_type": "code",
        "colab": {}
      },
      "source": [
        ""
      ],
      "execution_count": 0,
      "outputs": []
    },
    {
      "cell_type": "markdown",
      "metadata": {
        "id": "GYWHG1Zk16j-",
        "colab_type": "text"
      },
      "source": [
        "#### **self**\n",
        " - 파이썬의 method는 항상 첫번째 인자로 self를 전달\n",
        " - self는 현재 해당 메쏘드가 호출되는 객체 자신을 가리킴\n",
        " - C++/C#, Java의 this에 해당\n",
        " - 역시, 이름이 self일 필요는 없으나, 위치는 항상 맨 처음의 parameter이며 관례적으로 self로 사용"
      ]
    },
    {
      "cell_type": "code",
      "metadata": {
        "id": "JCmN36Dj16kA",
        "colab_type": "code",
        "colab": {}
      },
      "source": [
        ""
      ],
      "execution_count": 0,
      "outputs": []
    },
    {
      "cell_type": "markdown",
      "metadata": {
        "id": "zfsaPxd816kD",
        "colab_type": "text"
      },
      "source": [
        "#### **method type**\n",
        " - instance method - 객체로 호출\n",
        "   - 메쏘드는 객체 레벨로 호출 되기 때문에, 해당 메쏘드를 호출한 객체에만 영향을 미침\n",
        " - class method    - class로 호출\n",
        "       - 클래스 메쏘드의 경우, 클래스 레벨로 호출되기 때문에, 클래스 멤버 변수만 변경 가능\n"
      ]
    },
    {
      "cell_type": "code",
      "metadata": {
        "id": "3MxCltWF16kF",
        "colab_type": "code",
        "colab": {}
      },
      "source": [
        ""
      ],
      "execution_count": 0,
      "outputs": []
    },
    {
      "cell_type": "markdown",
      "metadata": {
        "id": "JTQxKIr116kI",
        "colab_type": "text"
      },
      "source": [
        "#### **special method**\n",
        " - __로 시작 __로 끝나는 특수 함수\n",
        " - 해당 메쏘드들을 구현하면, 커스텀 객체에 여러가지 파이썬 내장 함수나 연산자를 적용 가능\n",
        " - 오버라이딩 가능한 함수 목록은 아래 링크에서 참조 \n",
        "   - https://docs.python.org/3/reference/datamodel.html"
      ]
    },
    {
      "cell_type": "code",
      "metadata": {
        "id": "h9V91FjX16kJ",
        "colab_type": "code",
        "colab": {}
      },
      "source": [
        ""
      ],
      "execution_count": 0,
      "outputs": []
    },
    {
      "cell_type": "markdown",
      "metadata": {
        "id": "p4DIPkrQ16kM",
        "colab_type": "text"
      },
      "source": [
        "#### 연습문제)\n",
        " - 복소수 클래스를 정의 해봅시다.\n",
        " - 덧셈, 뺄셈, 곱셈 연산자 지원\n",
        " - 길이 (복소수의 크기) 지원 \n",
        " - 복소수 출력 '1 + 4j'와 같이 표현\n",
        " - 비교 연산 ==, != 지원\n",
        " - >=, <= , <, > 연산 지원\n",
        " - 절대값 지원\n"
      ]
    },
    {
      "cell_type": "code",
      "metadata": {
        "id": "0vAUHTOe16kN",
        "colab_type": "code",
        "colab": {}
      },
      "source": [
        ""
      ],
      "execution_count": 0,
      "outputs": []
    }
  ]
}