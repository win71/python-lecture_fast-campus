{
  "nbformat": 4,
  "nbformat_minor": 0,
  "metadata": {
    "kernelspec": {
      "display_name": "Python 3",
      "language": "python",
      "name": "python3"
    },
    "language_info": {
      "codemirror_mode": {
        "name": "ipython",
        "version": 3
      },
      "file_extension": ".py",
      "mimetype": "text/x-python",
      "name": "python",
      "nbconvert_exporter": "python",
      "pygments_lexer": "ipython3",
      "version": "3.6.5"
    },
    "colab": {
      "name": "Chapter 05 - 모듈의 이해 및 모듈 import 방법.ipynb",
      "version": "0.3.2",
      "provenance": [],
      "include_colab_link": true
    }
  },
  "cells": [
    {
      "cell_type": "markdown",
      "metadata": {
        "id": "view-in-github",
        "colab_type": "text"
      },
      "source": [
        "<a href=\"https://colab.research.google.com/github/win71/python-lecture_fast-campus/blob/master/Chapter_05_%EB%AA%A8%EB%93%88%EC%9D%98_%EC%9D%B4%ED%95%B4_%EB%B0%8F_%EB%AA%A8%EB%93%88_import_%EB%B0%A9%EB%B2%95.ipynb\" target=\"_parent\"><img src=\"https://colab.research.google.com/assets/colab-badge.svg\" alt=\"Open In Colab\"/></a>"
      ]
    },
    {
      "cell_type": "markdown",
      "metadata": {
        "id": "JzVRFSL61u9-",
        "colab_type": "text"
      },
      "source": [
        "\n",
        "\n",
        "### 학습목표\n",
        " 1. module의 이해 및 module import 하기"
      ]
    },
    {
      "cell_type": "markdown",
      "metadata": {
        "id": "odhRdULD1u-B",
        "colab_type": "text"
      },
      "source": [
        "### **모듈 임포트**\n",
        " + 그동안 사용했던 함수들 처럼, 다양한 기능들이 미리 함수로 구현되어 모듈 형태로 제공\n",
        " + 대표적으로 추후 과정에서 사용하게 될 아래의 모듈들이 존재\n",
        "\n",
        " + requests - HTTP 요청/응답 모듈\n",
        " + numpy - 수치해석 모듈 \n",
        " + pandas - 데이터 분석 모듈\n"
      ]
    },
    {
      "cell_type": "markdown",
      "metadata": {
        "collapsed": true,
        "id": "_TY7I6b61u-C",
        "colab_type": "text"
      },
      "source": [
        "#### import \n",
        " - import를 사용하여 해당 모듈 전체를 import"
      ]
    },
    {
      "cell_type": "code",
      "metadata": {
        "id": "V5DwukFi1u-D",
        "colab_type": "code",
        "colab": {}
      },
      "source": [
        ""
      ],
      "execution_count": 0,
      "outputs": []
    },
    {
      "cell_type": "markdown",
      "metadata": {
        "id": "1PCHSLXX1u-I",
        "colab_type": "text"
      },
      "source": [
        "#### from import \n",
        " - 해당 모듈에서 특정한 타입만 import"
      ]
    },
    {
      "cell_type": "code",
      "metadata": {
        "id": "q9y7ZPgS1u-J",
        "colab_type": "code",
        "colab": {}
      },
      "source": [
        ""
      ],
      "execution_count": 0,
      "outputs": []
    },
    {
      "cell_type": "markdown",
      "metadata": {
        "id": "kgI_HMdm1u-N",
        "colab_type": "text"
      },
      "source": [
        "#### \\* 임포트\n",
        " - 해당 모듈내에 정의된 모든 것을 import\n",
        " - 일반적으로 사용이 권장되지 않음"
      ]
    },
    {
      "cell_type": "code",
      "metadata": {
        "id": "A5P751aU1u-O",
        "colab_type": "code",
        "colab": {}
      },
      "source": [
        ""
      ],
      "execution_count": 0,
      "outputs": []
    },
    {
      "cell_type": "markdown",
      "metadata": {
        "id": "khWXOQ8O1u-S",
        "colab_type": "text"
      },
      "source": [
        "#### as \n",
        " - 모듈 import 시, alias(별명) 지정가능\n",
        " "
      ]
    },
    {
      "cell_type": "code",
      "metadata": {
        "id": "EZG0E_N_1u-T",
        "colab_type": "code",
        "colab": {}
      },
      "source": [
        ""
      ],
      "execution_count": 0,
      "outputs": []
    }
  ]
}