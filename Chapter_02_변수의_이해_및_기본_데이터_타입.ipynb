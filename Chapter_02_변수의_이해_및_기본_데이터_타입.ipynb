{
  "nbformat": 4,
  "nbformat_minor": 0,
  "metadata": {
    "kernelspec": {
      "display_name": "Python 3",
      "language": "python",
      "name": "python3"
    },
    "language_info": {
      "codemirror_mode": {
        "name": "ipython",
        "version": 3
      },
      "file_extension": ".py",
      "mimetype": "text/x-python",
      "name": "python",
      "nbconvert_exporter": "python",
      "pygments_lexer": "ipython3",
      "version": "3.6.5"
    },
    "colab": {
      "name": "Chapter 02. 변수의 이해 및 기본 데이터 타입.ipynb",
      "version": "0.3.2",
      "provenance": [],
      "include_colab_link": true
    }
  },
  "cells": [
    {
      "cell_type": "markdown",
      "metadata": {
        "id": "view-in-github",
        "colab_type": "text"
      },
      "source": [
        "<a href=\"https://colab.research.google.com/github/win71/python-lecture_fast-campus/blob/master/Chapter_02_%EB%B3%80%EC%88%98%EC%9D%98_%EC%9D%B4%ED%95%B4_%EB%B0%8F_%EA%B8%B0%EB%B3%B8_%EB%8D%B0%EC%9D%B4%ED%84%B0_%ED%83%80%EC%9E%85.ipynb\" target=\"_parent\"><img src=\"https://colab.research.google.com/assets/colab-badge.svg\" alt=\"Open In Colab\"/></a>"
      ]
    },
    {
      "cell_type": "markdown",
      "metadata": {
        "id": "MOg6Trwt-TLj",
        "colab_type": "text"
      },
      "source": [
        "### 학습목표\n",
        "1. python 언어에서 변수의 의미 이해하기\n",
        "2. 기본 데이터 타입 선언하기\n",
        " - int, float, str, bool"
      ]
    },
    {
      "cell_type": "markdown",
      "metadata": {
        "id": "RUmtTLdE-TLl",
        "colab_type": "text"
      },
      "source": [
        "### 기본 데이터 타입\n",
        "* variable declaration & value assignment (변수 선언 및 값 할당)"
      ]
    },
    {
      "cell_type": "markdown",
      "metadata": {
        "id": "trdIH7Ig-TLn",
        "colab_type": "text"
      },
      "source": [
        "##### =  대입 연산자,  ==  비교 연산자 \n",
        " - 대입의 경우, 오른쪽의 수식이나 값을 evaluation(여기서는 계산이라는 의미로 사용) 한 뒤, \n",
        " - 왼쪽에 명시된 변수에 해당 값을 대입\n",
        " - 변수는 해당 값을 가지게 됨"
      ]
    },
    {
      "cell_type": "code",
      "metadata": {
        "id": "x9TUUuKE-TLo",
        "colab_type": "code",
        "colab": {}
      },
      "source": [
        "a=10\n",
        "b=11.4"
      ],
      "execution_count": 0,
      "outputs": []
    },
    {
      "cell_type": "code",
      "metadata": {
        "id": "6Gkb9o59_JQq",
        "colab_type": "code",
        "colab": {
          "base_uri": "https://localhost:8080/",
          "height": 36
        },
        "outputId": "20f4b808-60af-4788-8a1a-e5ab163424a2"
      },
      "source": [
        "print(a,b)"
      ],
      "execution_count": 5,
      "outputs": [
        {
          "output_type": "stream",
          "text": [
            "10 11.4\n"
          ],
          "name": "stdout"
        }
      ]
    },
    {
      "cell_type": "markdown",
      "metadata": {
        "id": "JkD0T125-TLs",
        "colab_type": "text"
      },
      "source": [
        "#### **comment(주석)**\n",
        "  - 코드에서 #으로 시작하는 뒷 부분은 실행되지 않음\n",
        "  - python이 소스코드를 실행하면서 #를 만나면 무시\n",
        "  - 개발자(사람)가 보기 위한 용도로 사용"
      ]
    },
    {
      "cell_type": "code",
      "metadata": {
        "id": "S9yi09fu-TLt",
        "colab_type": "code",
        "colab": {
          "base_uri": "https://localhost:8080/",
          "height": 36
        },
        "outputId": "59a08fe7-8791-4d44-f6d9-7f90ae7898c6"
      },
      "source": [
        "print(a,10,100,b,sep='*',end='!!!')"
      ],
      "execution_count": 7,
      "outputs": [
        {
          "output_type": "stream",
          "text": [
            "10*10*100*11.4!!!"
          ],
          "name": "stdout"
        }
      ]
    },
    {
      "cell_type": "markdown",
      "metadata": {
        "id": "qa_s7bw--TLw",
        "colab_type": "text"
      },
      "source": [
        "#### **print 함수**\n",
        "  - 함수란 특정 기능을 반복적으로 호출하여 사용가능한 코드블럭\n",
        "  - 해당 변수의 값을 출력\n",
        "  - , 로 여러 변수를 나열하면 한줄에 출력\n",
        "  - 기본적으로는 한칸 띄어쓰기 후 출력"
      ]
    },
    {
      "cell_type": "code",
      "metadata": {
        "id": "PUK1gqJi-TLx",
        "colab_type": "code",
        "colab": {}
      },
      "source": [
        ""
      ],
      "execution_count": 0,
      "outputs": []
    },
    {
      "cell_type": "markdown",
      "metadata": {
        "id": "0ranlyCX-TL2",
        "colab_type": "text"
      },
      "source": [
        "* **print함수 설정**\n",
        " - sep : 구분자, 각 출력할 변수 사이에서 구별하는 역할을 함\n",
        " - end : 마지막에 출력할 문자열"
      ]
    },
    {
      "cell_type": "code",
      "metadata": {
        "id": "jMWw48Cl-TL3",
        "colab_type": "code",
        "colab": {}
      },
      "source": [
        ""
      ],
      "execution_count": 0,
      "outputs": []
    },
    {
      "cell_type": "markdown",
      "metadata": {
        "id": "sVdTK-p0-TL7",
        "colab_type": "text"
      },
      "source": [
        "#### **변수 값 확인법**\n",
        " - print() 함수 사용\n",
        " - 변수 값을 코드의 마지막에 위치 시킨 후 실행\n",
        "   - 이 경우 output으로 변수의 값이 출력"
      ]
    },
    {
      "cell_type": "code",
      "metadata": {
        "id": "jYOhC_mH-TL8",
        "colab_type": "code",
        "colab": {}
      },
      "source": [
        ""
      ],
      "execution_count": 0,
      "outputs": []
    },
    {
      "cell_type": "markdown",
      "metadata": {
        "id": "gnfCkouG-TMC",
        "colab_type": "text"
      },
      "source": [
        "#### **variable naming (변수 이름 규칙)**\n",
        "  - 숫자로 시작하는 이름을 제외하고 영문 대소문자, _, 숫자로 구성가능 \n",
        "  - 아래의 예제는 모두 valid한 변수 이름\n",
        "  - 일반적으로 해당 변수를 표현하고자 하는 정확하고 간결한 이름을 사용하는 것이 원칙\n",
        "    - 코드를 읽은 것을 더 쉽게 할 수 있음\n",
        "    - e.g) a = 1000의 경우보다 **student_num = 1000**로 명시한 것이 변수에 대한 이해가 빠름"
      ]
    },
    {
      "cell_type": "code",
      "metadata": {
        "id": "VoTh7oWT-TMF",
        "colab_type": "code",
        "colab": {}
      },
      "source": [
        ""
      ],
      "execution_count": 0,
      "outputs": []
    },
    {
      "cell_type": "markdown",
      "metadata": {
        "id": "6RManmC--TMM",
        "colab_type": "text"
      },
      "source": [
        "* **invalid한 변수 이름의 예**\n",
        " - 숫자로 시작하면 안되는 이유는?"
      ]
    },
    {
      "cell_type": "code",
      "metadata": {
        "id": "_ImwLScr-TMO",
        "colab_type": "code",
        "colab": {}
      },
      "source": [
        ""
      ],
      "execution_count": 0,
      "outputs": []
    },
    {
      "cell_type": "markdown",
      "metadata": {
        "id": "wuCICQz0-TMZ",
        "colab_type": "text"
      },
      "source": [
        "#### **reserved keywords (예약어)**\n",
        "  - python에서 미리 선점하여 사용중인 키워드\n",
        "  - 변수, 함수, 클래스 등등의 사용자 정의 이름으로 사용할 수 없음"
      ]
    },
    {
      "cell_type": "code",
      "metadata": {
        "id": "PCgKjYsC-TMg",
        "colab_type": "code",
        "colab": {}
      },
      "source": [
        ""
      ],
      "execution_count": 0,
      "outputs": []
    },
    {
      "cell_type": "markdown",
      "metadata": {
        "id": "2nzKKkme-TMu",
        "colab_type": "text"
      },
      "source": [
        "### 기본 데이터 타입 \n",
        "  - 정수 (int)\n",
        "  - 실수 (float)\n",
        "  - 문자열 (str)\n",
        "  - 불리언 (boolean)"
      ]
    },
    {
      "cell_type": "markdown",
      "metadata": {
        "id": "gwde9YTq-TMw",
        "colab_type": "text"
      },
      "source": [
        "#### type 함수\n",
        " - 해당 변수, 값의 타입(type)을 알고자 할 때 사용"
      ]
    },
    {
      "cell_type": "code",
      "metadata": {
        "id": "jHvO7AI2-TMy",
        "colab_type": "code",
        "colab": {}
      },
      "source": [
        ""
      ],
      "execution_count": 0,
      "outputs": []
    },
    {
      "cell_type": "markdown",
      "metadata": {
        "id": "S7UsiKUJ-TM6",
        "colab_type": "text"
      },
      "source": [
        "#### **None**\n",
        " - 아무런 값을 갖지 않을 때 사용\n",
        " - 일반적으로 변수가 초기값을 갖지 않게 하여 해당 변수를 생성할 때 사용\n",
        " - 기타 언어의 NULL, nil등과 같은 의미로 사용"
      ]
    },
    {
      "cell_type": "code",
      "metadata": {
        "id": "R7zuukPC-TM9",
        "colab_type": "code",
        "colab": {}
      },
      "source": [
        ""
      ],
      "execution_count": 0,
      "outputs": []
    },
    {
      "cell_type": "markdown",
      "metadata": {
        "id": "tVVSIkBd-TND",
        "colab_type": "text"
      },
      "source": [
        "#### **comparison operator(비교 연산자)** \n",
        "  - 프로그래밍에서는 비교를 할 경우, = 대신 **==**를 사용\n",
        "  - <, > (작다, 크다)\n",
        "  - <=, >= (작거나 같다, 크거나 같다)\n",
        "  - == 같다\n",
        "  - != 같지 않다\n",
        "  - 비교 연산자의 결과는 bool 타입"
      ]
    },
    {
      "cell_type": "code",
      "metadata": {
        "id": "7vW6s6r1-TNH",
        "colab_type": "code",
        "colab": {}
      },
      "source": [
        ""
      ],
      "execution_count": 0,
      "outputs": []
    },
    {
      "cell_type": "markdown",
      "metadata": {
        "id": "7uGydzzB-TNP",
        "colab_type": "text"
      },
      "source": [
        "#### **numbers (숫자형 타입)**\n",
        " - 정수, 실수로 구성\n",
        " - 수학의 기본 연산자(가감승제) 사용 가능"
      ]
    },
    {
      "cell_type": "code",
      "metadata": {
        "id": "6yFxBbPr-TNQ",
        "colab_type": "code",
        "colab": {}
      },
      "source": [
        ""
      ],
      "execution_count": 0,
      "outputs": []
    },
    {
      "cell_type": "markdown",
      "metadata": {
        "id": "Tql7cp-V-TNX",
        "colab_type": "text"
      },
      "source": [
        "#### **operator priorities (연산자 우선순위)**\n",
        "  - 기본적인 수학의 연산자와 동일\n",
        "  - 강제로 연산을 선수하기 위해선, 괄호()를 사용"
      ]
    },
    {
      "cell_type": "code",
      "metadata": {
        "id": "6DnxMl5W-TNZ",
        "colab_type": "code",
        "colab": {}
      },
      "source": [
        ""
      ],
      "execution_count": 0,
      "outputs": []
    },
    {
      "cell_type": "markdown",
      "metadata": {
        "id": "FIs2E42f-TNh",
        "colab_type": "text"
      },
      "source": [
        "*  **연습문제** 다음의 각 a값을 출력 했을 때 결과는? \n"
      ]
    },
    {
      "cell_type": "code",
      "metadata": {
        "id": "yDJnq1iZ-TNk",
        "colab_type": "code",
        "colab": {}
      },
      "source": [
        "a = 9\n",
        "print(a)\n",
        "print(a - 3)\n",
        "print(a)"
      ],
      "execution_count": 0,
      "outputs": []
    },
    {
      "cell_type": "markdown",
      "metadata": {
        "id": "f0D_fUGO-TNr",
        "colab_type": "text"
      },
      "source": [
        "#### **expression evaluation & assignment (식평가 & 대입)**\n",
        " - 변수의 값이 변경되기 위해서는 =를 사용하여 대입이 발생하는 경우에만 해당"
      ]
    },
    {
      "cell_type": "code",
      "metadata": {
        "id": "BtH_mK0V-TNv",
        "colab_type": "code",
        "colab": {}
      },
      "source": [
        ""
      ],
      "execution_count": 0,
      "outputs": []
    }
  ]
}