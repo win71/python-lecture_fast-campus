{
  "nbformat": 4,
  "nbformat_minor": 0,
  "metadata": {
    "kernelspec": {
      "display_name": "Python 3",
      "language": "python",
      "name": "python3"
    },
    "language_info": {
      "codemirror_mode": {
        "name": "ipython",
        "version": 3
      },
      "file_extension": ".py",
      "mimetype": "text/x-python",
      "name": "python",
      "nbconvert_exporter": "python",
      "pygments_lexer": "ipython3",
      "version": "3.6.5"
    },
    "colab": {
      "name": "Chapter 07. 정규표현식과 re 모듈.ipynb",
      "version": "0.3.2",
      "provenance": [],
      "include_colab_link": true
    }
  },
  "cells": [
    {
      "cell_type": "markdown",
      "metadata": {
        "id": "view-in-github",
        "colab_type": "text"
      },
      "source": [
        "<a href=\"https://colab.research.google.com/github/win71/python-lecture_fast-campus/blob/master/Chapter_07_%EC%A0%95%EA%B7%9C%ED%91%9C%ED%98%84%EC%8B%9D%EA%B3%BC_re_%EB%AA%A8%EB%93%88.ipynb\" target=\"_parent\"><img src=\"https://colab.research.google.com/assets/colab-badge.svg\" alt=\"Open In Colab\"/></a>"
      ]
    },
    {
      "cell_type": "markdown",
      "metadata": {
        "id": "qSE4PBHb6s5C",
        "colab_type": "text"
      },
      "source": [
        "## 학습목표\n",
        " 1. 정규표현식(re) 에 대한 이해 및 숙지"
      ]
    },
    {
      "cell_type": "markdown",
      "metadata": {
        "id": "S3Tjk8yy6s5F",
        "colab_type": "text"
      },
      "source": [
        "* 정규표현식 \n",
        " - regular expression\n",
        " - 특정한 패턴과 일치하는 문자열를 '검색', '치환', '제거' 하는 기능을 지원\n",
        " - 정규표현식의 도움없이 패턴을 찾는 작업(Rule 기반)은 불완전 하거나, 작업의 cost가 높음\n",
        " - e.g) 이메일 형식 판별, 전화번호 형식 판별, 숫자로만 이루어진 문자열 등"
      ]
    },
    {
      "cell_type": "markdown",
      "metadata": {
        "id": "FJoU6zMZ6s5G",
        "colab_type": "text"
      },
      "source": [
        "* **raw string**\n",
        " - 문자열 앞에 r이 붙으면 해당 문자열이 구성된 그대로 문자열로 변환"
      ]
    },
    {
      "cell_type": "code",
      "metadata": {
        "id": "JSFooIVN6s5I",
        "colab_type": "code",
        "colab": {}
      },
      "source": [
        ""
      ],
      "execution_count": 0,
      "outputs": []
    },
    {
      "cell_type": "markdown",
      "metadata": {
        "id": "iqw1X-9C6s5P",
        "colab_type": "text"
      },
      "source": [
        "#### **기본 패턴**\n",
        " - a, X, 9 등등 문자 하나하나의 character들은 정확히 해당 문자와 일치\n",
        "   - e.g) 패턴 test는 test 문자열과 일치\n",
        "   - 대소문자의 경우 기본적으로 구별하나, 구별하지 않도록 설정 가능\n",
        " - 몇몇 문자들에 대해서는 예외가 존재하는데, 이들은 틀별한 의미로 사용 됨\n",
        "   - . ^ $ * + ? { } [ ] \\ | ( )\n",
        " \n",
        " - . (마침표) - 어떤 한개의 character와 일치 (newline(엔터) 제외)\n",
        " \n",
        " - \\w - 문자 character와 일치 [a-zA-Z0-9_]\n",
        " - \\s - 공백문자와 일치\n",
        " - \\t, \\n, \\r - tab, newline, return\n",
        " - \\d - 숫자 character와 일치 [0-9]\n",
        " - ^ = 시작, $ = 끝 각각 문자열의 시작과 끝을 의미\n",
        " - \\가 붙으면 스페셜한 의미가 없어짐. 예를들어 \\\\.는 .자체를 의미 \\\\\\는 \\를 의미\n",
        " - 자세한 내용은 링크 참조 https://docs.python.org/3/library/re.html"
      ]
    },
    {
      "cell_type": "markdown",
      "metadata": {
        "id": "Pldc4RUv6s5R",
        "colab_type": "text"
      },
      "source": [
        "#### **search method**\n",
        " - 첫번째로 패턴을 찾으면 match 객체를 반환\n",
        " - 패턴을 찾지 못하면 None 반환"
      ]
    },
    {
      "cell_type": "code",
      "metadata": {
        "id": "L6iT4X5q6s5S",
        "colab_type": "code",
        "colab": {}
      },
      "source": [
        ""
      ],
      "execution_count": 0,
      "outputs": []
    },
    {
      "cell_type": "markdown",
      "metadata": {
        "id": "b-KKOT9s6s5Z",
        "colab_type": "text"
      },
      "source": [
        "#### **metacharacters (메타 캐릭터)**"
      ]
    },
    {
      "cell_type": "markdown",
      "metadata": {
        "id": "xhBG1U056s5a",
        "colab_type": "text"
      },
      "source": [
        "#### **[]** 문자들의 범위를 나타내기 위해 사용\n",
        "   - [] 내부의 메타 캐릭터는 캐릭터 자체를 나타냄\n",
        "   - e.g)\n",
        "   - [abck] : a or b or c or k\n",
        "   - [abc.^] : a or b or c or . or ^\n",
        "   - [a-d]  : -와 함께 사용되면 해당 문자 사이의 범위에 속하는 문자 중 하나\n",
        "   - [0-9]  : 모든 숫자\n",
        "   - [a-z]  : 모든 소문자\n",
        "   - [A-Z]  : 모든 대문자\n",
        "   - [a-zA-Z0-9] : 모든 알파벳 문자 및 숫자\n",
        "   - [^0-9] : ^가 맨 앞에 사용 되는 경우 해당 문자 패턴이 아닌 것과 매칭"
      ]
    },
    {
      "cell_type": "code",
      "metadata": {
        "id": "-BkcPU2p6s5c",
        "colab_type": "code",
        "colab": {}
      },
      "source": [
        ""
      ],
      "execution_count": 0,
      "outputs": []
    },
    {
      "cell_type": "markdown",
      "metadata": {
        "id": "twKhj7Vv6s5m",
        "colab_type": "text"
      },
      "source": [
        "#### **\\** \n",
        " 1. 다른 문자와 함께 사용되어 특수한 의미를 지님\n",
        "   - \\d : 숫자를          [0-9]와 동일\n",
        "   - \\D : 숫자가 아닌 문자  [^0-9]와 동일\n",
        "   - \\s : 공백 문자(띄어쓰기, 탭, 엔터 등)\n",
        "   - \\S : 공백이 아닌 문자\n",
        "   - \\w : 알파벳대소문자, 숫자 [0-9a-zA-Z]와 동일\n",
        "   - \\W : non alpha-numeric 문자 [^0-9a-zA-Z]와 동일\n",
        " 2. 메타 캐릭터가 캐릭터 자체를 표현하도록 할 경우 사용\n",
        "   - \\\\. , \\\\\\\n"
      ]
    },
    {
      "cell_type": "code",
      "metadata": {
        "id": "JXyXfs9q7tsa",
        "colab_type": "code",
        "colab": {}
      },
      "source": [
        "import re"
      ],
      "execution_count": 0,
      "outputs": []
    },
    {
      "cell_type": "code",
      "metadata": {
        "id": "la7m77h36s5o",
        "colab_type": "code",
        "outputId": "11f968f9-5993-474b-9ee2-a9e57da0bf70",
        "colab": {
          "base_uri": "https://localhost:8080/",
          "height": 35
        }
      },
      "source": [
        "re.search(r'\\Sand','appe land banana')"
      ],
      "execution_count": 14,
      "outputs": [
        {
          "output_type": "execute_result",
          "data": {
            "text/plain": [
              "<_sre.SRE_Match object; span=(5, 9), match='land'>"
            ]
          },
          "metadata": {
            "tags": []
          },
          "execution_count": 14
        }
      ]
    },
    {
      "cell_type": "code",
      "metadata": {
        "id": "-zW7kYA27pEd",
        "colab_type": "code",
        "outputId": "46c64e51-48e1-48b3-c824-bd8c12da239e",
        "colab": {
          "base_uri": "https://localhost:8080/",
          "height": 35
        }
      },
      "source": [
        "re.search(r'.and','.and')"
      ],
      "execution_count": 15,
      "outputs": [
        {
          "output_type": "execute_result",
          "data": {
            "text/plain": [
              "<_sre.SRE_Match object; span=(0, 4), match='.and'>"
            ]
          },
          "metadata": {
            "tags": []
          },
          "execution_count": 15
        }
      ]
    },
    {
      "cell_type": "code",
      "metadata": {
        "id": "Csw2Evhl7r9L",
        "colab_type": "code",
        "outputId": "dac6d8b2-d2f4-465e-e306-39b6d0acfb75",
        "colab": {
          "base_uri": "https://localhost:8080/",
          "height": 35
        }
      },
      "source": [
        "re.search(r'\\.and','.and')"
      ],
      "execution_count": 16,
      "outputs": [
        {
          "output_type": "execute_result",
          "data": {
            "text/plain": [
              "<_sre.SRE_Match object; span=(0, 4), match='.and'>"
            ]
          },
          "metadata": {
            "tags": []
          },
          "execution_count": 16
        }
      ]
    },
    {
      "cell_type": "markdown",
      "metadata": {
        "id": "s1W3WXkn6s5t",
        "colab_type": "text"
      },
      "source": [
        "#### **.** \n",
        " - 모든 문자를 의미"
      ]
    },
    {
      "cell_type": "code",
      "metadata": {
        "id": "M0ZIJSp06s5z",
        "colab_type": "code",
        "outputId": "6bd31732-6cc6-483e-adb6-7ca2c46774f3",
        "colab": {
          "base_uri": "https://localhost:8080/",
          "height": 35
        }
      },
      "source": [
        "re.search(r'p.g','pig')"
      ],
      "execution_count": 0,
      "outputs": [
        {
          "output_type": "execute_result",
          "data": {
            "text/plain": [
              "<_sre.SRE_Match object; span=(0, 3), match='pig'>"
            ]
          },
          "metadata": {
            "tags": []
          },
          "execution_count": 8
        }
      ]
    },
    {
      "cell_type": "markdown",
      "metadata": {
        "id": "99-lITQ-6s55",
        "colab_type": "text"
      },
      "source": [
        "#### **반복패턴**\n",
        " - 패턴 뒤에 위치하는 *, +, ?는 해당 패턴이 반복적으로 존재하는지 검사 \n",
        "   - '+' -> 1번 이상의 패턴이 발생\n",
        "   - '*' -> 0번 이상의 패턴이 발생\n",
        "   - '?' -> 0 혹은 1번의 패턴이 발생\n",
        " - 반복을 패턴의 경우 greedy하게 검색 함, 즉 가능한 많은 부분이 매칭되도록 함\n",
        "  - e.g) a[bcd]*b  패턴을 abcbdccb에서 검색하는 경우\n",
        "    - ab, abcb, abcbdccb 전부 가능 하지만 최대한 많은 부분이 매칭된 abcbdccb가 검색된 패턴"
      ]
    },
    {
      "cell_type": "code",
      "metadata": {
        "id": "5Kn2saMk6s56",
        "colab_type": "code",
        "outputId": "42ac2dd3-1e71-4282-f34c-919acb9c2daf",
        "colab": {
          "base_uri": "https://localhost:8080/",
          "height": 35
        }
      },
      "source": [
        "re.search(r'a[bcd]*b','abcbdccb')"
      ],
      "execution_count": 0,
      "outputs": [
        {
          "output_type": "execute_result",
          "data": {
            "text/plain": [
              "<_sre.SRE_Match object; span=(0, 8), match='abcbdccb'>"
            ]
          },
          "metadata": {
            "tags": []
          },
          "execution_count": 10
        }
      ]
    },
    {
      "cell_type": "code",
      "metadata": {
        "id": "GcxJsrEa8uTg",
        "colab_type": "code",
        "outputId": "752937bc-5c90-4c6d-c78c-5918c4217ce2",
        "colab": {
          "base_uri": "https://localhost:8080/",
          "height": 35
        }
      },
      "source": [
        "re.search(r'a[bcd]*b','ab')"
      ],
      "execution_count": 0,
      "outputs": [
        {
          "output_type": "execute_result",
          "data": {
            "text/plain": [
              "<_sre.SRE_Match object; span=(0, 2), match='ab'>"
            ]
          },
          "metadata": {
            "tags": []
          },
          "execution_count": 11
        }
      ]
    },
    {
      "cell_type": "code",
      "metadata": {
        "id": "5Gms2Yoh8u6g",
        "colab_type": "code",
        "outputId": "34ea23a4-efc9-4d01-bc47-a5fcf0137b3d",
        "colab": {
          "base_uri": "https://localhost:8080/",
          "height": 35
        }
      },
      "source": [
        "re.search(r'b\\w+a','banana')"
      ],
      "execution_count": 0,
      "outputs": [
        {
          "output_type": "execute_result",
          "data": {
            "text/plain": [
              "<_sre.SRE_Match object; span=(0, 6), match='banana'>"
            ]
          },
          "metadata": {
            "tags": []
          },
          "execution_count": 15
        }
      ]
    },
    {
      "cell_type": "code",
      "metadata": {
        "id": "4aXc8YYj9tp5",
        "colab_type": "code",
        "outputId": "3b148620-a2f8-4245-9efa-91a00b4dec1b",
        "colab": {
          "base_uri": "https://localhost:8080/",
          "height": 35
        }
      },
      "source": [
        "re.search(r'i+','piigiii')"
      ],
      "execution_count": 0,
      "outputs": [
        {
          "output_type": "execute_result",
          "data": {
            "text/plain": [
              "<_sre.SRE_Match object; span=(1, 3), match='ii'>"
            ]
          },
          "metadata": {
            "tags": []
          },
          "execution_count": 17
        }
      ]
    },
    {
      "cell_type": "code",
      "metadata": {
        "id": "iRemyeKM9unI",
        "colab_type": "code",
        "outputId": "ea079267-1f61-47a0-83b4-0580b2b8d041",
        "colab": {
          "base_uri": "https://localhost:8080/",
          "height": 35
        }
      },
      "source": [
        "re.search(r'pi+g','piig')"
      ],
      "execution_count": 0,
      "outputs": [
        {
          "output_type": "execute_result",
          "data": {
            "text/plain": [
              "<_sre.SRE_Match object; span=(0, 4), match='piig'>"
            ]
          },
          "metadata": {
            "tags": []
          },
          "execution_count": 18
        }
      ]
    },
    {
      "cell_type": "code",
      "metadata": {
        "id": "C6t15NWx8sHo",
        "colab_type": "code",
        "outputId": "b6bca2c2-7631-4088-8501-3bb48320f07f",
        "colab": {
          "base_uri": "https://localhost:8080/",
          "height": 35
        }
      },
      "source": [
        "re.search(r'pi*g','piig')"
      ],
      "execution_count": 0,
      "outputs": [
        {
          "output_type": "execute_result",
          "data": {
            "text/plain": [
              "<_sre.SRE_Match object; span=(0, 4), match='piig'>"
            ]
          },
          "metadata": {
            "tags": []
          },
          "execution_count": 19
        }
      ]
    },
    {
      "cell_type": "code",
      "metadata": {
        "id": "f7QuMUVh-4px",
        "colab_type": "code",
        "outputId": "cf360ecb-15fb-4040-c8a4-46283c098ffd",
        "colab": {
          "base_uri": "https://localhost:8080/",
          "height": 35
        }
      },
      "source": [
        "re.search(r'pi*g','pig')"
      ],
      "execution_count": 0,
      "outputs": [
        {
          "output_type": "execute_result",
          "data": {
            "text/plain": [
              "<_sre.SRE_Match object; span=(0, 3), match='pig'>"
            ]
          },
          "metadata": {
            "tags": []
          },
          "execution_count": 20
        }
      ]
    },
    {
      "cell_type": "markdown",
      "metadata": {
        "id": "1cJfzmGy8ohF",
        "colab_type": "text"
      },
      "source": [
        ""
      ]
    },
    {
      "cell_type": "code",
      "metadata": {
        "id": "zhNP9SwM8i3L",
        "colab_type": "code",
        "outputId": "116586d2-efbb-469b-b57f-6058e0f53948",
        "colab": {
          "base_uri": "https://localhost:8080/",
          "height": 35
        }
      },
      "source": [
        "re.search(r'https?','https://www.naver.com')"
      ],
      "execution_count": 0,
      "outputs": [
        {
          "output_type": "execute_result",
          "data": {
            "text/plain": [
              "<_sre.SRE_Match object; span=(0, 5), match='https'>"
            ]
          },
          "metadata": {
            "tags": []
          },
          "execution_count": 21
        }
      ]
    },
    {
      "cell_type": "code",
      "metadata": {
        "id": "lEFVrMTP_jK2",
        "colab_type": "code",
        "outputId": "4999fedf-1904-40e0-dff4-547cd5c3f2fa",
        "colab": {
          "base_uri": "https://localhost:8080/",
          "height": 35
        }
      },
      "source": [
        "re.search(r'https?','http://www.naver.com')"
      ],
      "execution_count": 0,
      "outputs": [
        {
          "output_type": "execute_result",
          "data": {
            "text/plain": [
              "<_sre.SRE_Match object; span=(0, 4), match='http'>"
            ]
          },
          "metadata": {
            "tags": []
          },
          "execution_count": 22
        }
      ]
    },
    {
      "cell_type": "code",
      "metadata": {
        "id": "QA06gF4Z_kdY",
        "colab_type": "code",
        "colab": {}
      },
      "source": [
        ""
      ],
      "execution_count": 0,
      "outputs": []
    },
    {
      "cell_type": "markdown",
      "metadata": {
        "id": "jbL-hNdm6s6D",
        "colab_type": "text"
      },
      "source": [
        "#### **^**, **$**\n",
        " - ^  문자열의 맨 앞부터 일치하는 경우 검색\n",
        " - \\$  문자열의 맨 뒤부터 일치하는 경우 검색"
      ]
    },
    {
      "cell_type": "code",
      "metadata": {
        "id": "hzJtXiCw6s6e",
        "colab_type": "code",
        "outputId": "3077d61f-dfb4-4b93-f6ab-f9779bddfc21",
        "colab": {
          "base_uri": "https://localhost:8080/",
          "height": 35
        }
      },
      "source": [
        "re.search(r'b\\w+a','cabana')"
      ],
      "execution_count": 0,
      "outputs": [
        {
          "output_type": "execute_result",
          "data": {
            "text/plain": [
              "<_sre.SRE_Match object; span=(2, 6), match='bana'>"
            ]
          },
          "metadata": {
            "tags": []
          },
          "execution_count": 23
        }
      ]
    },
    {
      "cell_type": "code",
      "metadata": {
        "id": "ooWyXoIEACNG",
        "colab_type": "code",
        "colab": {}
      },
      "source": [
        "re.search(r'^b\\w+a','cabana')"
      ],
      "execution_count": 0,
      "outputs": []
    },
    {
      "cell_type": "code",
      "metadata": {
        "id": "RZHqBga1ACky",
        "colab_type": "code",
        "outputId": "8a7b34c8-0161-4eb5-edbe-539bcc6adf04",
        "colab": {
          "base_uri": "https://localhost:8080/",
          "height": 35
        }
      },
      "source": [
        "re.search(r'b\\w+a$','cabana')"
      ],
      "execution_count": 0,
      "outputs": [
        {
          "output_type": "execute_result",
          "data": {
            "text/plain": [
              "<_sre.SRE_Match object; span=(2, 6), match='bana'>"
            ]
          },
          "metadata": {
            "tags": []
          },
          "execution_count": 29
        }
      ]
    },
    {
      "cell_type": "code",
      "metadata": {
        "id": "3eDyJAOzAC6k",
        "colab_type": "code",
        "colab": {}
      },
      "source": [
        "re.search(r'b\\w+a$','cabanp')"
      ],
      "execution_count": 0,
      "outputs": []
    },
    {
      "cell_type": "code",
      "metadata": {
        "id": "g-rnAYlRAE8h",
        "colab_type": "code",
        "colab": {}
      },
      "source": [
        ""
      ],
      "execution_count": 0,
      "outputs": []
    },
    {
      "cell_type": "markdown",
      "metadata": {
        "id": "kxxGDFRT6s6s",
        "colab_type": "text"
      },
      "source": [
        " #### **grouping**\n",
        "  - ()을 사용하여 그루핑\n",
        "  - 매칭 결과를 각 그룹별로 분리 가능\n",
        "  - 패턴 명시 할 때, 각 그룹을 괄호() 안에 넣어 분리하여 사용"
      ]
    },
    {
      "cell_type": "code",
      "metadata": {
        "id": "vVSAnyb46s6u",
        "colab_type": "code",
        "outputId": "39b74425-3a95-4551-9662-45963cfcbf88",
        "colab": {
          "base_uri": "https://localhost:8080/",
          "height": 35
        }
      },
      "source": [
        "m=re.search(r'\\w+@.+','test@gmail.com')\n",
        "m.group()"
      ],
      "execution_count": 0,
      "outputs": [
        {
          "output_type": "execute_result",
          "data": {
            "text/plain": [
              "'test@gmail.com'"
            ]
          },
          "metadata": {
            "tags": []
          },
          "execution_count": 32
        }
      ]
    },
    {
      "cell_type": "code",
      "metadata": {
        "id": "dV8yEdzgBvol",
        "colab_type": "code",
        "outputId": "9f649aa6-e6ba-4bee-8f26-5c3b7b3650a9",
        "colab": {
          "base_uri": "https://localhost:8080/",
          "height": 71
        }
      },
      "source": [
        "m=re.search(r'(\\w+)@(.+)','test@gmail.com')\n",
        "print(m.group(1))\n",
        "print(m.group(2))\n",
        "print(m.group(0))"
      ],
      "execution_count": 0,
      "outputs": [
        {
          "output_type": "stream",
          "text": [
            "test\n",
            "gmail.com\n",
            "test@gmail.com\n"
          ],
          "name": "stdout"
        }
      ]
    },
    {
      "cell_type": "code",
      "metadata": {
        "id": "EmImNR0_BxTO",
        "colab_type": "code",
        "colab": {}
      },
      "source": [
        ""
      ],
      "execution_count": 0,
      "outputs": []
    },
    {
      "cell_type": "markdown",
      "metadata": {
        "id": "oH7inzeD6s6y",
        "colab_type": "text"
      },
      "source": [
        " #### **{}**\n",
        "  - *, +, ?을 사용하여 반복적인 패턴을 찾는 것이 가능하나, 반복의 횟수 제한은 불가\n",
        "  - 패턴뒤에 위치하는 중괄호{}에 숫자를 명시하면 해당 숫자 만큼의 반복인 경우에만 매칭\n",
        "  - {4} - 4번 반복\n",
        "  - {3,4} - 3 ~ 4번 반복"
      ]
    },
    {
      "cell_type": "code",
      "metadata": {
        "id": "Goz3vakv6s60",
        "colab_type": "code",
        "outputId": "ca0d2dbe-a6f6-4178-e02f-971cffd46396",
        "colab": {
          "base_uri": "https://localhost:8080/",
          "height": 35
        }
      },
      "source": [
        "re.search(r'pi+g','piiiig')"
      ],
      "execution_count": 0,
      "outputs": [
        {
          "output_type": "execute_result",
          "data": {
            "text/plain": [
              "<_sre.SRE_Match object; span=(0, 6), match='piiiig'>"
            ]
          },
          "metadata": {
            "tags": []
          },
          "execution_count": 35
        }
      ]
    },
    {
      "cell_type": "code",
      "metadata": {
        "id": "_pNh8TB4DBXe",
        "colab_type": "code",
        "colab": {}
      },
      "source": [
        "re.search(r'pi{3}g','piiiig')"
      ],
      "execution_count": 0,
      "outputs": []
    },
    {
      "cell_type": "code",
      "metadata": {
        "id": "HVlMoHfpDCGn",
        "colab_type": "code",
        "outputId": "69bed015-7bd0-4960-9889-edefa3400bb8",
        "colab": {
          "base_uri": "https://localhost:8080/",
          "height": 35
        }
      },
      "source": [
        "re.search(r'pi{4}g','piiiig')"
      ],
      "execution_count": 0,
      "outputs": [
        {
          "output_type": "execute_result",
          "data": {
            "text/plain": [
              "<_sre.SRE_Match object; span=(0, 6), match='piiiig'>"
            ]
          },
          "metadata": {
            "tags": []
          },
          "execution_count": 37
        }
      ]
    },
    {
      "cell_type": "code",
      "metadata": {
        "id": "4K0B0PVZDCf-",
        "colab_type": "code",
        "outputId": "dc5a424d-3cf0-4672-9b58-4dc6456970b1",
        "colab": {
          "base_uri": "https://localhost:8080/",
          "height": 35
        }
      },
      "source": [
        "re.search(r'pi{3,5}g','piiiiig')"
      ],
      "execution_count": 0,
      "outputs": [
        {
          "output_type": "execute_result",
          "data": {
            "text/plain": [
              "<_sre.SRE_Match object; span=(0, 7), match='piiiiig'>"
            ]
          },
          "metadata": {
            "tags": []
          },
          "execution_count": 38
        }
      ]
    },
    {
      "cell_type": "code",
      "metadata": {
        "id": "kZdMJNvgDCxn",
        "colab_type": "code",
        "colab": {}
      },
      "source": [
        "# {3,5} 최소3번에서 최대5번을 의미"
      ],
      "execution_count": 0,
      "outputs": []
    },
    {
      "cell_type": "code",
      "metadata": {
        "id": "Hlkx73l3E6vv",
        "colab_type": "code",
        "colab": {}
      },
      "source": [
        "re.search(r'pi{3,5}g','piiiiiig')"
      ],
      "execution_count": 0,
      "outputs": []
    },
    {
      "cell_type": "markdown",
      "metadata": {
        "id": "T_nZ055R6s63",
        "colab_type": "text"
      },
      "source": [
        "#### **미니멈 매칭(non-greedy way)**\n",
        " - 기본적으로 *, +, ?를 사용하면 greedy(맥시멈 매칭)하게 동작함\n",
        " - *?, +?을 이용하여 해당 기능을 구현"
      ]
    },
    {
      "cell_type": "code",
      "metadata": {
        "id": "bnaUPt2z6s65",
        "colab_type": "code",
        "outputId": "278bae76-9797-4d46-ae7c-335468b11129",
        "colab": {
          "base_uri": "https://localhost:8080/",
          "height": 35
        }
      },
      "source": [
        "re.search(r'<.+>','<html>haha<\\html>')"
      ],
      "execution_count": 0,
      "outputs": [
        {
          "output_type": "execute_result",
          "data": {
            "text/plain": [
              "<_sre.SRE_Match object; span=(0, 17), match='<html>haha<\\\\html>'>"
            ]
          },
          "metadata": {
            "tags": []
          },
          "execution_count": 46
        }
      ]
    },
    {
      "cell_type": "code",
      "metadata": {
        "id": "ui7E5erZFqF-",
        "colab_type": "code",
        "outputId": "f52b0fc5-8756-4252-d536-6ab06fb1912b",
        "colab": {
          "base_uri": "https://localhost:8080/",
          "height": 35
        }
      },
      "source": [
        "re.search(r'<.+?>','<html>haha<\\html>')"
      ],
      "execution_count": 0,
      "outputs": [
        {
          "output_type": "execute_result",
          "data": {
            "text/plain": [
              "<_sre.SRE_Match object; span=(0, 6), match='<html>'>"
            ]
          },
          "metadata": {
            "tags": []
          },
          "execution_count": 47
        }
      ]
    },
    {
      "cell_type": "markdown",
      "metadata": {
        "id": "dpxuAr_M6s68",
        "colab_type": "text"
      },
      "source": [
        "#### **{}?**\n",
        " - {m,n}의 경우 m번 에서 n번 반복하나 greedy하게 동작\n",
        " - {m,n}?로 사용하면 non-greedy하게 동작. 즉, 최소 m번만 매칭하면 만족"
      ]
    },
    {
      "cell_type": "code",
      "metadata": {
        "id": "6N9VC9tm6s69",
        "colab_type": "code",
        "outputId": "17da33ff-febb-4c3e-952b-6af667341721",
        "colab": {
          "base_uri": "https://localhost:8080/",
          "height": 35
        }
      },
      "source": [
        "re.search(r'a{3,5}','aaaaa')"
      ],
      "execution_count": 6,
      "outputs": [
        {
          "output_type": "execute_result",
          "data": {
            "text/plain": [
              "<_sre.SRE_Match object; span=(0, 5), match='aaaaa'>"
            ]
          },
          "metadata": {
            "tags": []
          },
          "execution_count": 6
        }
      ]
    },
    {
      "cell_type": "code",
      "metadata": {
        "id": "PuVVfZC6GvYs",
        "colab_type": "code",
        "outputId": "a208181c-be76-4765-f159-f5e02f464e69",
        "colab": {
          "base_uri": "https://localhost:8080/",
          "height": 35
        }
      },
      "source": [
        "re.search(r'a{3,5}?','aaaaa')"
      ],
      "execution_count": 5,
      "outputs": [
        {
          "output_type": "execute_result",
          "data": {
            "text/plain": [
              "<_sre.SRE_Match object; span=(0, 3), match='aaa'>"
            ]
          },
          "metadata": {
            "tags": []
          },
          "execution_count": 5
        }
      ]
    },
    {
      "cell_type": "markdown",
      "metadata": {
        "id": "6tw8xVeD6s7B",
        "colab_type": "text"
      },
      "source": [
        "#### **match**\n",
        " - search와 유사하나, 주어진 문자열의 시작부터 비교하여 패턴이 있는지 확인\n",
        " - 시작부터 해당 패턴이 존재하지 않다면 None 반환"
      ]
    },
    {
      "cell_type": "code",
      "metadata": {
        "id": "xntJunLl6s7D",
        "colab_type": "code",
        "colab": {}
      },
      "source": [
        "re.match(r'\\d\\d\\d','my mumber is 123')"
      ],
      "execution_count": 0,
      "outputs": []
    },
    {
      "cell_type": "code",
      "metadata": {
        "id": "z6H1n8yxG7vl",
        "colab_type": "code",
        "outputId": "0357dbf5-5309-4d82-d932-25eb6bb90242",
        "colab": {
          "base_uri": "https://localhost:8080/",
          "height": 35
        }
      },
      "source": [
        "re.match(r'\\d\\d\\d','123 is my mumber')"
      ],
      "execution_count": 0,
      "outputs": [
        {
          "output_type": "execute_result",
          "data": {
            "text/plain": [
              "<_sre.SRE_Match object; span=(0, 3), match='123'>"
            ]
          },
          "metadata": {
            "tags": []
          },
          "execution_count": 53
        }
      ]
    },
    {
      "cell_type": "code",
      "metadata": {
        "id": "tZ7cyIF5G8Dd",
        "colab_type": "code",
        "outputId": "53d8e337-aebc-4d11-8ebe-1cf66d981908",
        "colab": {
          "base_uri": "https://localhost:8080/",
          "height": 35
        }
      },
      "source": [
        "re.search(r'^\\d\\d\\d','123 is my mumber')"
      ],
      "execution_count": 0,
      "outputs": [
        {
          "output_type": "execute_result",
          "data": {
            "text/plain": [
              "<_sre.SRE_Match object; span=(0, 3), match='123'>"
            ]
          },
          "metadata": {
            "tags": []
          },
          "execution_count": 54
        }
      ]
    },
    {
      "cell_type": "code",
      "metadata": {
        "id": "3n9swF1cG8V8",
        "colab_type": "code",
        "colab": {}
      },
      "source": [
        ""
      ],
      "execution_count": 0,
      "outputs": []
    },
    {
      "cell_type": "markdown",
      "metadata": {
        "id": "kl17Fwcb6s7G",
        "colab_type": "text"
      },
      "source": [
        "#### **findall**\n",
        " - search가 최초로 매칭되는 패턴만 반환한다면, findall은 매칭되는 전체의 패턴을 반환\n",
        " - 매칭되는 모든 결과를 리스트 형태로 반환"
      ]
    },
    {
      "cell_type": "code",
      "metadata": {
        "id": "H7P5UnVf6s7H",
        "colab_type": "code",
        "outputId": "8bc48121-0942-4cef-9158-d713d8f0a823",
        "colab": {
          "base_uri": "https://localhost:8080/",
          "height": 35
        }
      },
      "source": [
        "re.findall(r'[\\w-]+@[\\w.]+','test@gmail.com haha test2@gmail.com nice test')"
      ],
      "execution_count": 0,
      "outputs": [
        {
          "output_type": "execute_result",
          "data": {
            "text/plain": [
              "['test@gmail.com', 'test2@gmail.com']"
            ]
          },
          "metadata": {
            "tags": []
          },
          "execution_count": 55
        }
      ]
    },
    {
      "cell_type": "markdown",
      "metadata": {
        "id": "bqvXpRCQ6s7L",
        "colab_type": "text"
      },
      "source": [
        "#### **sub**\n",
        " - 주어진 문자열에서 일치하는 모든 패턴을 replace\n",
        " - 그 결과를 문자열로 다시 반환함\n",
        " - 두번째 인자는 특정 문자열이 될 수도 있고, 함수가 될 수 도 있음\n",
        " - count가 0인 경우는 전체를, 1이상이면 해당 숫자만큼 치환 됨"
      ]
    },
    {
      "cell_type": "code",
      "metadata": {
        "id": "ZtiMFe_-Kwwb",
        "colab_type": "code",
        "colab": {}
      },
      "source": [
        "import re"
      ],
      "execution_count": 0,
      "outputs": []
    },
    {
      "cell_type": "code",
      "metadata": {
        "id": "kP4_ivOM6s7M",
        "colab_type": "code",
        "colab": {
          "base_uri": "https://localhost:8080/",
          "height": 35
        },
        "outputId": "136b93bc-0f06-4fcb-debc-d2d9633ee825"
      },
      "source": [
        "re.sub(r'[\\w-]+@[\\w.]+','great','test@gmail.com haha test2@gmail.com nice test')"
      ],
      "execution_count": 4,
      "outputs": [
        {
          "output_type": "execute_result",
          "data": {
            "text/plain": [
              "'great haha great nice test'"
            ]
          },
          "metadata": {
            "tags": []
          },
          "execution_count": 4
        }
      ]
    },
    {
      "cell_type": "code",
      "metadata": {
        "id": "tNrpPlwoKJxK",
        "colab_type": "code",
        "colab": {
          "base_uri": "https://localhost:8080/",
          "height": 35
        },
        "outputId": "5042839f-b979-4c07-ca8d-d9b8f4924d74"
      },
      "source": [
        "re.sub(r'[\\w-]+@[\\w.]+','great','test@gmail.com haha test2@gmail.com nice test',count=1)"
      ],
      "execution_count": 7,
      "outputs": [
        {
          "output_type": "execute_result",
          "data": {
            "text/plain": [
              "'great haha test2@gmail.com nice test'"
            ]
          },
          "metadata": {
            "tags": []
          },
          "execution_count": 7
        }
      ]
    },
    {
      "cell_type": "markdown",
      "metadata": {
        "id": "qkGknrXP6s7P",
        "colab_type": "text"
      },
      "source": [
        "#### **compile**\n",
        " - 동일한 정규표현식을 매번 다시 쓰기 번거로움을 해결\n",
        " - compile로 해당표현식을 re.RegexObject 객체로 저장하여 사용가능"
      ]
    },
    {
      "cell_type": "code",
      "metadata": {
        "id": "yDlwxQ636s7Q",
        "colab_type": "code",
        "colab": {
          "base_uri": "https://localhost:8080/",
          "height": 35
        },
        "outputId": "8ea15800-b20e-45c4-c990-a44ec546887c"
      },
      "source": [
        "email_reg=re.compile(r'[\\w-]+@[\\w.]+')\n"
      ],
      "execution_count": 9,
      "outputs": [
        {
          "output_type": "execute_result",
          "data": {
            "text/plain": [
              "<_sre.SRE_Match object; span=(0, 14), match='test@gmail.com'>"
            ]
          },
          "metadata": {
            "tags": []
          },
          "execution_count": 9
        }
      ]
    },
    {
      "cell_type": "code",
      "metadata": {
        "id": "9CVPYqLlL4c6",
        "colab_type": "code",
        "colab": {
          "base_uri": "https://localhost:8080/",
          "height": 35
        },
        "outputId": "3fec5067-6cf3-453a-f180-74a5e2638bcd"
      },
      "source": [
        "email_reg.search('test@gmail.com haha test2@gmail.com nice test')"
      ],
      "execution_count": 10,
      "outputs": [
        {
          "output_type": "execute_result",
          "data": {
            "text/plain": [
              "<_sre.SRE_Match object; span=(0, 14), match='test@gmail.com'>"
            ]
          },
          "metadata": {
            "tags": []
          },
          "execution_count": 10
        }
      ]
    },
    {
      "cell_type": "code",
      "metadata": {
        "id": "h9vMkL4pMFzj",
        "colab_type": "code",
        "colab": {
          "base_uri": "https://localhost:8080/",
          "height": 35
        },
        "outputId": "7ec49732-da0d-4f5e-9e5f-63e8126240c7"
      },
      "source": [
        "email_reg.findall('test@gmail.com haha test2@gmail.com nice test')"
      ],
      "execution_count": 11,
      "outputs": [
        {
          "output_type": "execute_result",
          "data": {
            "text/plain": [
              "['test@gmail.com', 'test2@gmail.com']"
            ]
          },
          "metadata": {
            "tags": []
          },
          "execution_count": 11
        }
      ]
    },
    {
      "cell_type": "markdown",
      "metadata": {
        "id": "68mc3RLo6s7U",
        "colab_type": "text"
      },
      "source": [
        "### 연습문제 \n",
        "  - 아래 뉴스에서 이메일 주소를 추출해 보세요\n",
        "  - 다음중 올바른 (http, https) 웹페이지만 찾으시오"
      ]
    },
    {
      "cell_type": "code",
      "metadata": {
        "id": "eekzRgvC6s7V",
        "colab_type": "code",
        "colab": {
          "base_uri": "https://localhost:8080/",
          "height": 55
        },
        "outputId": "0b2c94f5-fc72-4406-dd77-637b1e0dde51"
      },
      "source": [
        "import requests\n",
        "from bs4 import BeautifulSoup\n",
        "# 위의 두 모듈이 없는 경우에는 pip install requests bs4 실행\n",
        "\n",
        "def get_news_content(url):\n",
        "    response = requests.get(url)\n",
        "    content = response.text\n",
        "\n",
        "    soup = BeautifulSoup(content, 'html5lib')\n",
        "\n",
        "    div = soup.find('div', attrs = {'id' : 'harmonyContainer'})\n",
        "    \n",
        "    content = ''\n",
        "    for paragraph in div.find_all('p'):\n",
        "        content += paragraph.get_text()\n",
        "        \n",
        "    return content\n",
        "\n",
        "news1 = get_news_content('https://news.v.daum.net/v/20190617073049838')\n",
        "print(news1)\n"
      ],
      "execution_count": 12,
      "outputs": [
        {
          "output_type": "stream",
          "text": [
            "(로스앤젤레스=연합뉴스) 옥철 특파원 = 팀 쿡 애플 최고경영자(CEO)가 16일(현지시간) 실리콘밸리 앞마당 격인 미국 서부 명문 스탠퍼드대학 학위수여식에서 테크기업들을 향해 쓴소리를 쏟아냈다.쿡은 이날 연설에서 실리콘밸리 테크기업들은 자신들이 만든 혼란에 대한 책임을 질 필요가 있다고 경고했다.근래 IT 업계의 가장 큰 이슈인 개인정보 침해, 사생활 보호 문제를 콕 집어 라이벌인 구글, 페이스북 등 IT 공룡을 겨냥한 발언이라는 해석이 나왔다.쿡은 \"최근 실리콘밸리 산업은 고귀한 혁신과는 점점 더 거리가 멀어지는 것으로 알려져 있다. 책임을 받아들이지 않고도 신뢰를 얻을 수 있다는 그런 믿음 말이다\"라고 꼬집었다.개인정보 유출 사건으로 미 의회 청문회에 줄줄이 불려 나간 경쟁사 CEO들을 향해 일침을 가한 것으로 보인다.그는 또 실리콘밸리에서 희대의 사기극을 연출한 바이오벤처 스타트업 테라노스(Theranos)를 직격했다.쿡은 \"피 한 방울로 거짓된 기적을 만들 수 있다고 믿었느냐\"면서 \"이런 식으로 혼돈의 공장을 만든다면 그 책임에서 절대 벗어날 수 없다\"라고 비난했다.테라노스는 손가락 끝을 찔러 극미량의 혈액 샘플만 있으면 각종 의학정보 분석은 물론 거의 모든 질병 진단이 가능한 바이오헬스 기술을 개발했다고 속여 월가 큰손들로부터 거액의 투자를 유치했다가 해당 기술이 사기인 것으로 드러나 청산한 기업이다.쿡은 애플의 경우 프라이버시(사생활) 보호에 초점을 맞춘 새로운 제품 기능들로 경쟁사들에 맞서고 있다며 자사의 데이터 보호 정책을 은근히 홍보하기도 했다.oakchul@yna.co.kr\n"
          ],
          "name": "stdout"
        }
      ]
    },
    {
      "cell_type": "code",
      "metadata": {
        "id": "8Y7bVlM16s7h",
        "colab_type": "code",
        "colab": {}
      },
      "source": [
        ""
      ],
      "execution_count": 0,
      "outputs": []
    },
    {
      "cell_type": "code",
      "metadata": {
        "id": "g2RwBtkh6s7k",
        "colab_type": "code",
        "colab": {}
      },
      "source": [
        "webs = ['http://www.test.co.kr', \n",
        "        'https://www.test1.com', \n",
        "        'http://www.test.com', \n",
        "        'ftp://www.test.com', \n",
        "        'http:://www.test.com',\n",
        "       'htp://www.test.com',\n",
        "       'http://www.google.com', \n",
        "       'https://www.homepage.com.']"
      ],
      "execution_count": 0,
      "outputs": []
    },
    {
      "cell_type": "code",
      "metadata": {
        "id": "HBzH6oGn6s7n",
        "colab_type": "code",
        "colab": {}
      },
      "source": [
        ""
      ],
      "execution_count": 0,
      "outputs": []
    }
  ]
}