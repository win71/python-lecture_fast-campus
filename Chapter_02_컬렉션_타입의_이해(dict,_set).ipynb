{
  "nbformat": 4,
  "nbformat_minor": 0,
  "metadata": {
    "kernelspec": {
      "display_name": "Python 3",
      "language": "python",
      "name": "python3"
    },
    "language_info": {
      "codemirror_mode": {
        "name": "ipython",
        "version": 3
      },
      "file_extension": ".py",
      "mimetype": "text/x-python",
      "name": "python",
      "nbconvert_exporter": "python",
      "pygments_lexer": "ipython3",
      "version": "3.6.5"
    },
    "colab": {
      "name": "Chapter 02 - 컬렉션 타입의 이해(dict, set).ipynb",
      "version": "0.3.2",
      "provenance": [],
      "include_colab_link": true
    }
  },
  "cells": [
    {
      "cell_type": "markdown",
      "metadata": {
        "id": "view-in-github",
        "colab_type": "text"
      },
      "source": [
        "<a href=\"https://colab.research.google.com/github/win71/python-lecture_fast-campus/blob/master/Chapter_02_%EC%BB%AC%EB%A0%89%EC%85%98_%ED%83%80%EC%9E%85%EC%9D%98_%EC%9D%B4%ED%95%B4(dict%2C_set).ipynb\" target=\"_parent\"><img src=\"https://colab.research.google.com/assets/colab-badge.svg\" alt=\"Open In Colab\"/></a>"
      ]
    },
    {
      "cell_type": "markdown",
      "metadata": {
        "id": "EmxcOfU1R6AK",
        "colab_type": "text"
      },
      "source": [
        "## 학습목표\n",
        " 1. dictionary, set에 대해 이해 및 실습\n"
      ]
    },
    {
      "cell_type": "markdown",
      "metadata": {
        "id": "KFa5UqelR6AM",
        "colab_type": "text"
      },
      "source": [
        "### **dictionary**\n",
        " + 키와 값을 갖는 데이터 구조\n",
        " + 키는 내부적으로 hash값으로 저장\n",
        " + 순서를 따지지 않음. 즉, 인덱스가 없음"
      ]
    },
    {
      "cell_type": "code",
      "metadata": {
        "id": "T4TPljuYR6AN",
        "colab_type": "code",
        "colab": {}
      },
      "source": [
        ""
      ],
      "execution_count": 0,
      "outputs": []
    },
    {
      "cell_type": "markdown",
      "metadata": {
        "id": "VzIG0sNDR6AS",
        "colab_type": "text"
      },
      "source": [
        "+ **항목 추가 및 변경**\n",
        " - 기존에 키가 존재 하면, 새로운 값으로 업데이트\n",
        " - 존재하지 않으면, 새로운 키, 값 생성"
      ]
    },
    {
      "cell_type": "code",
      "metadata": {
        "id": "wfFAF7w5R6AT",
        "colab_type": "code",
        "colab": {}
      },
      "source": [
        ""
      ],
      "execution_count": 0,
      "outputs": []
    },
    {
      "cell_type": "markdown",
      "metadata": {
        "id": "6kWFvRCkR6AW",
        "colab_type": "text"
      },
      "source": [
        "+ **update()**\n",
        " * 두 딕셔너리를 병합함\n",
        " * 겹치는 키가 있다면 parameter로 전달되는 키 값이 overwrite된다."
      ]
    },
    {
      "cell_type": "code",
      "metadata": {
        "id": "jGDicCaVR6AX",
        "colab_type": "code",
        "colab": {}
      },
      "source": [
        ""
      ],
      "execution_count": 0,
      "outputs": []
    },
    {
      "cell_type": "markdown",
      "metadata": {
        "id": "EGdtx0cQR6Aa",
        "colab_type": "text"
      },
      "source": [
        "* **key삭제**\n",
        " - del 키워드 사용"
      ]
    },
    {
      "cell_type": "code",
      "metadata": {
        "id": "pktJdWOdR6Ab",
        "colab_type": "code",
        "colab": {}
      },
      "source": [
        ""
      ],
      "execution_count": 0,
      "outputs": []
    },
    {
      "cell_type": "markdown",
      "metadata": {
        "id": "1sPHqOXMR6Af",
        "colab_type": "text"
      },
      "source": [
        "* **clear()**\n",
        " + 딕셔너리의 모든 값을 초기화\n"
      ]
    },
    {
      "cell_type": "code",
      "metadata": {
        "id": "1i1GaQlUR6Ag",
        "colab_type": "code",
        "colab": {}
      },
      "source": [
        ""
      ],
      "execution_count": 0,
      "outputs": []
    },
    {
      "cell_type": "markdown",
      "metadata": {
        "id": "4D2DZtKkR6Aj",
        "colab_type": "text"
      },
      "source": [
        "* **in**\n",
        " + key값 존재 확인\n",
        " + O(1) 연산 - 딕셔너리의 크기와 관계없이 항상 연산의 속도가 일정하다는 의미"
      ]
    },
    {
      "cell_type": "code",
      "metadata": {
        "id": "9HF_ffA0R6Al",
        "colab_type": "code",
        "colab": {}
      },
      "source": [
        ""
      ],
      "execution_count": 0,
      "outputs": []
    },
    {
      "cell_type": "markdown",
      "metadata": {
        "id": "_AfzXdrpR6Ao",
        "colab_type": "text"
      },
      "source": [
        "* **value access**\n",
        " + dict[key]로 접급, 키가 없는 경우 에러 발생 \n",
        " + .get() 함수로 접근, 키가 없는 경우 None반환"
      ]
    },
    {
      "cell_type": "code",
      "metadata": {
        "id": "-uMajdxxR6Ap",
        "colab_type": "code",
        "colab": {}
      },
      "source": [
        ""
      ],
      "execution_count": 0,
      "outputs": []
    },
    {
      "cell_type": "markdown",
      "metadata": {
        "id": "jcrUJTA_R6Ay",
        "colab_type": "text"
      },
      "source": [
        "#### **모든 keys, values 접근**\n",
        " + keys() - 키만 반환\n",
        " + values() - 값만 반환\n",
        " + items() - 키, 값의 튜플을 반환"
      ]
    },
    {
      "cell_type": "code",
      "metadata": {
        "id": "BmyQAzs3R6Az",
        "colab_type": "code",
        "colab": {}
      },
      "source": [
        ""
      ],
      "execution_count": 0,
      "outputs": []
    },
    {
      "cell_type": "markdown",
      "metadata": {
        "id": "NxLWAFaVR6A3",
        "colab_type": "text"
      },
      "source": [
        "### **set**\n",
        " + dictionary에서 key만 활용하는 데이터 구조로 이해\n",
        " + 수학에서의 집합과 동일한 개념"
      ]
    },
    {
      "cell_type": "code",
      "metadata": {
        "id": "tYjBafhqR6A4",
        "colab_type": "code",
        "colab": {}
      },
      "source": [
        ""
      ],
      "execution_count": 0,
      "outputs": []
    },
    {
      "cell_type": "markdown",
      "metadata": {
        "id": "B68xgKFZR6A-",
        "colab_type": "text"
      },
      "source": [
        "* **set()으로 집합으로 변환**"
      ]
    },
    {
      "cell_type": "code",
      "metadata": {
        "id": "UljgFT9tR6A_",
        "colab_type": "code",
        "colab": {}
      },
      "source": [
        ""
      ],
      "execution_count": 0,
      "outputs": []
    },
    {
      "cell_type": "markdown",
      "metadata": {
        "id": "zcH0DJQhR6BC",
        "colab_type": "text"
      },
      "source": [
        "+ **set operations**\n",
        " - 수학 연산과 동일\n",
        " - 교집합, 합집합, 차집합 등 지원"
      ]
    },
    {
      "cell_type": "code",
      "metadata": {
        "id": "R7866JrKR6BD",
        "colab_type": "code",
        "colab": {}
      },
      "source": [
        ""
      ],
      "execution_count": 0,
      "outputs": []
    }
  ]
}