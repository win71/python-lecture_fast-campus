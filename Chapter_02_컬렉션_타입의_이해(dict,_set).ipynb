{
  "nbformat": 4,
  "nbformat_minor": 0,
  "metadata": {
    "kernelspec": {
      "name": "python3",
      "display_name": "Python 3"
    },
    "language_info": {
      "codemirror_mode": {
        "name": "ipython",
        "version": 3
      },
      "file_extension": ".py",
      "mimetype": "text/x-python",
      "name": "python",
      "nbconvert_exporter": "python",
      "pygments_lexer": "ipython3",
      "version": "3.6.5"
    },
    "colab": {
      "name": "Chapter 02 - 컬렉션 타입의 이해(dict, set).ipynb",
      "version": "0.3.2",
      "provenance": [],
      "include_colab_link": true
    },
    "accelerator": "GPU"
  },
  "cells": [
    {
      "cell_type": "markdown",
      "metadata": {
        "id": "view-in-github",
        "colab_type": "text"
      },
      "source": [
        "<a href=\"https://colab.research.google.com/github/win71/python-lecture_fast-campus/blob/master/Chapter_02_%EC%BB%AC%EB%A0%89%EC%85%98_%ED%83%80%EC%9E%85%EC%9D%98_%EC%9D%B4%ED%95%B4(dict%2C_set).ipynb\" target=\"_parent\"><img src=\"https://colab.research.google.com/assets/colab-badge.svg\" alt=\"Open In Colab\"/></a>"
      ]
    },
    {
      "cell_type": "markdown",
      "metadata": {
        "id": "einZFvA09bKi",
        "colab_type": "text"
      },
      "source": [
        "## 학습목표\n",
        " 1. dictionary, set에 대해 이해 및 실습\n"
      ]
    },
    {
      "cell_type": "markdown",
      "metadata": {
        "id": "cJ9sbl_e9bKl",
        "colab_type": "text"
      },
      "source": [
        "### **dictionary**\n",
        " + 키와 값을 갖는 데이터 구조\n",
        " + 키는 내부적으로 hash값으로 저장\n",
        " + 순서를 따지지 않음. 즉, 인덱스가 없음"
      ]
    },
    {
      "cell_type": "code",
      "metadata": {
        "id": "2sKu1Sc-9bKn",
        "colab_type": "code",
        "colab": {
          "base_uri": "https://localhost:8080/",
          "height": 334
        },
        "outputId": "f4047f78-adc2-4180-f3ff-62b1539cbf53"
      },
      "source": [
        "a=[0,1,2,3,4]\n",
        "print(a[0])\n",
        "print(a[4])\n",
        "\n",
        "a={'korea':'seoul','canada':'ottawa','usa':'washinton d.c'}\n",
        "print(a)\n",
        "\n",
        "print(a['canada'])\n",
        "type(a)\n",
        "\n",
        "print('=====================================================')\n",
        "b={0:1, 1:6, 7:9, 8:10}\n",
        "print(b)\n",
        "print(b[7])\n",
        "print(b[2])"
      ],
      "execution_count": 15,
      "outputs": [
        {
          "output_type": "stream",
          "text": [
            "0\n",
            "4\n",
            "{'korea': 'seoul', 'canada': 'ottawa', 'usa': 'washinton d.c'}\n",
            "ottawa\n",
            "=====================================================\n",
            "{0: 1, 1: 6, 7: 9, 8: 10}\n",
            "9\n"
          ],
          "name": "stdout"
        },
        {
          "output_type": "error",
          "ename": "KeyError",
          "evalue": "ignored",
          "traceback": [
            "\u001b[0;31m---------------------------------------------------------------------------\u001b[0m",
            "\u001b[0;31mKeyError\u001b[0m                                  Traceback (most recent call last)",
            "\u001b[0;32m<ipython-input-15-3316e6bb8390>\u001b[0m in \u001b[0;36m<module>\u001b[0;34m()\u001b[0m\n\u001b[1;32m     13\u001b[0m \u001b[0mprint\u001b[0m\u001b[0;34m(\u001b[0m\u001b[0mb\u001b[0m\u001b[0;34m)\u001b[0m\u001b[0;34m\u001b[0m\u001b[0;34m\u001b[0m\u001b[0m\n\u001b[1;32m     14\u001b[0m \u001b[0mprint\u001b[0m\u001b[0;34m(\u001b[0m\u001b[0mb\u001b[0m\u001b[0;34m[\u001b[0m\u001b[0;36m7\u001b[0m\u001b[0;34m]\u001b[0m\u001b[0;34m)\u001b[0m\u001b[0;34m\u001b[0m\u001b[0;34m\u001b[0m\u001b[0m\n\u001b[0;32m---> 15\u001b[0;31m \u001b[0mprint\u001b[0m\u001b[0;34m(\u001b[0m\u001b[0mb\u001b[0m\u001b[0;34m[\u001b[0m\u001b[0;36m2\u001b[0m\u001b[0;34m]\u001b[0m\u001b[0;34m)\u001b[0m\u001b[0;34m\u001b[0m\u001b[0;34m\u001b[0m\u001b[0m\n\u001b[0m",
            "\u001b[0;31mKeyError\u001b[0m: 2"
          ]
        }
      ]
    },
    {
      "cell_type": "markdown",
      "metadata": {
        "id": "J0THFaUo9bKs",
        "colab_type": "text"
      },
      "source": [
        "+ **항목 추가 및 변경**\n",
        " - 기존에 키가 존재 하면, 새로운 값으로 업데이트\n",
        " - 존재하지 않으면, 새로운 키, 값 생성"
      ]
    },
    {
      "cell_type": "code",
      "metadata": {
        "id": "SXoNYDhz9bKt",
        "colab_type": "code",
        "colab": {
          "base_uri": "https://localhost:8080/",
          "height": 71
        },
        "outputId": "345fad76-4075-4b7a-acb1-9fc223b81c25"
      },
      "source": [
        "a={'korea':'seoul','canada':'ottawa','usa':'washinton d.c'}\n",
        "a['japan']='tokyo'\n",
        "a['china']='beijing'\n",
        "print(a)\n",
        "\n",
        "# 키값은 중복이 안된다. 만일 동일한 키 값에 다른(새로운)값을 넣으면 기존 값이 그 값으로 대체가 된다. \n",
        "a['japan']='kyoto'\n",
        "print(a)\n",
        "\n",
        "#키값만 다르면 value는 같아도 상관없다.\n",
        "a['japan2']='kyoto2'\n",
        "print(a)"
      ],
      "execution_count": 24,
      "outputs": [
        {
          "output_type": "stream",
          "text": [
            "{'korea': 'seoul', 'canada': 'ottawa', 'usa': 'washinton d.c', 'japan': 'tokyo', 'china': 'beijing'}\n",
            "{'korea': 'seoul', 'canada': 'ottawa', 'usa': 'washinton d.c', 'japan': 'kyoto', 'china': 'beijing'}\n",
            "{'korea': 'seoul', 'canada': 'ottawa', 'usa': 'washinton d.c', 'japan': 'kyoto', 'china': 'beijing', 'japan2': 'kyoto2'}\n"
          ],
          "name": "stdout"
        }
      ]
    },
    {
      "cell_type": "markdown",
      "metadata": {
        "id": "CnfoiEO-9bKw",
        "colab_type": "text"
      },
      "source": [
        "+ **update()**\n",
        " * 두 딕셔너리를 병합함\n",
        " * 겹치는 키가 있다면 parameter로 전달되는 키 값이 overwrite된다."
      ]
    },
    {
      "cell_type": "code",
      "metadata": {
        "id": "o5dgJzQI9bKx",
        "colab_type": "code",
        "colab": {
          "base_uri": "https://localhost:8080/",
          "height": 35
        },
        "outputId": "6b8f0202-8fe5-40ed-d4cb-bf9dede04ce2"
      },
      "source": [
        "a={'a':1,'b':2,'c':3}\n",
        "b={'a':2,'d':4,'e':5}\n",
        "\n",
        "a.update(b)\n",
        "\n",
        "print(a)"
      ],
      "execution_count": 26,
      "outputs": [
        {
          "output_type": "stream",
          "text": [
            "{'a': 2, 'b': 2, 'c': 3, 'd': 4, 'e': 5}\n"
          ],
          "name": "stdout"
        }
      ]
    },
    {
      "cell_type": "markdown",
      "metadata": {
        "id": "dlxpzoX09bK0",
        "colab_type": "text"
      },
      "source": [
        "* **key삭제**\n",
        " - del 키워드 사용\n",
        " - pop 함수이용"
      ]
    },
    {
      "cell_type": "code",
      "metadata": {
        "id": "6LSg-KXZ9bK2",
        "colab_type": "code",
        "colab": {
          "base_uri": "https://localhost:8080/",
          "height": 125
        },
        "outputId": "e892185d-29ff-4256-a87d-cc9c609eb4d7"
      },
      "source": [
        "a={'a':1,'b':2,'c':3}\n",
        "print(a)\n",
        "\n",
        "del a['b']\n",
        "print(a)\n",
        "\n",
        "a={'a':1,'b':2,'c':3}\n",
        "print(a)\n",
        "\n",
        "c=a.pop('a')\n",
        "print(a)\n",
        "print(c)\n",
        "type(c)"
      ],
      "execution_count": 31,
      "outputs": [
        {
          "output_type": "stream",
          "text": [
            "{'a': 1, 'b': 2, 'c': 3}\n",
            "{'a': 1, 'c': 3}\n",
            "{'a': 1, 'b': 2, 'c': 3}\n",
            "{'b': 2, 'c': 3}\n",
            "1\n"
          ],
          "name": "stdout"
        },
        {
          "output_type": "execute_result",
          "data": {
            "text/plain": [
              "int"
            ]
          },
          "metadata": {
            "tags": []
          },
          "execution_count": 31
        }
      ]
    },
    {
      "cell_type": "markdown",
      "metadata": {
        "id": "lwEGrmEE9bK5",
        "colab_type": "text"
      },
      "source": [
        "* **clear()**\n",
        " + 딕셔너리의 모든 값을 초기화\n"
      ]
    },
    {
      "cell_type": "code",
      "metadata": {
        "id": "aHdoGzO29bK6",
        "colab_type": "code",
        "colab": {
          "base_uri": "https://localhost:8080/",
          "height": 53
        },
        "outputId": "ec545f71-d7a0-4779-9d7f-60e42eacb7d1"
      },
      "source": [
        "print(a)\n",
        "a.clear()\n",
        "print(a)\n"
      ],
      "execution_count": 32,
      "outputs": [
        {
          "output_type": "stream",
          "text": [
            "{'b': 2, 'c': 3}\n",
            "{}\n"
          ],
          "name": "stdout"
        }
      ]
    },
    {
      "cell_type": "markdown",
      "metadata": {
        "id": "JUxEAugk9bK9",
        "colab_type": "text"
      },
      "source": [
        "* **in**\n",
        " + key값 존재 확인\n",
        " + O(1) 연산 - 딕셔너리의 크기와 관계없이 항상 연산의 속도가 일정하다는 의미"
      ]
    },
    {
      "cell_type": "code",
      "metadata": {
        "id": "0pgwM9hu9bK-",
        "colab_type": "code",
        "colab": {
          "base_uri": "https://localhost:8080/",
          "height": 71
        },
        "outputId": "cb6c2296-ca15-4b94-ed89-f40ec1b523a1"
      },
      "source": [
        "a={'a':1,'b':2,'c':3}\n",
        "print(a)\n",
        "\n",
        "b=[1,2,3,4,5,6,100]\n",
        "\n",
        "print(100 in b)  # 리스트의 경우 안에 요소가 많으면 성능저하가 동반된다.\n",
        "print('b' in a)  # 사전형 타입에서는 키값이 주어져 있으면 아무리 요소가 많아도 바로 찾아준다. \n"
      ],
      "execution_count": 36,
      "outputs": [
        {
          "output_type": "stream",
          "text": [
            "{'a': 1, 'b': 2, 'c': 3}\n",
            "True\n",
            "True\n"
          ],
          "name": "stdout"
        }
      ]
    },
    {
      "cell_type": "markdown",
      "metadata": {
        "id": "Lqz1VI1q9bLB",
        "colab_type": "text"
      },
      "source": [
        "* **value access**\n",
        " + dict[key]로 접급, 키가 없는 경우 에러 발생 \n",
        " + .get() 함수로 접근, 키가 없는 경우 None반환"
      ]
    },
    {
      "cell_type": "code",
      "metadata": {
        "id": "pSwGs9QY9bLD",
        "colab_type": "code",
        "colab": {
          "base_uri": "https://localhost:8080/",
          "height": 53
        },
        "outputId": "4766fb3b-b62a-4a82-e518-c6d283e2ab1d"
      },
      "source": [
        "a={'a':1,'b':2,'c':3}\n",
        "print(a.get('b'))\n",
        "print(a.get('d'))"
      ],
      "execution_count": 38,
      "outputs": [
        {
          "output_type": "stream",
          "text": [
            "2\n",
            "None\n"
          ],
          "name": "stdout"
        }
      ]
    },
    {
      "cell_type": "markdown",
      "metadata": {
        "id": "8Mngi2jd9bLJ",
        "colab_type": "text"
      },
      "source": [
        "#### **모든 keys, values 접근**\n",
        " + keys() - 키만 반환\n",
        " + values() - 값만 반환\n",
        " + items() - 키, 값의 튜플을 반환"
      ]
    },
    {
      "cell_type": "code",
      "metadata": {
        "id": "6V7fe6lA9bLL",
        "colab_type": "code",
        "colab": {
          "base_uri": "https://localhost:8080/",
          "height": 215
        },
        "outputId": "74cd3cd6-90e8-4636-ebe5-cefb0e0362c5"
      },
      "source": [
        "print(a)\n",
        "print(a.keys())\n",
        "print(a.values())\n",
        "\n",
        "print('=========================================')\n",
        "print(list(a.keys()))\n",
        "print(list(a.values()))\n",
        "\n",
        "print('=========================================')\n",
        "b=list(a.keys())\n",
        "c=list(a.values())\n",
        "print(b)\n",
        "print(c)\n",
        "\n",
        "print('=========================================')\n",
        "d=list(a.items())\n",
        "print(d)"
      ],
      "execution_count": 46,
      "outputs": [
        {
          "output_type": "stream",
          "text": [
            "{'a': 1, 'b': 2, 'c': 3}\n",
            "dict_keys(['a', 'b', 'c'])\n",
            "dict_values([1, 2, 3])\n",
            "=========================================\n",
            "['a', 'b', 'c']\n",
            "[1, 2, 3]\n",
            "=========================================\n",
            "['a', 'b', 'c']\n",
            "[1, 2, 3]\n",
            "=========================================\n",
            "[('a', 1), ('b', 2), ('c', 3)]\n"
          ],
          "name": "stdout"
        }
      ]
    },
    {
      "cell_type": "markdown",
      "metadata": {
        "id": "7vUeYUPL9bLP",
        "colab_type": "text"
      },
      "source": [
        "### **set**\n",
        " + dictionary에서 key만 활용하는 데이터 구조로 이해\n",
        " + 수학에서의 집합과 동일한 개념"
      ]
    },
    {
      "cell_type": "code",
      "metadata": {
        "id": "Dguy8_oo9bLQ",
        "colab_type": "code",
        "colab": {
          "base_uri": "https://localhost:8080/",
          "height": 35
        },
        "outputId": "82100114-00db-4a04-ca02-dc3721985d81"
      },
      "source": [
        "a={1,1,1,2,13,3,4,1,5}\n",
        "print(a)\n",
        "\n",
        "# 인덱싱이 없다. 따라서 순서가 없다. 중복을 허용하지 않는다."
      ],
      "execution_count": 47,
      "outputs": [
        {
          "output_type": "stream",
          "text": [
            "{1, 2, 3, 4, 5, 13}\n"
          ],
          "name": "stdout"
        }
      ]
    },
    {
      "cell_type": "markdown",
      "metadata": {
        "id": "RPFdo_5K9bLZ",
        "colab_type": "text"
      },
      "source": [
        "* **set()으로 집합으로 변환**"
      ]
    },
    {
      "cell_type": "code",
      "metadata": {
        "id": "Dkj_llCS9bLb",
        "colab_type": "code",
        "colab": {
          "base_uri": "https://localhost:8080/",
          "height": 53
        },
        "outputId": "c3b281ac-0c68-438c-b167-082151024de9"
      },
      "source": [
        "a=set()\n",
        "type(a)\n",
        "\n",
        "a=[1,2,3,1,4,5,5,6]\n",
        "b=set(a)\n",
        "print(a)\n",
        "print(b)"
      ],
      "execution_count": 49,
      "outputs": [
        {
          "output_type": "stream",
          "text": [
            "[1, 2, 3, 1, 4, 5, 5, 6]\n",
            "{1, 2, 3, 4, 5, 6}\n"
          ],
          "name": "stdout"
        }
      ]
    },
    {
      "cell_type": "markdown",
      "metadata": {
        "id": "FCTD2hk69bLe",
        "colab_type": "text"
      },
      "source": [
        "+ **set operations**\n",
        " - 수학 연산과 동일\n",
        " - 교집합, 합집합, 차집합 등 지원"
      ]
    },
    {
      "cell_type": "code",
      "metadata": {
        "id": "VZkZw5xiLvEP",
        "colab_type": "code",
        "colab": {
          "base_uri": "https://localhost:8080/",
          "height": 89
        },
        "outputId": "4a37725c-f746-46a8-c90e-72d8700cea94"
      },
      "source": [
        "a={1,2,3}\n",
        "b={2,3,4}\n",
        "\n",
        "print(a.union(b))\n",
        "print(a.intersection(b))\n",
        "print(a.difference(b))\n",
        "print(a.issubset(b))"
      ],
      "execution_count": 50,
      "outputs": [
        {
          "output_type": "stream",
          "text": [
            "{1, 2, 3, 4}\n",
            "{2, 3}\n",
            "{1}\n",
            "False\n"
          ],
          "name": "stdout"
        }
      ]
    }
  ]
}