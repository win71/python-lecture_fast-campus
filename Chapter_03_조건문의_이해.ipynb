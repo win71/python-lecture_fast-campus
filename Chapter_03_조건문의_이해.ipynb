{
  "nbformat": 4,
  "nbformat_minor": 0,
  "metadata": {
    "kernelspec": {
      "display_name": "Python 3",
      "language": "python",
      "name": "python3"
    },
    "language_info": {
      "codemirror_mode": {
        "name": "ipython",
        "version": 3
      },
      "file_extension": ".py",
      "mimetype": "text/x-python",
      "name": "python",
      "nbconvert_exporter": "python",
      "pygments_lexer": "ipython3",
      "version": "3.6.5"
    },
    "colab": {
      "name": "Chapter 03 - 조건문의 이해.ipynb",
      "version": "0.3.2",
      "provenance": [],
      "include_colab_link": true
    }
  },
  "cells": [
    {
      "cell_type": "markdown",
      "metadata": {
        "id": "view-in-github",
        "colab_type": "text"
      },
      "source": [
        "<a href=\"https://colab.research.google.com/github/win71/python-lecture_fast-campus/blob/master/Chapter_03_%EC%A1%B0%EA%B1%B4%EB%AC%B8%EC%9D%98_%EC%9D%B4%ED%95%B4.ipynb\" target=\"_parent\"><img src=\"https://colab.research.google.com/assets/colab-badge.svg\" alt=\"Open In Colab\"/></a>"
      ]
    },
    {
      "cell_type": "markdown",
      "metadata": {
        "id": "XZd3xXW_b4sQ",
        "colab_type": "text"
      },
      "source": [
        "### 학습목표\n",
        " * 조건문의 이해 및 활용 (if)"
      ]
    },
    {
      "cell_type": "markdown",
      "metadata": {
        "id": "A33tSjdbb4sT",
        "colab_type": "text"
      },
      "source": [
        "#### condition (조건문)\n",
        " + 특정 조건을 만족하는 경우에만 수행할 작업이 있는 경우 사용\n",
        " + 모든 조건은 boolean으로 표현 됨 (예외 사항은 아래 배울 예정)\n",
        " + if, elif, else 키워드가 사용\n",
        " + 조건문의 경우 if, elif, else 블록에 종속된 코드는 들여쓰기로 표현 가능\n",
        " + 즉 아래코드에서와 같이, 조건문 아래에 들여쓰기된 2줄의 코드만이 조건문의 조건에 따라 수행될 수도, 수행되지 않을 수도 있는 코드라고 할 수 있음\n",
        " + 들여쓰기 된 코드를 블록(block), 또는 코드블록이라고 함\n",
        " + python에서 모든 블록의 시작점의 마지막에는 :(콜론, colon) 추가가 필요\n",
        "\n",
        "```python\n",
        "if 6 >= 5:\n",
        "    print ('6 is greater than 5')\n",
        "    print ('Yeah, it is true')\n",
        "print ('This code is not belongs to if statements')\n",
        "```"
      ]
    },
    {
      "cell_type": "code",
      "metadata": {
        "id": "FVGnu1wOb4sV",
        "colab_type": "code",
        "colab": {
          "base_uri": "https://localhost:8080/",
          "height": 89
        },
        "outputId": "4662a42e-3c2d-4375-d2d1-05550aa8b769"
      },
      "source": [
        "if 6 >= 5:\n",
        "    print ('6 is greater than 5')\n",
        "    print ('Yeah, it is true')\n",
        "    print ('it is really true')\n",
        "    \n",
        "print ('This code is not belongs to if statements') # if 블럭과 상관없는 코드 줄"
      ],
      "execution_count": 2,
      "outputs": [
        {
          "output_type": "stream",
          "text": [
            "6 is greater than 5\n",
            "Yeah, it is true\n",
            "it is really true\n",
            "This code is not belongs to if statements\n"
          ],
          "name": "stdout"
        }
      ]
    },
    {
      "cell_type": "code",
      "metadata": {
        "id": "AmjtWR35N6hm",
        "colab_type": "code",
        "colab": {
          "base_uri": "https://localhost:8080/",
          "height": 35
        },
        "outputId": "a24332f3-94f1-4a81-9a56-d071692430c2"
      },
      "source": [
        "if 6 == 5:\n",
        "    print ('6 is greater than 5')\n",
        "    print ('Yeah, it is true')\n",
        "    print ('it is really true')\n",
        "    \n",
        "print ('This code is not belongs to if statements') # if 블럭과 상관없는 코드 줄"
      ],
      "execution_count": 3,
      "outputs": [
        {
          "output_type": "stream",
          "text": [
            "This code is not belongs to if statements\n"
          ],
          "name": "stdout"
        }
      ]
    },
    {
      "cell_type": "markdown",
      "metadata": {
        "id": "fbztsY1_b4sa",
        "colab_type": "text"
      },
      "source": [
        "* Logical AND, OR, NOT \n",
        "  - 조건문에 사용되는 조건의 경우, boolean이기 때문에, 논리식 AND, OR, NOT 이 사용가능\n",
        "  - AND : and\n",
        "  - OR : or\n",
        "  - NOT : not\n",
        "  \n",
        "* 논리표 \n",
        "  - AND \n",
        "      - T AND T : T\n",
        "      - T AND F : F\n",
        "      - F AND T : F\n",
        "      - F AND F : F\n",
        "  - OR \n",
        "      - T OR T : T\n",
        "      - T OR F : T\n",
        "      - F OR T : T\n",
        "      - F OR F : F\n",
        "      \n",
        "  - NOT \n",
        "      - NOT T : F\n",
        "      - NOT F : T\n",
        "* 우선순위\n",
        "  - NOT > AND > OR"
      ]
    },
    {
      "cell_type": "code",
      "metadata": {
        "id": "HayA6YCFb4sc",
        "colab_type": "code",
        "colab": {}
      },
      "source": [
        "a=10\n",
        "b=8\n",
        "c=11"
      ],
      "execution_count": 0,
      "outputs": []
    },
    {
      "cell_type": "code",
      "metadata": {
        "id": "bzl9QQ6UOjge",
        "colab_type": "code",
        "colab": {
          "base_uri": "https://localhost:8080/",
          "height": 35
        },
        "outputId": "4944fb3b-edea-45cc-90d6-12ffdd6aa14a"
      },
      "source": [
        "if a==10 and b==9:\n",
        "  print('that is true')\n",
        "\n",
        "if a==10 and b!=9:\n",
        "  print('that is true')"
      ],
      "execution_count": 8,
      "outputs": [
        {
          "output_type": "stream",
          "text": [
            "that is true\n"
          ],
          "name": "stdout"
        }
      ]
    },
    {
      "cell_type": "code",
      "metadata": {
        "id": "thKjWlYwOjV9",
        "colab_type": "code",
        "colab": {
          "base_uri": "https://localhost:8080/",
          "height": 35
        },
        "outputId": "df7bf96f-10f0-4ec9-b7f0-38a4afc17ab4"
      },
      "source": [
        "# 논리연산자 수행 우선순위 : not and or 순으로 수행된다. 만일 먼저 하고 싶으면 괄호를 사용하면 된다. \n",
        "\n",
        "if a==10 or b==9 and c==12:\n",
        "  print('that is true')"
      ],
      "execution_count": 10,
      "outputs": [
        {
          "output_type": "stream",
          "text": [
            "that is true\n"
          ],
          "name": "stdout"
        }
      ]
    },
    {
      "cell_type": "code",
      "metadata": {
        "id": "MFM3SOC2PnNh",
        "colab_type": "code",
        "colab": {
          "base_uri": "https://localhost:8080/",
          "height": 35
        },
        "outputId": "8bbe7caf-2533-4b67-f90d-b977c21b3e4d"
      },
      "source": [
        "if not a==19:\n",
        "  print('that is true')"
      ],
      "execution_count": 12,
      "outputs": [
        {
          "output_type": "stream",
          "text": [
            "that is true\n"
          ],
          "name": "stdout"
        }
      ]
    },
    {
      "cell_type": "code",
      "metadata": {
        "id": "anThu8EuPnD1",
        "colab_type": "code",
        "colab": {
          "base_uri": "https://localhost:8080/",
          "height": 35
        },
        "outputId": "12c15c99-8d8d-4888-e415-9dea10ec798a"
      },
      "source": [
        "if a!=19:\n",
        "  print('that is true')"
      ],
      "execution_count": 13,
      "outputs": [
        {
          "output_type": "stream",
          "text": [
            "that is true\n"
          ],
          "name": "stdout"
        }
      ]
    },
    {
      "cell_type": "code",
      "metadata": {
        "id": "7xvQ9JAUOiDH",
        "colab_type": "code",
        "colab": {}
      },
      "source": [
        ""
      ],
      "execution_count": 0,
      "outputs": []
    },
    {
      "cell_type": "markdown",
      "metadata": {
        "id": "RBUpsZvGb4sf",
        "colab_type": "text"
      },
      "source": [
        "#### if의 조건이 bool이 아닌 경우\n",
        " * 일반적으로는 조건문에는 bool이 주로 위치 함\n",
        " * 하지만, 정수, 실수, 문자열 리스트 등 기본 타입도 조건에 사용 가능\n",
        " * False로 간주되는 값 (각 타입의 기본값)\n",
        "     * None\n",
        "     * 0\n",
        "     * 0.0\n",
        "     * ''\n",
        "     * [] -> 빈 리스트\n",
        "     * () -> 빈 튜플\n",
        "     * {} -> 빈 딕셔너리\n",
        "     * set() -> 빈 집합\n",
        " * 그밖에는 모두 True로 간주"
      ]
    },
    {
      "cell_type": "code",
      "metadata": {
        "id": "ah7jZCenQbpQ",
        "colab_type": "code",
        "colab": {
          "base_uri": "https://localhost:8080/",
          "height": 35
        },
        "outputId": "2bfba852-d776-4add-c0d0-5789f782433e"
      },
      "source": [
        "if not a==19:\n",
        "  print('that is true')"
      ],
      "execution_count": 14,
      "outputs": [
        {
          "output_type": "stream",
          "text": [
            "print\n"
          ],
          "name": "stdout"
        }
      ]
    },
    {
      "cell_type": "code",
      "metadata": {
        "id": "MD-KwP1Ob4sg",
        "colab_type": "code",
        "colab": {
          "base_uri": "https://localhost:8080/",
          "height": 35
        },
        "outputId": "40f0feb4-d4f0-4579-de7a-5fcd744b7b7c"
      },
      "source": [
        "if 3:\n",
        "  print('print')"
      ],
      "execution_count": 15,
      "outputs": [
        {
          "output_type": "stream",
          "text": [
            "print\n"
          ],
          "name": "stdout"
        }
      ]
    },
    {
      "cell_type": "code",
      "metadata": {
        "id": "UzOdOVsCQt2s",
        "colab_type": "code",
        "colab": {
          "base_uri": "https://localhost:8080/",
          "height": 35
        },
        "outputId": "26372a7d-7b4e-4fea-d7a9-6e67200300a2"
      },
      "source": [
        "if 'a':\n",
        "  print('print')"
      ],
      "execution_count": 23,
      "outputs": [
        {
          "output_type": "stream",
          "text": [
            "print\n"
          ],
          "name": "stdout"
        }
      ]
    },
    {
      "cell_type": "code",
      "metadata": {
        "id": "MyjSQZt-QtqU",
        "colab_type": "code",
        "colab": {}
      },
      "source": [
        "a=[]\n",
        "if a:\n",
        "  print('print')"
      ],
      "execution_count": 0,
      "outputs": []
    },
    {
      "cell_type": "markdown",
      "metadata": {
        "id": "RW093v2qb4sk",
        "colab_type": "text"
      },
      "source": [
        "#### if, else\n",
        "  - if가 아닌 경우, 나머지 조건을 표현하고 싶다면 바로 아래 else 블락 사용\n",
        "  - 이 경우, if조건이 True인 경우, if 블락의 코드가 수행, 거짓인 경우 else 블락의 코드가 수행\n",
        "  - 주의 할 점 : if와 else사이에 다른 코드 삽입 불가"
      ]
    },
    {
      "cell_type": "code",
      "metadata": {
        "id": "HGYV_Gusb4sl",
        "colab_type": "code",
        "colab": {
          "base_uri": "https://localhost:8080/",
          "height": 35
        },
        "outputId": "ce3b4f4d-7974-4c58-9213-bdf406a0b67c"
      },
      "source": [
        "# 짝수인 경우 어떤 처리를 하고 홀수인 경우는 다른 처리를 해라\n",
        "\n",
        "a=11\n",
        "if a % 2==0: #짝수인지 판별\n",
        "  print(a/2)\n",
        "else:        #if와 else사이에는 어떤 다른 코드도 들어가지 못한다. \n",
        "  print(a+1)"
      ],
      "execution_count": 26,
      "outputs": [
        {
          "output_type": "stream",
          "text": [
            "12\n"
          ],
          "name": "stdout"
        }
      ]
    },
    {
      "cell_type": "markdown",
      "metadata": {
        "id": "5KFROo1ib4so",
        "colab_type": "text"
      },
      "source": [
        "#### if, elif, else\n",
        "  - 조건이 여러개인 경우, 다음 조건을 elif 블록에 명시 가능\n",
        "  - 이 경우, 각 조건을 확인 후, True인 조건의 코드 블락을 실행 한 후, 전체 if, elif, else 구문을 종료\n",
        "  - 조건문을 사용할 때는, if 이후, 0개 이상의 elif를 사용 가능하며 0개 또는 1개의 else를 사용 가능함\n",
        "\n",
        "```python\n",
        "a = 17\n",
        "if a % 4 == 0:\n",
        "    print 'a is divisible by 4'\n",
        "elif a % 4 == 1:\n",
        "    print 'a % 4 is 1'\n",
        "elif a % 4 == 2:\n",
        "    print 'a % 4 is 2'\n",
        "else:\n",
        "    print 'a % 4 is 3'\n",
        "```"
      ]
    },
    {
      "cell_type": "code",
      "metadata": {
        "id": "UwYTd7dqb4sq",
        "colab_type": "code",
        "colab": {
          "base_uri": "https://localhost:8080/",
          "height": 35
        },
        "outputId": "989b1070-7708-4107-8458-03fe5d219c2f"
      },
      "source": [
        "a = 16\n",
        "if a % 4 == 0:\n",
        "    print('a is divisible by 4')\n",
        "elif a % 4 == 1:\n",
        "    print ('a % 4 is 1')\n",
        "elif a % 4 == 2:\n",
        "    print ('a % 4 is 2')\n",
        "else:\n",
        "    print ('a % 4 is 3')\n",
        "    \n",
        "# if~elif~else 조건문은 if~elif중에서 하나만 실행되어도 바로 else로 넘어간다."
      ],
      "execution_count": 33,
      "outputs": [
        {
          "output_type": "stream",
          "text": [
            "a is divisible by 4\n"
          ],
          "name": "stdout"
        }
      ]
    },
    {
      "cell_type": "code",
      "metadata": {
        "id": "iD7O7E70Tq4e",
        "colab_type": "code",
        "colab": {
          "base_uri": "https://localhost:8080/",
          "height": 53
        },
        "outputId": "39d0d56e-fc80-427b-b8f3-0d43d9026622"
      },
      "source": [
        "a = 16\n",
        "if a % 4 == 0:\n",
        "    print('a is divisible by 4')\n",
        "if a % 4 == 1:\n",
        "    print ('a % 4 is 1')\n",
        "if a % 4 == 2:\n",
        "    print ('a % 4 is 2')\n",
        "else:\n",
        "    print ('a % 4 is 3')\n",
        "    \n",
        "# if~if~else 는 각각단계 모두 실행된다. "
      ],
      "execution_count": 34,
      "outputs": [
        {
          "output_type": "stream",
          "text": [
            "a is divisible by 4\n",
            "a % 4 is 3\n"
          ],
          "name": "stdout"
        }
      ]
    },
    {
      "cell_type": "markdown",
      "metadata": {
        "id": "ds-e4X0Nb4st",
        "colab_type": "text"
      },
      "source": [
        "#### 중첩 조건문(nested condition)\n",
        "  - 조건문의 경우 중첩하여 작성 가능\n",
        "  - 중첩의 의미는 depth(깊이)로 생각할 수 있으며, depth의 제한은 없음"
      ]
    },
    {
      "cell_type": "code",
      "metadata": {
        "id": "k5Nzs8mKb4su",
        "colab_type": "code",
        "colab": {
          "base_uri": "https://localhost:8080/",
          "height": 35
        },
        "outputId": "cd2f861c-7fbb-4b96-b3d4-42127ece3c56"
      },
      "source": [
        "a=10\n",
        "b=9\n",
        "c=8\n",
        "\n",
        "if a==9:\n",
        "  if c==8:\n",
        "    if b==8:\n",
        "      print('a is ten and b is 8')\n",
        "    else:\n",
        "      print('a is ten and b is not 8')\n",
        "else:\n",
        "  print('a is ten')"
      ],
      "execution_count": 37,
      "outputs": [
        {
          "output_type": "stream",
          "text": [
            "a is ten\n"
          ],
          "name": "stdout"
        }
      ]
    }
  ]
}