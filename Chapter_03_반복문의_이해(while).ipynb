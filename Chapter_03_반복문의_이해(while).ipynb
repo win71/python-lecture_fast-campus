{
  "nbformat": 4,
  "nbformat_minor": 0,
  "metadata": {
    "kernelspec": {
      "display_name": "Python 3",
      "language": "python",
      "name": "python3"
    },
    "language_info": {
      "codemirror_mode": {
        "name": "ipython",
        "version": 3
      },
      "file_extension": ".py",
      "mimetype": "text/x-python",
      "name": "python",
      "nbconvert_exporter": "python",
      "pygments_lexer": "ipython3",
      "version": "3.6.5"
    },
    "colab": {
      "name": "Chapter 03 - 반복문의 이해(while).ipynb",
      "version": "0.3.2",
      "provenance": [],
      "include_colab_link": true
    }
  },
  "cells": [
    {
      "cell_type": "markdown",
      "metadata": {
        "id": "view-in-github",
        "colab_type": "text"
      },
      "source": [
        "<a href=\"https://colab.research.google.com/github/win71/python-lecture_fast-campus/blob/master/Chapter_03_%EB%B0%98%EB%B3%B5%EB%AC%B8%EC%9D%98_%EC%9D%B4%ED%95%B4(while).ipynb\" target=\"_parent\"><img src=\"https://colab.research.google.com/assets/colab-badge.svg\" alt=\"Open In Colab\"/></a>"
      ]
    },
    {
      "cell_type": "markdown",
      "metadata": {
        "id": "avw73ezLbYXN",
        "colab_type": "text"
      },
      "source": [
        "## 학습목표\n",
        " * 반복문의 이해 및 활용 (while)"
      ]
    },
    {
      "cell_type": "markdown",
      "metadata": {
        "id": "W7phAPn9bYXQ",
        "colab_type": "text"
      },
      "source": [
        "### loop (반복문)\n",
        " + 반복적인 작업을 가능하게 해주는 도구\n",
        " + 특정 조건을 만족하는 경우 수행할 수 있음 (while)\n",
        " + 리스트, 문자열, 튜플 등 컬렉션 타입의 아이템을 하나씩 순회하면서 사용 가능 (for)\n",
        " + 코드 작업에서, 가장 많이 사용하는 구문 중 하나\n",
        " + 주의할점: while을 사용할 경우, 반복을 멈추게 하는 장치가 필요\n",
        "   + 그렇지 않으면 셀이 무한히 수행되며, jupyter notebook의 재부팅이 필요"
      ]
    },
    {
      "cell_type": "markdown",
      "metadata": {
        "id": "Pl9q3uTAbYXS",
        "colab_type": "text"
      },
      "source": [
        "#### while 키워드\n",
        "  - while 뒤의 조건이 True일 경우, while 코드 블록을 계속 수행\n",
        "  - while 코드 블록\n",
        "    - if와 마찬가지로 while문 아래의 들여쓰기로 작성 된 부분을 의미\n",
        "  - 조건이 False가 되면 블록 수행을 멈추고 이후 코드를 실행"
      ]
    },
    {
      "cell_type": "markdown",
      "metadata": {
        "id": "EJhXKEr5bYXT",
        "colab_type": "text"
      },
      "source": [
        "#### while 키워드 이용하여 리스트의 아이템 출력하기"
      ]
    },
    {
      "cell_type": "code",
      "metadata": {
        "id": "Eudi6QlBbYXV",
        "colab_type": "code",
        "colab": {
          "base_uri": "https://localhost:8080/",
          "height": 215
        },
        "outputId": "4fb2a0e0-89ee-4bcc-aa73-cfff37b13fff"
      },
      "source": [
        "a=[1,9,24,17,566,23,45,67,89]\n",
        "\n",
        "print(len(a))\n",
        "\n",
        "i=0\n",
        "while i<len(a):\n",
        "    print('value:',a[i], 'index:',i)\n",
        "    i+=1\n",
        "    \n",
        "print('hahaha')"
      ],
      "execution_count": 5,
      "outputs": [
        {
          "output_type": "stream",
          "text": [
            "9\n",
            "value: 1 index: 0\n",
            "value: 9 index: 1\n",
            "value: 24 index: 2\n",
            "value: 17 index: 3\n",
            "value: 566 index: 4\n",
            "value: 23 index: 5\n",
            "value: 45 index: 6\n",
            "value: 67 index: 7\n",
            "value: 89 index: 8\n",
            "hahaha\n"
          ],
          "name": "stdout"
        }
      ]
    },
    {
      "cell_type": "markdown",
      "metadata": {
        "id": "q7_B0a8-bYXb",
        "colab_type": "text"
      },
      "source": [
        "#### while 키워드 이용하여 리스트의 아이템 출력하기\n",
        " - 조건문과 함께 사용하기"
      ]
    },
    {
      "cell_type": "code",
      "metadata": {
        "id": "7CC6h-S1bYXc",
        "colab_type": "code",
        "colab": {
          "base_uri": "https://localhost:8080/",
          "height": 71
        },
        "outputId": "7d4033ce-92f3-4b14-ecb4-83fa3d78241d"
      },
      "source": [
        "a=[1,10,9,24,25,26]\n",
        "\n",
        "i=0\n",
        "while i<len(a):\n",
        "  if a[i]>20:\n",
        "    print(a[i])\n",
        "  i+=1"
      ],
      "execution_count": 6,
      "outputs": [
        {
          "output_type": "stream",
          "text": [
            "24\n",
            "25\n",
            "26\n"
          ],
          "name": "stdout"
        }
      ]
    },
    {
      "cell_type": "code",
      "metadata": {
        "id": "j2AI5Bf0Zkq7",
        "colab_type": "code",
        "colab": {
          "base_uri": "https://localhost:8080/",
          "height": 125
        },
        "outputId": "88775168-e7dc-4a9c-d8b3-2bcc656ac958"
      },
      "source": [
        "a=[1,10,9,24,25,26]\n",
        "\n",
        "i=0\n",
        "while i<len(a):\n",
        "  if a[i]%2==1:  # 홀수인 경우\n",
        "    print(a[i])\n",
        "  else:\n",
        "    print(a[i]/2) # 짝수는 2로 나누어 몫 출력\n",
        "  i+=1"
      ],
      "execution_count": 9,
      "outputs": [
        {
          "output_type": "stream",
          "text": [
            "1\n",
            "5.0\n",
            "9\n",
            "12.0\n",
            "25\n",
            "13.0\n"
          ],
          "name": "stdout"
        }
      ]
    },
    {
      "cell_type": "markdown",
      "metadata": {
        "id": "q-csylOxbYXf",
        "colab_type": "text"
      },
      "source": [
        "#### 무한루프\n",
        " - while의 경우 종료가 되지 않도록 코드를 작성하면 블록에서 빠져나올 수 없음"
      ]
    },
    {
      "cell_type": "code",
      "metadata": {
        "id": "Qu9Cq9LQbYXh",
        "colab_type": "code",
        "colab": {}
      },
      "source": [
        ""
      ],
      "execution_count": 0,
      "outputs": []
    },
    {
      "cell_type": "markdown",
      "metadata": {
        "id": "lWDXZUF-bYXm",
        "colab_type": "text"
      },
      "source": [
        "#### break \n",
        " + loop를 중단할 때 사용\n",
        " + 보통 조건문 안에서 수행되며, 조건을 만족하는 경우 loop를 탈출하기 위해 사용\n",
        " + loop를 중단 하는 경우, while 이후의 코드를 수행"
      ]
    },
    {
      "cell_type": "code",
      "metadata": {
        "id": "zHk3s57ObYXn",
        "colab_type": "code",
        "colab": {
          "base_uri": "https://localhost:8080/",
          "height": 89
        },
        "outputId": "a0278759-9d8a-4c2f-98fc-0eedf660234c"
      },
      "source": [
        "a=[1,10,9,24,25,26]\n",
        "i=0\n",
        "while i<len(a):\n",
        "  if a[i]>20:\n",
        "    break\n",
        "    \n",
        "  print(a[i])\n",
        "  \n",
        "  i+=1\n",
        "  \n",
        "print('haha')"
      ],
      "execution_count": 15,
      "outputs": [
        {
          "output_type": "stream",
          "text": [
            "1\n",
            "10\n",
            "9\n",
            "haha\n"
          ],
          "name": "stdout"
        }
      ]
    },
    {
      "cell_type": "markdown",
      "metadata": {
        "id": "9AoMNxpubYXq",
        "colab_type": "text"
      },
      "source": [
        "#### continue\n",
        " + break 처럼 반복을 중단하진 하여 빠져나오지 않고, 다시 while조건으로 점프함\n",
        " + 특정한 경우에는 코드를 수행하지 않고 다음으로 건너 뛰기 위해 사용"
      ]
    },
    {
      "cell_type": "code",
      "metadata": {
        "id": "YxZbwItDcZJ1",
        "colab_type": "code",
        "colab": {
          "base_uri": "https://localhost:8080/",
          "height": 35
        },
        "outputId": "4019c03e-0d95-496d-dc41-356a9471b80f"
      },
      "source": [
        "a=7\n",
        "while a>0:\n",
        "    a-=1\n",
        "    if a==5:\n",
        "        break  # 특정조건일 때 끝내고자 할 때\n",
        "    print(a)"
      ],
      "execution_count": 17,
      "outputs": [
        {
          "output_type": "stream",
          "text": [
            "6\n"
          ],
          "name": "stdout"
        }
      ]
    },
    {
      "cell_type": "code",
      "metadata": {
        "id": "hSd_IL0cbYXr",
        "colab_type": "code",
        "colab": {
          "base_uri": "https://localhost:8080/",
          "height": 125
        },
        "outputId": "b6d2228a-db03-4fc3-e183-149b4b07dc39"
      },
      "source": [
        "a=7\n",
        "while a>0:\n",
        "    a-=1\n",
        "    if a==5:\n",
        "        continue  # 해당조건이 만족되면 출력하지 않고 그대로 반복시행, 즉 특정조건일때 실행하지 않고 넘어가고자 할 때\n",
        "    print(a)"
      ],
      "execution_count": 18,
      "outputs": [
        {
          "output_type": "stream",
          "text": [
            "6\n",
            "4\n",
            "3\n",
            "2\n",
            "1\n",
            "0\n"
          ],
          "name": "stdout"
        }
      ]
    },
    {
      "cell_type": "code",
      "metadata": {
        "id": "L4FvabnsdiXF",
        "colab_type": "code",
        "colab": {
          "base_uri": "https://localhost:8080/",
          "height": 35
        },
        "outputId": "c1f99ae2-c190-45f5-ce10-c5c61d7b4410"
      },
      "source": [
        "# 1부터 100까지 더하기\n",
        "\n",
        "i=0\n",
        "_sum=0\n",
        "while i<=100:\n",
        "    _sum=_sum+i\n",
        "    i=i+1\n",
        "print(_sum)"
      ],
      "execution_count": 22,
      "outputs": [
        {
          "output_type": "stream",
          "text": [
            "5050\n"
          ],
          "name": "stdout"
        }
      ]
    },
    {
      "cell_type": "code",
      "metadata": {
        "id": "c_lV7ACldiOE",
        "colab_type": "code",
        "colab": {
          "base_uri": "https://localhost:8080/",
          "height": 35
        },
        "outputId": "03439f96-7857-4b10-cb38-81a14c64531c"
      },
      "source": [
        "i=0\n",
        "_sum=0\n",
        "while True:\n",
        "    _sum=_sum+i\n",
        "    i=i+1\n",
        "    if i>100:\n",
        "        break\n",
        "print(_sum)"
      ],
      "execution_count": 23,
      "outputs": [
        {
          "output_type": "stream",
          "text": [
            "5050\n"
          ],
          "name": "stdout"
        }
      ]
    },
    {
      "cell_type": "code",
      "metadata": {
        "id": "SOi-trufdiDy",
        "colab_type": "code",
        "colab": {}
      },
      "source": [
        ""
      ],
      "execution_count": 0,
      "outputs": []
    },
    {
      "cell_type": "code",
      "metadata": {
        "id": "7NyV7Kvfdgfd",
        "colab_type": "code",
        "colab": {}
      },
      "source": [
        ""
      ],
      "execution_count": 0,
      "outputs": []
    },
    {
      "cell_type": "code",
      "metadata": {
        "id": "jxAkK0cKdhOk",
        "colab_type": "code",
        "colab": {}
      },
      "source": [
        ""
      ],
      "execution_count": 0,
      "outputs": []
    }
  ]
}